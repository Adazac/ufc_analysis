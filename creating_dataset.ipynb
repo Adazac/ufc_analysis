{
 "cells": [
  {
   "cell_type": "code",
   "execution_count": 2,
   "id": "19574490",
   "metadata": {},
   "outputs": [],
   "source": [
    "import pandas as pd\n",
    "import numpy as np\n",
    "pd.options.display.max_colwidth = 100\n",
    "from datetime import datetime"
   ]
  },
  {
   "cell_type": "code",
   "execution_count": 2,
   "id": "488a8042",
   "metadata": {},
   "outputs": [],
   "source": [
    "df=pd.read_csv(\"records.csv\")"
   ]
  },
  {
   "cell_type": "code",
   "execution_count": 4,
   "id": "733dd321",
   "metadata": {},
   "outputs": [
    {
     "data": {
      "text/html": [
       "<div>\n",
       "<style scoped>\n",
       "    .dataframe tbody tr th:only-of-type {\n",
       "        vertical-align: middle;\n",
       "    }\n",
       "\n",
       "    .dataframe tbody tr th {\n",
       "        vertical-align: top;\n",
       "    }\n",
       "\n",
       "    .dataframe thead th {\n",
       "        text-align: right;\n",
       "    }\n",
       "</style>\n",
       "<table border=\"1\" class=\"dataframe\">\n",
       "  <thead>\n",
       "    <tr style=\"text-align: right;\">\n",
       "      <th></th>\n",
       "      <th>Fighter</th>\n",
       "      <th>URL</th>\n",
       "      <th>Nationality</th>\n",
       "      <th>Nickname</th>\n",
       "      <th>Birthday</th>\n",
       "      <th>Height ft</th>\n",
       "      <th>Height cm</th>\n",
       "      <th>Opponent</th>\n",
       "      <th>Result</th>\n",
       "      <th>Method</th>\n",
       "      <th>Round</th>\n",
       "      <th>Time</th>\n",
       "      <th>Event</th>\n",
       "      <th>Date</th>\n",
       "      <th>Referee</th>\n",
       "    </tr>\n",
       "  </thead>\n",
       "  <tbody>\n",
       "    <tr>\n",
       "      <th>0</th>\n",
       "      <td>Marcin Tybura</td>\n",
       "      <td>https://www.sherdog.com/fighter/Marcin-Tybura-86928</td>\n",
       "      <td>Poland</td>\n",
       "      <td>Tybur</td>\n",
       "      <td>Nov 9, 1985</td>\n",
       "      <td>6'3\"</td>\n",
       "      <td>190.5 cm</td>\n",
       "      <td>Tai Tuivasa</td>\n",
       "      <td>win</td>\n",
       "      <td>Technical Submission (Rear-Naked Choke)</td>\n",
       "      <td>1</td>\n",
       "      <td>4:08</td>\n",
       "      <td>UFC Fight Night 239 - Tuivasa vs. Tybura</td>\n",
       "      <td>Mar / 16 / 2024</td>\n",
       "      <td>Herb Dean</td>\n",
       "    </tr>\n",
       "    <tr>\n",
       "      <th>1</th>\n",
       "      <td>Marcin Tybura</td>\n",
       "      <td>https://www.sherdog.com/fighter/Marcin-Tybura-86928</td>\n",
       "      <td>Poland</td>\n",
       "      <td>Tybur</td>\n",
       "      <td>Nov 9, 1985</td>\n",
       "      <td>6'3\"</td>\n",
       "      <td>190.5 cm</td>\n",
       "      <td>Tom Aspinall</td>\n",
       "      <td>loss</td>\n",
       "      <td>TKO (Elbow and Punches)</td>\n",
       "      <td>1</td>\n",
       "      <td>1:13</td>\n",
       "      <td>UFC Fight Night 224 - Aspinall vs. Tybura</td>\n",
       "      <td>Jul / 22 / 2023</td>\n",
       "      <td>Marc Goddard</td>\n",
       "    </tr>\n",
       "    <tr>\n",
       "      <th>2</th>\n",
       "      <td>Marcin Tybura</td>\n",
       "      <td>https://www.sherdog.com/fighter/Marcin-Tybura-86928</td>\n",
       "      <td>Poland</td>\n",
       "      <td>Tybur</td>\n",
       "      <td>Nov 9, 1985</td>\n",
       "      <td>6'3\"</td>\n",
       "      <td>190.5 cm</td>\n",
       "      <td>Blagoy Ivanov</td>\n",
       "      <td>win</td>\n",
       "      <td>Decision (Unanimous)</td>\n",
       "      <td>3</td>\n",
       "      <td>5:00</td>\n",
       "      <td>UFC Fight Night 218 - Lewis vs. Spivak</td>\n",
       "      <td>Feb / 04 / 2023</td>\n",
       "      <td>Mark Smith</td>\n",
       "    </tr>\n",
       "    <tr>\n",
       "      <th>3</th>\n",
       "      <td>Marcin Tybura</td>\n",
       "      <td>https://www.sherdog.com/fighter/Marcin-Tybura-86928</td>\n",
       "      <td>Poland</td>\n",
       "      <td>Tybur</td>\n",
       "      <td>Nov 9, 1985</td>\n",
       "      <td>6'3\"</td>\n",
       "      <td>190.5 cm</td>\n",
       "      <td>Alexander Romanov</td>\n",
       "      <td>win</td>\n",
       "      <td>Decision (Majority)</td>\n",
       "      <td>3</td>\n",
       "      <td>5:00</td>\n",
       "      <td>UFC 278 - Usman vs. Edwards 2</td>\n",
       "      <td>Aug / 20 / 2022</td>\n",
       "      <td>Jason Herzog</td>\n",
       "    </tr>\n",
       "    <tr>\n",
       "      <th>4</th>\n",
       "      <td>Marcin Tybura</td>\n",
       "      <td>https://www.sherdog.com/fighter/Marcin-Tybura-86928</td>\n",
       "      <td>Poland</td>\n",
       "      <td>Tybur</td>\n",
       "      <td>Nov 9, 1985</td>\n",
       "      <td>6'3\"</td>\n",
       "      <td>190.5 cm</td>\n",
       "      <td>Alexander Volkov</td>\n",
       "      <td>loss</td>\n",
       "      <td>Decision (Unanimous)</td>\n",
       "      <td>3</td>\n",
       "      <td>5:00</td>\n",
       "      <td>UFC 267 - Blachowicz vs. Teixeira</td>\n",
       "      <td>Oct / 30 / 2021</td>\n",
       "      <td>Marc Goddard</td>\n",
       "    </tr>\n",
       "  </tbody>\n",
       "</table>\n",
       "</div>"
      ],
      "text/plain": [
       "         Fighter                                                  URL  \\\n",
       "0  Marcin Tybura  https://www.sherdog.com/fighter/Marcin-Tybura-86928   \n",
       "1  Marcin Tybura  https://www.sherdog.com/fighter/Marcin-Tybura-86928   \n",
       "2  Marcin Tybura  https://www.sherdog.com/fighter/Marcin-Tybura-86928   \n",
       "3  Marcin Tybura  https://www.sherdog.com/fighter/Marcin-Tybura-86928   \n",
       "4  Marcin Tybura  https://www.sherdog.com/fighter/Marcin-Tybura-86928   \n",
       "\n",
       "  Nationality Nickname     Birthday Height ft  Height cm           Opponent  \\\n",
       "0      Poland    Tybur  Nov 9, 1985      6'3\"   190.5 cm        Tai Tuivasa   \n",
       "1      Poland    Tybur  Nov 9, 1985      6'3\"   190.5 cm       Tom Aspinall   \n",
       "2      Poland    Tybur  Nov 9, 1985      6'3\"   190.5 cm      Blagoy Ivanov   \n",
       "3      Poland    Tybur  Nov 9, 1985      6'3\"   190.5 cm  Alexander Romanov   \n",
       "4      Poland    Tybur  Nov 9, 1985      6'3\"   190.5 cm   Alexander Volkov   \n",
       "\n",
       "  Result                                   Method  Round  Time  \\\n",
       "0    win  Technical Submission (Rear-Naked Choke)      1  4:08   \n",
       "1   loss                  TKO (Elbow and Punches)      1  1:13   \n",
       "2    win                     Decision (Unanimous)      3  5:00   \n",
       "3    win                      Decision (Majority)      3  5:00   \n",
       "4   loss                     Decision (Unanimous)      3  5:00   \n",
       "\n",
       "                                       Event             Date       Referee  \n",
       "0   UFC Fight Night 239 - Tuivasa vs. Tybura  Mar / 16 / 2024     Herb Dean  \n",
       "1  UFC Fight Night 224 - Aspinall vs. Tybura  Jul / 22 / 2023  Marc Goddard  \n",
       "2     UFC Fight Night 218 - Lewis vs. Spivak  Feb / 04 / 2023    Mark Smith  \n",
       "3              UFC 278 - Usman vs. Edwards 2  Aug / 20 / 2022  Jason Herzog  \n",
       "4          UFC 267 - Blachowicz vs. Teixeira  Oct / 30 / 2021  Marc Goddard  "
      ]
     },
     "execution_count": 4,
     "metadata": {},
     "output_type": "execute_result"
    }
   ],
   "source": [
    "df.head()"
   ]
  },
  {
   "cell_type": "markdown",
   "id": "60834323",
   "metadata": {},
   "source": [
    "We have to check that there is no URL leading to two fighters, it would mean that we scraped data from two different fighters from one URL"
   ]
  },
  {
   "cell_type": "code",
   "execution_count": 3,
   "id": "49e598fe",
   "metadata": {},
   "outputs": [
    {
     "name": "stdout",
     "output_type": "stream",
     "text": [
      "Empty DataFrame\n",
      "Columns: [Fighter, URL]\n",
      "Index: []\n"
     ]
    }
   ],
   "source": [
    "filtered_df = df.groupby('URL').filter(lambda x: len(x['Fighter'].unique()) > 1)\n",
    "print(filtered_df[['Fighter', \"URL\"]])"
   ]
  },
  {
   "cell_type": "code",
   "execution_count": 4,
   "id": "22fdc0cf",
   "metadata": {
    "scrolled": true
   },
   "outputs": [
    {
     "name": "stdout",
     "output_type": "stream",
     "text": [
      "<class 'pandas.core.frame.DataFrame'>\n",
      "RangeIndex: 54860 entries, 0 to 54859\n",
      "Data columns (total 15 columns):\n",
      " #   Column       Non-Null Count  Dtype \n",
      "---  ------       --------------  ----- \n",
      " 0   Fighter      54860 non-null  object\n",
      " 1   URL          54860 non-null  object\n",
      " 2   Nationality  54845 non-null  object\n",
      " 3   Nickname     41907 non-null  object\n",
      " 4   Birthday     54073 non-null  object\n",
      " 5   Height ft    54744 non-null  object\n",
      " 6   Height cm    54744 non-null  object\n",
      " 7   Opponent     54860 non-null  object\n",
      " 8   Result       54860 non-null  object\n",
      " 9   Method       54764 non-null  object\n",
      " 10  Round        54860 non-null  int64 \n",
      " 11  Time         53665 non-null  object\n",
      " 12  Event        54860 non-null  object\n",
      " 13  Date         54860 non-null  object\n",
      " 14  Referee      35550 non-null  object\n",
      "dtypes: int64(1), object(14)\n",
      "memory usage: 6.3+ MB\n"
     ]
    }
   ],
   "source": [
    "df.info()"
   ]
  },
  {
   "cell_type": "code",
   "execution_count": 5,
   "id": "bc1bdd3b",
   "metadata": {},
   "outputs": [
    {
     "data": {
      "text/plain": [
       "Index(['Fighter', 'URL', 'Nationality', 'Nickname', 'Birthday', 'Height ft',\n",
       "       'Height cm', 'Opponent', 'Result', 'Method', 'Round', 'Time', 'Event',\n",
       "       'Date', 'Referee'],\n",
       "      dtype='object')"
      ]
     },
     "execution_count": 5,
     "metadata": {},
     "output_type": "execute_result"
    }
   ],
   "source": [
    "df.columns"
   ]
  },
  {
   "cell_type": "markdown",
   "id": "75b410db",
   "metadata": {},
   "source": [
    "### Fitting Methods into 4 possible categories - Decision, KO/TKO, Submission and No contest"
   ]
  },
  {
   "cell_type": "markdown",
   "id": "ce66e348",
   "metadata": {},
   "source": [
    "Below we can see that there is too many Method categories"
   ]
  },
  {
   "cell_type": "code",
   "execution_count": 6,
   "id": "b03ccf62",
   "metadata": {},
   "outputs": [
    {
     "data": {
      "text/plain": [
       "Method\n",
       "Decision (Unanimous)                             13165\n",
       "TKO (Punches)                                     8885\n",
       "Submission (Rear-Naked Choke)                     5098\n",
       "Decision (Split)                                  3086\n",
       "Submission (Armbar)                               2613\n",
       "                                                 ...  \n",
       "No Contest (Llamas Injured by Illegal Strike)        1\n",
       "Submission (Knee and Punches)                        1\n",
       "No Contest(Accidental Elbow to Back of Head)         1\n",
       "DQ (Intentional Headbutt)                            1\n",
       "Submission (Leg Kicks)                               1\n",
       "Name: count, Length: 733, dtype: int64"
      ]
     },
     "execution_count": 6,
     "metadata": {},
     "output_type": "execute_result"
    }
   ],
   "source": [
    "df[\"Method\"].value_counts()"
   ]
  },
  {
   "cell_type": "markdown",
   "id": "37da1742",
   "metadata": {},
   "source": [
    "First we need to extract the description and store it into new column."
   ]
  },
  {
   "cell_type": "code",
   "execution_count": 7,
   "id": "6bd1ac7e",
   "metadata": {
    "scrolled": true
   },
   "outputs": [
    {
     "data": {
      "text/html": [
       "<div>\n",
       "<style scoped>\n",
       "    .dataframe tbody tr th:only-of-type {\n",
       "        vertical-align: middle;\n",
       "    }\n",
       "\n",
       "    .dataframe tbody tr th {\n",
       "        vertical-align: top;\n",
       "    }\n",
       "\n",
       "    .dataframe thead th {\n",
       "        text-align: right;\n",
       "    }\n",
       "</style>\n",
       "<table border=\"1\" class=\"dataframe\">\n",
       "  <thead>\n",
       "    <tr style=\"text-align: right;\">\n",
       "      <th></th>\n",
       "      <th>Fighter</th>\n",
       "      <th>URL</th>\n",
       "      <th>Nationality</th>\n",
       "      <th>Nickname</th>\n",
       "      <th>Birthday</th>\n",
       "      <th>Height ft</th>\n",
       "      <th>Height cm</th>\n",
       "      <th>Opponent</th>\n",
       "      <th>Result</th>\n",
       "      <th>Method</th>\n",
       "      <th>Round</th>\n",
       "      <th>Time</th>\n",
       "      <th>Event</th>\n",
       "      <th>Date</th>\n",
       "      <th>Referee</th>\n",
       "    </tr>\n",
       "  </thead>\n",
       "  <tbody>\n",
       "    <tr>\n",
       "      <th>0</th>\n",
       "      <td>Marcin Tybura</td>\n",
       "      <td>https://www.sherdog.com/fighter/Marcin-Tybura-86928</td>\n",
       "      <td>Poland</td>\n",
       "      <td>Tybur</td>\n",
       "      <td>Nov 9, 1985</td>\n",
       "      <td>6'3\"</td>\n",
       "      <td>190.5 cm</td>\n",
       "      <td>Tai Tuivasa</td>\n",
       "      <td>win</td>\n",
       "      <td>Technical Submission (Rear-Naked Choke)</td>\n",
       "      <td>1</td>\n",
       "      <td>4:08</td>\n",
       "      <td>UFC Fight Night 239 - Tuivasa vs. Tybura</td>\n",
       "      <td>Mar / 16 / 2024</td>\n",
       "      <td>Herb Dean</td>\n",
       "    </tr>\n",
       "    <tr>\n",
       "      <th>1</th>\n",
       "      <td>Marcin Tybura</td>\n",
       "      <td>https://www.sherdog.com/fighter/Marcin-Tybura-86928</td>\n",
       "      <td>Poland</td>\n",
       "      <td>Tybur</td>\n",
       "      <td>Nov 9, 1985</td>\n",
       "      <td>6'3\"</td>\n",
       "      <td>190.5 cm</td>\n",
       "      <td>Tom Aspinall</td>\n",
       "      <td>loss</td>\n",
       "      <td>TKO (Elbow and Punches)</td>\n",
       "      <td>1</td>\n",
       "      <td>1:13</td>\n",
       "      <td>UFC Fight Night 224 - Aspinall vs. Tybura</td>\n",
       "      <td>Jul / 22 / 2023</td>\n",
       "      <td>Marc Goddard</td>\n",
       "    </tr>\n",
       "    <tr>\n",
       "      <th>2</th>\n",
       "      <td>Marcin Tybura</td>\n",
       "      <td>https://www.sherdog.com/fighter/Marcin-Tybura-86928</td>\n",
       "      <td>Poland</td>\n",
       "      <td>Tybur</td>\n",
       "      <td>Nov 9, 1985</td>\n",
       "      <td>6'3\"</td>\n",
       "      <td>190.5 cm</td>\n",
       "      <td>Blagoy Ivanov</td>\n",
       "      <td>win</td>\n",
       "      <td>Decision (Unanimous)</td>\n",
       "      <td>3</td>\n",
       "      <td>5:00</td>\n",
       "      <td>UFC Fight Night 218 - Lewis vs. Spivak</td>\n",
       "      <td>Feb / 04 / 2023</td>\n",
       "      <td>Mark Smith</td>\n",
       "    </tr>\n",
       "    <tr>\n",
       "      <th>3</th>\n",
       "      <td>Marcin Tybura</td>\n",
       "      <td>https://www.sherdog.com/fighter/Marcin-Tybura-86928</td>\n",
       "      <td>Poland</td>\n",
       "      <td>Tybur</td>\n",
       "      <td>Nov 9, 1985</td>\n",
       "      <td>6'3\"</td>\n",
       "      <td>190.5 cm</td>\n",
       "      <td>Alexander Romanov</td>\n",
       "      <td>win</td>\n",
       "      <td>Decision (Majority)</td>\n",
       "      <td>3</td>\n",
       "      <td>5:00</td>\n",
       "      <td>UFC 278 - Usman vs. Edwards 2</td>\n",
       "      <td>Aug / 20 / 2022</td>\n",
       "      <td>Jason Herzog</td>\n",
       "    </tr>\n",
       "    <tr>\n",
       "      <th>4</th>\n",
       "      <td>Marcin Tybura</td>\n",
       "      <td>https://www.sherdog.com/fighter/Marcin-Tybura-86928</td>\n",
       "      <td>Poland</td>\n",
       "      <td>Tybur</td>\n",
       "      <td>Nov 9, 1985</td>\n",
       "      <td>6'3\"</td>\n",
       "      <td>190.5 cm</td>\n",
       "      <td>Alexander Volkov</td>\n",
       "      <td>loss</td>\n",
       "      <td>Decision (Unanimous)</td>\n",
       "      <td>3</td>\n",
       "      <td>5:00</td>\n",
       "      <td>UFC 267 - Blachowicz vs. Teixeira</td>\n",
       "      <td>Oct / 30 / 2021</td>\n",
       "      <td>Marc Goddard</td>\n",
       "    </tr>\n",
       "    <tr>\n",
       "      <th>...</th>\n",
       "      <td>...</td>\n",
       "      <td>...</td>\n",
       "      <td>...</td>\n",
       "      <td>...</td>\n",
       "      <td>...</td>\n",
       "      <td>...</td>\n",
       "      <td>...</td>\n",
       "      <td>...</td>\n",
       "      <td>...</td>\n",
       "      <td>...</td>\n",
       "      <td>...</td>\n",
       "      <td>...</td>\n",
       "      <td>...</td>\n",
       "      <td>...</td>\n",
       "      <td>...</td>\n",
       "    </tr>\n",
       "    <tr>\n",
       "      <th>54855</th>\n",
       "      <td>Razak Al-Hassan</td>\n",
       "      <td>https://www.sherdog.com/fighter/Razak-AlHassan-23326</td>\n",
       "      <td>United States</td>\n",
       "      <td>Razor</td>\n",
       "      <td>May 14, 1982</td>\n",
       "      <td>6'3\"</td>\n",
       "      <td>190.5 cm</td>\n",
       "      <td>Todd Monaghan</td>\n",
       "      <td>win</td>\n",
       "      <td>TKO (Doctor Stoppage)</td>\n",
       "      <td>2</td>\n",
       "      <td>5:00</td>\n",
       "      <td>Mainstream MMA 9 - New Era</td>\n",
       "      <td>Apr / 05 / 2008</td>\n",
       "      <td>NaN</td>\n",
       "    </tr>\n",
       "    <tr>\n",
       "      <th>54856</th>\n",
       "      <td>Razak Al-Hassan</td>\n",
       "      <td>https://www.sherdog.com/fighter/Razak-AlHassan-23326</td>\n",
       "      <td>United States</td>\n",
       "      <td>Razor</td>\n",
       "      <td>May 14, 1982</td>\n",
       "      <td>6'3\"</td>\n",
       "      <td>190.5 cm</td>\n",
       "      <td>Eric Daughetee</td>\n",
       "      <td>win</td>\n",
       "      <td>Decision (Unanimous)</td>\n",
       "      <td>3</td>\n",
       "      <td>5:00</td>\n",
       "      <td>Mainstream MMA 6 - Evolution</td>\n",
       "      <td>Jul / 14 / 2007</td>\n",
       "      <td>NaN</td>\n",
       "    </tr>\n",
       "    <tr>\n",
       "      <th>54857</th>\n",
       "      <td>Razak Al-Hassan</td>\n",
       "      <td>https://www.sherdog.com/fighter/Razak-AlHassan-23326</td>\n",
       "      <td>United States</td>\n",
       "      <td>Razor</td>\n",
       "      <td>May 14, 1982</td>\n",
       "      <td>6'3\"</td>\n",
       "      <td>190.5 cm</td>\n",
       "      <td>Demetrius Worlds</td>\n",
       "      <td>win</td>\n",
       "      <td>Submission (Rear-Naked Choke)</td>\n",
       "      <td>3</td>\n",
       "      <td>1:01</td>\n",
       "      <td>TFC - Title Fighting Championships</td>\n",
       "      <td>Jun / 30 / 2007</td>\n",
       "      <td>NaN</td>\n",
       "    </tr>\n",
       "    <tr>\n",
       "      <th>54858</th>\n",
       "      <td>Razak Al-Hassan</td>\n",
       "      <td>https://www.sherdog.com/fighter/Razak-AlHassan-23326</td>\n",
       "      <td>United States</td>\n",
       "      <td>Razor</td>\n",
       "      <td>May 14, 1982</td>\n",
       "      <td>6'3\"</td>\n",
       "      <td>190.5 cm</td>\n",
       "      <td>Trevor Michaelis</td>\n",
       "      <td>win</td>\n",
       "      <td>Submission (Rear-Naked Choke)</td>\n",
       "      <td>1</td>\n",
       "      <td>2:01</td>\n",
       "      <td>ECF - March of Champions</td>\n",
       "      <td>Mar / 24 / 2007</td>\n",
       "      <td>NaN</td>\n",
       "    </tr>\n",
       "    <tr>\n",
       "      <th>54859</th>\n",
       "      <td>Razak Al-Hassan</td>\n",
       "      <td>https://www.sherdog.com/fighter/Razak-AlHassan-23326</td>\n",
       "      <td>United States</td>\n",
       "      <td>Razor</td>\n",
       "      <td>May 14, 1982</td>\n",
       "      <td>6'3\"</td>\n",
       "      <td>190.5 cm</td>\n",
       "      <td>Andy Stock</td>\n",
       "      <td>win</td>\n",
       "      <td>Submission (Leg Kicks)</td>\n",
       "      <td>1</td>\n",
       "      <td>0:54</td>\n",
       "      <td>RFN 2 - Royalty Fight Night 2</td>\n",
       "      <td>Feb / 10 / 2007</td>\n",
       "      <td>NaN</td>\n",
       "    </tr>\n",
       "  </tbody>\n",
       "</table>\n",
       "<p>54860 rows × 15 columns</p>\n",
       "</div>"
      ],
      "text/plain": [
       "               Fighter                                                   URL  \\\n",
       "0        Marcin Tybura   https://www.sherdog.com/fighter/Marcin-Tybura-86928   \n",
       "1        Marcin Tybura   https://www.sherdog.com/fighter/Marcin-Tybura-86928   \n",
       "2        Marcin Tybura   https://www.sherdog.com/fighter/Marcin-Tybura-86928   \n",
       "3        Marcin Tybura   https://www.sherdog.com/fighter/Marcin-Tybura-86928   \n",
       "4        Marcin Tybura   https://www.sherdog.com/fighter/Marcin-Tybura-86928   \n",
       "...                ...                                                   ...   \n",
       "54855  Razak Al-Hassan  https://www.sherdog.com/fighter/Razak-AlHassan-23326   \n",
       "54856  Razak Al-Hassan  https://www.sherdog.com/fighter/Razak-AlHassan-23326   \n",
       "54857  Razak Al-Hassan  https://www.sherdog.com/fighter/Razak-AlHassan-23326   \n",
       "54858  Razak Al-Hassan  https://www.sherdog.com/fighter/Razak-AlHassan-23326   \n",
       "54859  Razak Al-Hassan  https://www.sherdog.com/fighter/Razak-AlHassan-23326   \n",
       "\n",
       "         Nationality Nickname      Birthday Height ft  Height cm  \\\n",
       "0             Poland    Tybur   Nov 9, 1985      6'3\"   190.5 cm   \n",
       "1             Poland    Tybur   Nov 9, 1985      6'3\"   190.5 cm   \n",
       "2             Poland    Tybur   Nov 9, 1985      6'3\"   190.5 cm   \n",
       "3             Poland    Tybur   Nov 9, 1985      6'3\"   190.5 cm   \n",
       "4             Poland    Tybur   Nov 9, 1985      6'3\"   190.5 cm   \n",
       "...              ...      ...           ...       ...        ...   \n",
       "54855  United States    Razor  May 14, 1982      6'3\"   190.5 cm   \n",
       "54856  United States    Razor  May 14, 1982      6'3\"   190.5 cm   \n",
       "54857  United States    Razor  May 14, 1982      6'3\"   190.5 cm   \n",
       "54858  United States    Razor  May 14, 1982      6'3\"   190.5 cm   \n",
       "54859  United States    Razor  May 14, 1982      6'3\"   190.5 cm   \n",
       "\n",
       "                Opponent Result                                   Method  \\\n",
       "0            Tai Tuivasa    win  Technical Submission (Rear-Naked Choke)   \n",
       "1           Tom Aspinall   loss                  TKO (Elbow and Punches)   \n",
       "2          Blagoy Ivanov    win                     Decision (Unanimous)   \n",
       "3      Alexander Romanov    win                      Decision (Majority)   \n",
       "4       Alexander Volkov   loss                     Decision (Unanimous)   \n",
       "...                  ...    ...                                      ...   \n",
       "54855      Todd Monaghan    win                    TKO (Doctor Stoppage)   \n",
       "54856     Eric Daughetee    win                     Decision (Unanimous)   \n",
       "54857   Demetrius Worlds    win            Submission (Rear-Naked Choke)   \n",
       "54858   Trevor Michaelis    win            Submission (Rear-Naked Choke)   \n",
       "54859         Andy Stock    win                   Submission (Leg Kicks)   \n",
       "\n",
       "       Round  Time                                      Event  \\\n",
       "0          1  4:08   UFC Fight Night 239 - Tuivasa vs. Tybura   \n",
       "1          1  1:13  UFC Fight Night 224 - Aspinall vs. Tybura   \n",
       "2          3  5:00     UFC Fight Night 218 - Lewis vs. Spivak   \n",
       "3          3  5:00              UFC 278 - Usman vs. Edwards 2   \n",
       "4          3  5:00          UFC 267 - Blachowicz vs. Teixeira   \n",
       "...      ...   ...                                        ...   \n",
       "54855      2  5:00                 Mainstream MMA 9 - New Era   \n",
       "54856      3  5:00               Mainstream MMA 6 - Evolution   \n",
       "54857      3  1:01         TFC - Title Fighting Championships   \n",
       "54858      1  2:01                   ECF - March of Champions   \n",
       "54859      1  0:54              RFN 2 - Royalty Fight Night 2   \n",
       "\n",
       "                  Date       Referee  \n",
       "0      Mar / 16 / 2024     Herb Dean  \n",
       "1      Jul / 22 / 2023  Marc Goddard  \n",
       "2      Feb / 04 / 2023    Mark Smith  \n",
       "3      Aug / 20 / 2022  Jason Herzog  \n",
       "4      Oct / 30 / 2021  Marc Goddard  \n",
       "...                ...           ...  \n",
       "54855  Apr / 05 / 2008           NaN  \n",
       "54856  Jul / 14 / 2007           NaN  \n",
       "54857  Jun / 30 / 2007           NaN  \n",
       "54858  Mar / 24 / 2007           NaN  \n",
       "54859  Feb / 10 / 2007           NaN  \n",
       "\n",
       "[54860 rows x 15 columns]"
      ]
     },
     "execution_count": 7,
     "metadata": {},
     "output_type": "execute_result"
    }
   ],
   "source": [
    "df"
   ]
  },
  {
   "cell_type": "code",
   "execution_count": 8,
   "id": "63e12c93",
   "metadata": {},
   "outputs": [],
   "source": [
    "df['Description'] = df['Method'].str.extract(r'\\((.*?)\\)', expand=False)\n",
    "df[\"Method\"].replace(r'\\((.*?)\\)', \"\", regex=True, inplace=True)"
   ]
  },
  {
   "cell_type": "markdown",
   "id": "9c207bb9",
   "metadata": {},
   "source": [
    "We strip the columns from whitespaces."
   ]
  },
  {
   "cell_type": "code",
   "execution_count": 9,
   "id": "10afd541",
   "metadata": {},
   "outputs": [],
   "source": [
    "df[\"Method\"]=df[\"Method\"].str.strip()\n",
    "df[\"Description\"]=df[\"Description\"].str.strip()"
   ]
  },
  {
   "cell_type": "code",
   "execution_count": 10,
   "id": "16b5fcf7",
   "metadata": {
    "scrolled": true
   },
   "outputs": [
    {
     "name": "stdout",
     "output_type": "stream",
     "text": [
      "Method\n",
      "Decision                                 17135\n",
      "Submission                               15501\n",
      "TKO                                      14323\n",
      "KO                                        5693\n",
      "Technical Submission                       710\n",
      "Draw                                       674\n",
      "No Contest                                 409\n",
      "Disqualification                           141\n",
      "DQ                                          64\n",
      "Technical Decision                          54\n",
      "NC                                          43\n",
      "Technical Draw                               8\n",
      "ND                                           2\n",
      "No Decision - Overturned by CSAC             1\n",
      "No Contest - Collard Failed Drug Test        1\n",
      "K.O                                          1\n",
      "DG                                           1\n",
      "Submission (Rear-Naked Choke                 1\n",
      "Techinal Submission                          1\n",
      "No Decision                                  1\n",
      "Name: count, dtype: int64\n"
     ]
    }
   ],
   "source": [
    "print(df[\"Method\"].value_counts())"
   ]
  },
  {
   "cell_type": "markdown",
   "id": "b8a00806",
   "metadata": {},
   "source": [
    "There is way less categories now, but there are still some categories that can be merged to follow common practices.\n",
    "1. \"KO\" and \"TKO\" can be merched together into \"KO/TKO\", \"K.O\" is a typo and also belong in this category\n",
    "2. \"Submission\" and \"Technical submission\" can be merged into \"Submission\", \"Techinal Submission\" and \"Submission (Rear-Naked Choke\" is a typo and also belong in this category\n",
    "3. \"Draw\" shouldnt be in \"Method\" column, it is a \"Result\" and all draws are \"Decision\"\n",
    "4. \"No Contest\", \"NC\", \"No Decision - Overturned by CSAC\", \"No Contest - Collard Failed Drug Test\", \"No Decision\" and \"ND\" can be all merged as \"No Contest\", we will later get rid of them anyway as they mean that the match doesnt have any result\n",
    "5. \"Technical Decision\" can be merged with \"Decision\" as it is only a different type of decision\n",
    "6. \"Disqualification\" and \"DQ\" are commonly counted as \"KO/TKO\" so we can merge them as well, \"DG\" is a typo and also belong in this category\n",
    "7. We will count \"Technical Draw\" as \"Decision\" as was stated in point 3.\n"
   ]
  },
  {
   "cell_type": "code",
   "execution_count": 11,
   "id": "10a56ee7",
   "metadata": {},
   "outputs": [],
   "source": [
    "# 1\n",
    "df.loc[df[\"Method\"] == \"TKO\", \"Method\"] = \"KO/TKO\"\n",
    "df.loc[df[\"Method\"] == \"KO\", \"Method\"] = \"KO/TKO\"\n",
    "df.loc[df[\"Method\"] == \"K.O\", \"Method\"] = \"KO/TKO\"\n",
    "# 2\n",
    "df.loc[df[\"Method\"] == \"Technical Submission\", \"Method\"] = \"Submission\"\n",
    "df.loc[df[\"Method\"] == \"Techinal Submission\", \"Method\"] = \"Submission\"\n",
    "df.loc[df[\"Method\"] == \"Submission (Rear-Naked Choke\", \"Method\"] = \"Submission\"\n",
    "# 3\n",
    "df.loc[df[\"Method\"] == \"Draw\", \"Method\"] = \"Decision\"\n",
    "# 4\n",
    "df.loc[df[\"Method\"] == \"NC\", \"Method\"] = \"No Contest\"\n",
    "df.loc[df[\"Method\"] == \"No Decision - Overturned by CSAC\", \"Method\"] = \"No Contest\"\n",
    "df.loc[df[\"Method\"] == \"No Decision\", \"Method\"] = \"No Contest\"\n",
    "df.loc[df[\"Method\"] == \"ND\", \"Method\"] = \"No Contest\"\n",
    "df.loc[df[\"Method\"] == \"No Contest - Collard Failed Drug Test\", \"Method\"] = \"No Contest\"\n",
    "# 5\n",
    "df.loc[df[\"Method\"] == \"Technical Decision\", \"Method\"] = \"Decision\"\n",
    "# 6\n",
    "df.loc[df[\"Method\"] == \"Disqualification\", \"Method\"] = \"KO/TKO\"\n",
    "df.loc[df[\"Method\"] == \"DQ\", \"Method\"] = \"KO/TKO\"\n",
    "df.loc[df[\"Method\"] == \"DG\", \"Method\"] = \"KO/TKO\"\n",
    "# 7\n",
    "df.loc[df[\"Method\"] == \"Technical Draw\", \"Method\"] = \"Decision\""
   ]
  },
  {
   "cell_type": "code",
   "execution_count": 12,
   "id": "1102b175",
   "metadata": {},
   "outputs": [
    {
     "name": "stdout",
     "output_type": "stream",
     "text": [
      "Method\n",
      "KO/TKO        20223\n",
      "Decision      17871\n",
      "Submission    16213\n",
      "No Contest      457\n",
      "Name: count, dtype: int64\n"
     ]
    }
   ],
   "source": [
    "print(df[\"Method\"].value_counts())"
   ]
  },
  {
   "cell_type": "markdown",
   "id": "24482994",
   "metadata": {},
   "source": [
    "We have successfully fitted the methods into 4 categories "
   ]
  },
  {
   "cell_type": "markdown",
   "id": "69f7eb94",
   "metadata": {},
   "source": [
    "### We can check other columns for more insight"
   ]
  },
  {
   "cell_type": "code",
   "execution_count": 13,
   "id": "4051b89a",
   "metadata": {},
   "outputs": [
    {
     "name": "stdout",
     "output_type": "stream",
     "text": [
      "Result\n",
      "win     37299\n",
      "loss    16420\n",
      "draw      684\n",
      "NC        457\n",
      "Name: count, dtype: int64\n"
     ]
    }
   ],
   "source": [
    "print(df[\"Result\"].value_counts())"
   ]
  },
  {
   "cell_type": "markdown",
   "id": "f36e1db7",
   "metadata": {},
   "source": [
    "we can see that results correspond with methods in the NC - No Contest count"
   ]
  },
  {
   "cell_type": "code",
   "execution_count": 14,
   "id": "afdb6239",
   "metadata": {},
   "outputs": [
    {
     "name": "stdout",
     "output_type": "stream",
     "text": [
      "Fighter\n",
      "Travis Fulton       320\n",
      "Dan Severn          127\n",
      "Jeremy Horn         120\n",
      "Ikuhisa Minowa      116\n",
      "Yuki Kondo          115\n",
      "                   ... \n",
      "Dave Berry            1\n",
      "Scott Fiedler         1\n",
      "Thomas Ramirez        1\n",
      "Francesco Maturi      1\n",
      "John Campatella       1\n",
      "Name: count, Length: 2479, dtype: int64\n",
      "URL\n",
      "https://www.sherdog.com/fighter/Travis-Fulton-80        320\n",
      "https://www.sherdog.com/fighter/Dan-Severn-52           127\n",
      "https://www.sherdog.com/fighter/Jeremy-Horn-202         120\n",
      "https://www.sherdog.com/fighter/Ikuhisa-Minowa-250      116\n",
      "https://www.sherdog.com/fighter/Yuki-Kondo-263          115\n",
      "                                                       ... \n",
      "https://www.sherdog.com/fighter/Dave-Berry-143            1\n",
      "https://www.sherdog.com/fighter/Scott-Fiedler-138         1\n",
      "https://www.sherdog.com/fighter/Thomas-Ramirez-125        1\n",
      "https://www.sherdog.com/fighter/Francesco-Maturi-117      1\n",
      "https://www.sherdog.com/fighter/John-Campetella-140       1\n",
      "Name: count, Length: 2479, dtype: int64\n"
     ]
    }
   ],
   "source": [
    "print(df[\"Fighter\"].value_counts())\n",
    "print(df[\"URL\"].value_counts())"
   ]
  },
  {
   "cell_type": "markdown",
   "id": "6faf750c",
   "metadata": {},
   "source": [
    "We can see that \"Fighter\" and \"URL\" value counts have the same lenght, which is good, because both columns are unique identificators."
   ]
  },
  {
   "cell_type": "markdown",
   "id": "d495e825",
   "metadata": {},
   "source": [
    "We are finished so we can save the table."
   ]
  },
  {
   "cell_type": "code",
   "execution_count": 15,
   "id": "6216589b",
   "metadata": {},
   "outputs": [],
   "source": [
    "df.to_csv(\"records_clean.csv\", index=False)"
   ]
  },
  {
   "cell_type": "markdown",
   "id": "f7e3dd68",
   "metadata": {},
   "source": [
    "# Connecting two datasets - \"records_clean.csv\" and \"bouts_new.csv\""
   ]
  },
  {
   "cell_type": "markdown",
   "id": "1b57373b",
   "metadata": {},
   "source": [
    "Now we will use this table to calculate fighters records at the time of their fights in the ufc and connect them to the bouts dataset with additional info about fighters.\n",
    "\n",
    "In records we will focus on:\n",
    "1. wins by submission,\n",
    "2. losses by submission,\n",
    "3. wins by ko/tko,\n",
    "4. losses by ko/tko,\n",
    "5. wins by decision,\n",
    "6. losses by decision,\n",
    "7. draws\n",
    "\n",
    "for both \"Fighter A\" and \"Fighter B\".\n",
    "\n",
    "For additional info we will connect:\n",
    "1. nationality,\n",
    "2. birthday,\n",
    "3. referee\n",
    "\n",
    "for both \"Fighter A\" and \"Fighter B\".\n"
   ]
  },
  {
   "cell_type": "code",
   "execution_count": 5,
   "id": "5436e54a",
   "metadata": {},
   "outputs": [],
   "source": [
    "records = pd.read_csv(\"records_clean.csv\")\n",
    "bouts = pd.read_csv(\"bouts_new.csv\")"
   ]
  },
  {
   "cell_type": "code",
   "execution_count": 6,
   "id": "6da3aed8",
   "metadata": {},
   "outputs": [
    {
     "data": {
      "text/html": [
       "<div>\n",
       "<style scoped>\n",
       "    .dataframe tbody tr th:only-of-type {\n",
       "        vertical-align: middle;\n",
       "    }\n",
       "\n",
       "    .dataframe tbody tr th {\n",
       "        vertical-align: top;\n",
       "    }\n",
       "\n",
       "    .dataframe thead th {\n",
       "        text-align: right;\n",
       "    }\n",
       "</style>\n",
       "<table border=\"1\" class=\"dataframe\">\n",
       "  <thead>\n",
       "    <tr style=\"text-align: right;\">\n",
       "      <th></th>\n",
       "      <th>Fighter</th>\n",
       "      <th>URL</th>\n",
       "      <th>Nationality</th>\n",
       "      <th>Nickname</th>\n",
       "      <th>Birthday</th>\n",
       "      <th>Height ft</th>\n",
       "      <th>Height cm</th>\n",
       "      <th>Opponent</th>\n",
       "      <th>Result</th>\n",
       "      <th>Method</th>\n",
       "      <th>Round</th>\n",
       "      <th>Time</th>\n",
       "      <th>Event</th>\n",
       "      <th>Date</th>\n",
       "      <th>Referee</th>\n",
       "      <th>Description</th>\n",
       "    </tr>\n",
       "  </thead>\n",
       "  <tbody>\n",
       "    <tr>\n",
       "      <th>0</th>\n",
       "      <td>Marcin Tybura</td>\n",
       "      <td>https://www.sherdog.com/fighter/Marcin-Tybura-86928</td>\n",
       "      <td>Poland</td>\n",
       "      <td>Tybur</td>\n",
       "      <td>Nov 9, 1985</td>\n",
       "      <td>6'3\"</td>\n",
       "      <td>190.5 cm</td>\n",
       "      <td>Tai Tuivasa</td>\n",
       "      <td>win</td>\n",
       "      <td>Submission</td>\n",
       "      <td>1</td>\n",
       "      <td>4:08</td>\n",
       "      <td>UFC Fight Night 239 - Tuivasa vs. Tybura</td>\n",
       "      <td>Mar / 16 / 2024</td>\n",
       "      <td>Herb Dean</td>\n",
       "      <td>Rear-Naked Choke</td>\n",
       "    </tr>\n",
       "    <tr>\n",
       "      <th>1</th>\n",
       "      <td>Marcin Tybura</td>\n",
       "      <td>https://www.sherdog.com/fighter/Marcin-Tybura-86928</td>\n",
       "      <td>Poland</td>\n",
       "      <td>Tybur</td>\n",
       "      <td>Nov 9, 1985</td>\n",
       "      <td>6'3\"</td>\n",
       "      <td>190.5 cm</td>\n",
       "      <td>Tom Aspinall</td>\n",
       "      <td>loss</td>\n",
       "      <td>KO/TKO</td>\n",
       "      <td>1</td>\n",
       "      <td>1:13</td>\n",
       "      <td>UFC Fight Night 224 - Aspinall vs. Tybura</td>\n",
       "      <td>Jul / 22 / 2023</td>\n",
       "      <td>Marc Goddard</td>\n",
       "      <td>Elbow and Punches</td>\n",
       "    </tr>\n",
       "    <tr>\n",
       "      <th>2</th>\n",
       "      <td>Marcin Tybura</td>\n",
       "      <td>https://www.sherdog.com/fighter/Marcin-Tybura-86928</td>\n",
       "      <td>Poland</td>\n",
       "      <td>Tybur</td>\n",
       "      <td>Nov 9, 1985</td>\n",
       "      <td>6'3\"</td>\n",
       "      <td>190.5 cm</td>\n",
       "      <td>Blagoy Ivanov</td>\n",
       "      <td>win</td>\n",
       "      <td>Decision</td>\n",
       "      <td>3</td>\n",
       "      <td>5:00</td>\n",
       "      <td>UFC Fight Night 218 - Lewis vs. Spivak</td>\n",
       "      <td>Feb / 04 / 2023</td>\n",
       "      <td>Mark Smith</td>\n",
       "      <td>Unanimous</td>\n",
       "    </tr>\n",
       "    <tr>\n",
       "      <th>3</th>\n",
       "      <td>Marcin Tybura</td>\n",
       "      <td>https://www.sherdog.com/fighter/Marcin-Tybura-86928</td>\n",
       "      <td>Poland</td>\n",
       "      <td>Tybur</td>\n",
       "      <td>Nov 9, 1985</td>\n",
       "      <td>6'3\"</td>\n",
       "      <td>190.5 cm</td>\n",
       "      <td>Alexander Romanov</td>\n",
       "      <td>win</td>\n",
       "      <td>Decision</td>\n",
       "      <td>3</td>\n",
       "      <td>5:00</td>\n",
       "      <td>UFC 278 - Usman vs. Edwards 2</td>\n",
       "      <td>Aug / 20 / 2022</td>\n",
       "      <td>Jason Herzog</td>\n",
       "      <td>Majority</td>\n",
       "    </tr>\n",
       "    <tr>\n",
       "      <th>4</th>\n",
       "      <td>Marcin Tybura</td>\n",
       "      <td>https://www.sherdog.com/fighter/Marcin-Tybura-86928</td>\n",
       "      <td>Poland</td>\n",
       "      <td>Tybur</td>\n",
       "      <td>Nov 9, 1985</td>\n",
       "      <td>6'3\"</td>\n",
       "      <td>190.5 cm</td>\n",
       "      <td>Alexander Volkov</td>\n",
       "      <td>loss</td>\n",
       "      <td>Decision</td>\n",
       "      <td>3</td>\n",
       "      <td>5:00</td>\n",
       "      <td>UFC 267 - Blachowicz vs. Teixeira</td>\n",
       "      <td>Oct / 30 / 2021</td>\n",
       "      <td>Marc Goddard</td>\n",
       "      <td>Unanimous</td>\n",
       "    </tr>\n",
       "  </tbody>\n",
       "</table>\n",
       "</div>"
      ],
      "text/plain": [
       "         Fighter                                                  URL  \\\n",
       "0  Marcin Tybura  https://www.sherdog.com/fighter/Marcin-Tybura-86928   \n",
       "1  Marcin Tybura  https://www.sherdog.com/fighter/Marcin-Tybura-86928   \n",
       "2  Marcin Tybura  https://www.sherdog.com/fighter/Marcin-Tybura-86928   \n",
       "3  Marcin Tybura  https://www.sherdog.com/fighter/Marcin-Tybura-86928   \n",
       "4  Marcin Tybura  https://www.sherdog.com/fighter/Marcin-Tybura-86928   \n",
       "\n",
       "  Nationality Nickname     Birthday Height ft  Height cm           Opponent  \\\n",
       "0      Poland    Tybur  Nov 9, 1985      6'3\"   190.5 cm        Tai Tuivasa   \n",
       "1      Poland    Tybur  Nov 9, 1985      6'3\"   190.5 cm       Tom Aspinall   \n",
       "2      Poland    Tybur  Nov 9, 1985      6'3\"   190.5 cm      Blagoy Ivanov   \n",
       "3      Poland    Tybur  Nov 9, 1985      6'3\"   190.5 cm  Alexander Romanov   \n",
       "4      Poland    Tybur  Nov 9, 1985      6'3\"   190.5 cm   Alexander Volkov   \n",
       "\n",
       "  Result      Method  Round  Time                                      Event  \\\n",
       "0    win  Submission      1  4:08   UFC Fight Night 239 - Tuivasa vs. Tybura   \n",
       "1   loss      KO/TKO      1  1:13  UFC Fight Night 224 - Aspinall vs. Tybura   \n",
       "2    win    Decision      3  5:00     UFC Fight Night 218 - Lewis vs. Spivak   \n",
       "3    win    Decision      3  5:00              UFC 278 - Usman vs. Edwards 2   \n",
       "4   loss    Decision      3  5:00          UFC 267 - Blachowicz vs. Teixeira   \n",
       "\n",
       "              Date       Referee        Description  \n",
       "0  Mar / 16 / 2024     Herb Dean   Rear-Naked Choke  \n",
       "1  Jul / 22 / 2023  Marc Goddard  Elbow and Punches  \n",
       "2  Feb / 04 / 2023    Mark Smith          Unanimous  \n",
       "3  Aug / 20 / 2022  Jason Herzog           Majority  \n",
       "4  Oct / 30 / 2021  Marc Goddard          Unanimous  "
      ]
     },
     "execution_count": 6,
     "metadata": {},
     "output_type": "execute_result"
    }
   ],
   "source": [
    "records.head(5)"
   ]
  },
  {
   "cell_type": "code",
   "execution_count": 7,
   "id": "295a8fac",
   "metadata": {},
   "outputs": [
    {
     "data": {
      "text/html": [
       "<div>\n",
       "<style scoped>\n",
       "    .dataframe tbody tr th:only-of-type {\n",
       "        vertical-align: middle;\n",
       "    }\n",
       "\n",
       "    .dataframe tbody tr th {\n",
       "        vertical-align: top;\n",
       "    }\n",
       "\n",
       "    .dataframe thead th {\n",
       "        text-align: right;\n",
       "    }\n",
       "</style>\n",
       "<table border=\"1\" class=\"dataframe\">\n",
       "  <thead>\n",
       "    <tr style=\"text-align: right;\">\n",
       "      <th></th>\n",
       "      <th>Bout Link</th>\n",
       "      <th>Fighter A</th>\n",
       "      <th>Link A</th>\n",
       "      <th>Fighter B</th>\n",
       "      <th>Link B</th>\n",
       "      <th>Nickname A</th>\n",
       "      <th>Nickname B</th>\n",
       "      <th>Record A</th>\n",
       "      <th>Record B</th>\n",
       "      <th>Odds A</th>\n",
       "      <th>...</th>\n",
       "      <th>Result</th>\n",
       "      <th>Time</th>\n",
       "      <th>Weightclass</th>\n",
       "      <th>Rounds</th>\n",
       "      <th>Event Link</th>\n",
       "      <th>Venue</th>\n",
       "      <th>Date</th>\n",
       "      <th>Location</th>\n",
       "      <th>Billing</th>\n",
       "      <th>Event Name</th>\n",
       "    </tr>\n",
       "  </thead>\n",
       "  <tbody>\n",
       "    <tr>\n",
       "      <th>0</th>\n",
       "      <td>https://www.tapology.com/fightcenter/bouts/835883-ufc-fight-night-tai-bam-bam-tuivasa-vs-marcin-...</td>\n",
       "      <td>Marcin Tybura</td>\n",
       "      <td>https://www.tapology.com/fightcenter/fighters/34449-marcin-tybura-tybur</td>\n",
       "      <td>Tai Tuivasa</td>\n",
       "      <td>https://www.tapology.com/fightcenter/fighters/120884-tai-tuivasa-bam-bam</td>\n",
       "      <td>NaN</td>\n",
       "      <td>NaN</td>\n",
       "      <td>25-8</td>\n",
       "      <td>15-7</td>\n",
       "      <td>-105 (Near Even)</td>\n",
       "      <td>...</td>\n",
       "      <td>Submission, Rear Naked Choke</td>\n",
       "      <td>4:08 Round 1 of 5</td>\n",
       "      <td>265.0</td>\n",
       "      <td>5 x 5</td>\n",
       "      <td>https://www.tapology.com/fightcenter/events/108288-ufc-fight-night</td>\n",
       "      <td>UFC Apex</td>\n",
       "      <td>Saturday 03.16.2024 at 04:00 PM ET</td>\n",
       "      <td>Las Vegas, Nevada, United States</td>\n",
       "      <td>Main Event</td>\n",
       "      <td>UFC Fight Night: Tuivasa vs. Tybura</td>\n",
       "    </tr>\n",
       "    <tr>\n",
       "      <th>1</th>\n",
       "      <td>https://www.tapology.com/fightcenter/bouts/835212-ufc-fight-night-bryan-pooh-bear-battle-vs-ange...</td>\n",
       "      <td>Bryan Battle</td>\n",
       "      <td>https://www.tapology.com/fightcenter/fighters/153353-bryan-battle</td>\n",
       "      <td>Ange Loosa</td>\n",
       "      <td>https://www.tapology.com/fightcenter/fighters/79954-ange-loosa</td>\n",
       "      <td>NaN</td>\n",
       "      <td>NaN</td>\n",
       "      <td>10-2-0</td>\n",
       "      <td>10-3-0</td>\n",
       "      <td>-180 (Slight Favorite)</td>\n",
       "      <td>...</td>\n",
       "      <td>Ends in a No Contest, Accidental Eye Poke</td>\n",
       "      <td>1:00 Round 2 of 3, 6:00 Total</td>\n",
       "      <td>170.0</td>\n",
       "      <td>3 x 5</td>\n",
       "      <td>https://www.tapology.com/fightcenter/events/108288-ufc-fight-night</td>\n",
       "      <td>UFC Apex</td>\n",
       "      <td>Saturday 03.16.2024 at 04:00 PM ET</td>\n",
       "      <td>Las Vegas, Nevada, United States</td>\n",
       "      <td>Co-Main</td>\n",
       "      <td>UFC Fight Night: Tuivasa vs. Tybura</td>\n",
       "    </tr>\n",
       "    <tr>\n",
       "      <th>2</th>\n",
       "      <td>https://www.tapology.com/fightcenter/bouts/836823-ufc-fight-night-kennedy-african-savage-nzechuk...</td>\n",
       "      <td>Ovince St. Preux</td>\n",
       "      <td>https://www.tapology.com/fightcenter/fighters/ovince-st-preux</td>\n",
       "      <td>Kennedy Nzechukwu</td>\n",
       "      <td>https://www.tapology.com/fightcenter/fighters/119288-kennedy-nzechukwu</td>\n",
       "      <td>NaN</td>\n",
       "      <td>NaN</td>\n",
       "      <td>27-17</td>\n",
       "      <td>12-5</td>\n",
       "      <td>+500 (Heavy Underdog)</td>\n",
       "      <td>...</td>\n",
       "      <td>Decision, Split</td>\n",
       "      <td>3 Rounds, 15:00 Total</td>\n",
       "      <td>205.0</td>\n",
       "      <td>3 x 5</td>\n",
       "      <td>https://www.tapology.com/fightcenter/events/108288-ufc-fight-night</td>\n",
       "      <td>UFC Apex</td>\n",
       "      <td>Saturday 03.16.2024 at 04:00 PM ET</td>\n",
       "      <td>Las Vegas, Nevada, United States</td>\n",
       "      <td>Main Card</td>\n",
       "      <td>UFC Fight Night: Tuivasa vs. Tybura</td>\n",
       "    </tr>\n",
       "    <tr>\n",
       "      <th>3</th>\n",
       "      <td>https://www.tapology.com/fightcenter/bouts/834662-ufc-fight-night-christian-ceerod-rodriguez-vs-...</td>\n",
       "      <td>Christian Rodriguez</td>\n",
       "      <td>https://www.tapology.com/fightcenter/fighters/121190-christian-rodriguez</td>\n",
       "      <td>Isaac Dulgarian</td>\n",
       "      <td>https://www.tapology.com/fightcenter/fighters/245772-isaac-dulgarian</td>\n",
       "      <td>NaN</td>\n",
       "      <td>NaN</td>\n",
       "      <td>11-1</td>\n",
       "      <td>6-1</td>\n",
       "      <td>+165 (Slight Underdog)</td>\n",
       "      <td>...</td>\n",
       "      <td>Decision, Split</td>\n",
       "      <td>3 Rounds, 15:00 Total</td>\n",
       "      <td>145.0</td>\n",
       "      <td>3 x 5</td>\n",
       "      <td>https://www.tapology.com/fightcenter/events/108288-ufc-fight-night</td>\n",
       "      <td>UFC Apex</td>\n",
       "      <td>Saturday 03.16.2024 at 04:00 PM ET</td>\n",
       "      <td>Las Vegas, Nevada, United States</td>\n",
       "      <td>Main Card</td>\n",
       "      <td>UFC Fight Night: Tuivasa vs. Tybura</td>\n",
       "    </tr>\n",
       "    <tr>\n",
       "      <th>4</th>\n",
       "      <td>https://www.tapology.com/fightcenter/bouts/838614-ufc-fight-night-pannie-banzai-kianzad-vs-macy-...</td>\n",
       "      <td>Macy Chiasson</td>\n",
       "      <td>https://www.tapology.com/fightcenter/fighters/77737-macy-chiasson</td>\n",
       "      <td>Pannie Kianzad</td>\n",
       "      <td>https://www.tapology.com/fightcenter/fighters/36969-pannie-kianzad</td>\n",
       "      <td>NaN</td>\n",
       "      <td>NaN</td>\n",
       "      <td>9-3</td>\n",
       "      <td>16-8</td>\n",
       "      <td>-230 (Moderate Favorite)</td>\n",
       "      <td>...</td>\n",
       "      <td>Submission, Rear Naked Choke</td>\n",
       "      <td>3:54 Round 1 of 3</td>\n",
       "      <td>135.0</td>\n",
       "      <td>3 x 5</td>\n",
       "      <td>https://www.tapology.com/fightcenter/events/108288-ufc-fight-night</td>\n",
       "      <td>UFC Apex</td>\n",
       "      <td>Saturday 03.16.2024 at 04:00 PM ET</td>\n",
       "      <td>Las Vegas, Nevada, United States</td>\n",
       "      <td>Main Card</td>\n",
       "      <td>UFC Fight Night: Tuivasa vs. Tybura</td>\n",
       "    </tr>\n",
       "  </tbody>\n",
       "</table>\n",
       "<p>5 rows × 31 columns</p>\n",
       "</div>"
      ],
      "text/plain": [
       "                                                                                             Bout Link  \\\n",
       "0  https://www.tapology.com/fightcenter/bouts/835883-ufc-fight-night-tai-bam-bam-tuivasa-vs-marcin-...   \n",
       "1  https://www.tapology.com/fightcenter/bouts/835212-ufc-fight-night-bryan-pooh-bear-battle-vs-ange...   \n",
       "2  https://www.tapology.com/fightcenter/bouts/836823-ufc-fight-night-kennedy-african-savage-nzechuk...   \n",
       "3  https://www.tapology.com/fightcenter/bouts/834662-ufc-fight-night-christian-ceerod-rodriguez-vs-...   \n",
       "4  https://www.tapology.com/fightcenter/bouts/838614-ufc-fight-night-pannie-banzai-kianzad-vs-macy-...   \n",
       "\n",
       "             Fighter A  \\\n",
       "0        Marcin Tybura   \n",
       "1         Bryan Battle   \n",
       "2     Ovince St. Preux   \n",
       "3  Christian Rodriguez   \n",
       "4        Macy Chiasson   \n",
       "\n",
       "                                                                     Link A  \\\n",
       "0   https://www.tapology.com/fightcenter/fighters/34449-marcin-tybura-tybur   \n",
       "1         https://www.tapology.com/fightcenter/fighters/153353-bryan-battle   \n",
       "2             https://www.tapology.com/fightcenter/fighters/ovince-st-preux   \n",
       "3  https://www.tapology.com/fightcenter/fighters/121190-christian-rodriguez   \n",
       "4         https://www.tapology.com/fightcenter/fighters/77737-macy-chiasson   \n",
       "\n",
       "           Fighter B  \\\n",
       "0        Tai Tuivasa   \n",
       "1         Ange Loosa   \n",
       "2  Kennedy Nzechukwu   \n",
       "3    Isaac Dulgarian   \n",
       "4     Pannie Kianzad   \n",
       "\n",
       "                                                                     Link B  \\\n",
       "0  https://www.tapology.com/fightcenter/fighters/120884-tai-tuivasa-bam-bam   \n",
       "1            https://www.tapology.com/fightcenter/fighters/79954-ange-loosa   \n",
       "2    https://www.tapology.com/fightcenter/fighters/119288-kennedy-nzechukwu   \n",
       "3      https://www.tapology.com/fightcenter/fighters/245772-isaac-dulgarian   \n",
       "4        https://www.tapology.com/fightcenter/fighters/36969-pannie-kianzad   \n",
       "\n",
       "   Nickname A  Nickname B Record A Record B                    Odds A  ...  \\\n",
       "0         NaN         NaN     25-8     15-7          -105 (Near Even)  ...   \n",
       "1         NaN         NaN   10-2-0   10-3-0    -180 (Slight Favorite)  ...   \n",
       "2         NaN         NaN    27-17     12-5     +500 (Heavy Underdog)  ...   \n",
       "3         NaN         NaN     11-1      6-1    +165 (Slight Underdog)  ...   \n",
       "4         NaN         NaN      9-3     16-8  -230 (Moderate Favorite)  ...   \n",
       "\n",
       "                                      Result                           Time  \\\n",
       "0               Submission, Rear Naked Choke              4:08 Round 1 of 5   \n",
       "1  Ends in a No Contest, Accidental Eye Poke  1:00 Round 2 of 3, 6:00 Total   \n",
       "2                            Decision, Split          3 Rounds, 15:00 Total   \n",
       "3                            Decision, Split          3 Rounds, 15:00 Total   \n",
       "4               Submission, Rear Naked Choke              3:54 Round 1 of 3   \n",
       "\n",
       "  Weightclass Rounds  \\\n",
       "0       265.0  5 x 5   \n",
       "1       170.0  3 x 5   \n",
       "2       205.0  3 x 5   \n",
       "3       145.0  3 x 5   \n",
       "4       135.0  3 x 5   \n",
       "\n",
       "                                                           Event Link  \\\n",
       "0  https://www.tapology.com/fightcenter/events/108288-ufc-fight-night   \n",
       "1  https://www.tapology.com/fightcenter/events/108288-ufc-fight-night   \n",
       "2  https://www.tapology.com/fightcenter/events/108288-ufc-fight-night   \n",
       "3  https://www.tapology.com/fightcenter/events/108288-ufc-fight-night   \n",
       "4  https://www.tapology.com/fightcenter/events/108288-ufc-fight-night   \n",
       "\n",
       "      Venue                                Date  \\\n",
       "0  UFC Apex  Saturday 03.16.2024 at 04:00 PM ET   \n",
       "1  UFC Apex  Saturday 03.16.2024 at 04:00 PM ET   \n",
       "2  UFC Apex  Saturday 03.16.2024 at 04:00 PM ET   \n",
       "3  UFC Apex  Saturday 03.16.2024 at 04:00 PM ET   \n",
       "4  UFC Apex  Saturday 03.16.2024 at 04:00 PM ET   \n",
       "\n",
       "                           Location     Billing  \\\n",
       "0  Las Vegas, Nevada, United States  Main Event   \n",
       "1  Las Vegas, Nevada, United States     Co-Main   \n",
       "2  Las Vegas, Nevada, United States   Main Card   \n",
       "3  Las Vegas, Nevada, United States   Main Card   \n",
       "4  Las Vegas, Nevada, United States   Main Card   \n",
       "\n",
       "                            Event Name  \n",
       "0  UFC Fight Night: Tuivasa vs. Tybura  \n",
       "1  UFC Fight Night: Tuivasa vs. Tybura  \n",
       "2  UFC Fight Night: Tuivasa vs. Tybura  \n",
       "3  UFC Fight Night: Tuivasa vs. Tybura  \n",
       "4  UFC Fight Night: Tuivasa vs. Tybura  \n",
       "\n",
       "[5 rows x 31 columns]"
      ]
     },
     "execution_count": 7,
     "metadata": {},
     "output_type": "execute_result"
    }
   ],
   "source": [
    "bouts.head()"
   ]
  },
  {
   "cell_type": "markdown",
   "id": "a5afc762",
   "metadata": {},
   "source": [
    "### We will calculate the current records based on fighter names and dates. Names are already synchronized, now we need to convert dates to the same format."
   ]
  },
  {
   "cell_type": "code",
   "execution_count": 8,
   "id": "0a30aef3",
   "metadata": {},
   "outputs": [],
   "source": [
    "from datetime import datetime"
   ]
  },
  {
   "cell_type": "code",
   "execution_count": 9,
   "id": "c65359a4",
   "metadata": {},
   "outputs": [],
   "source": [
    "# Function to convert date string to YYYY-MM-DD format for records\n",
    "def convert_records_date(date_string):\n",
    "    date_object = datetime.strptime(date_string, \"%b / %d / %Y\")\n",
    "    return date_object.strftime(\"%Y-%m-%d\")\n",
    "\n",
    "# Apply the function to the DataFrame column\n",
    "records['Date'] = records['Date'].apply(convert_records_date)"
   ]
  },
  {
   "cell_type": "code",
   "execution_count": 10,
   "id": "0dc33218",
   "metadata": {},
   "outputs": [
    {
     "data": {
      "text/html": [
       "<div>\n",
       "<style scoped>\n",
       "    .dataframe tbody tr th:only-of-type {\n",
       "        vertical-align: middle;\n",
       "    }\n",
       "\n",
       "    .dataframe tbody tr th {\n",
       "        vertical-align: top;\n",
       "    }\n",
       "\n",
       "    .dataframe thead th {\n",
       "        text-align: right;\n",
       "    }\n",
       "</style>\n",
       "<table border=\"1\" class=\"dataframe\">\n",
       "  <thead>\n",
       "    <tr style=\"text-align: right;\">\n",
       "      <th></th>\n",
       "      <th>Fighter</th>\n",
       "      <th>URL</th>\n",
       "      <th>Nationality</th>\n",
       "      <th>Nickname</th>\n",
       "      <th>Birthday</th>\n",
       "      <th>Height ft</th>\n",
       "      <th>Height cm</th>\n",
       "      <th>Opponent</th>\n",
       "      <th>Result</th>\n",
       "      <th>Method</th>\n",
       "      <th>Round</th>\n",
       "      <th>Time</th>\n",
       "      <th>Event</th>\n",
       "      <th>Date</th>\n",
       "      <th>Referee</th>\n",
       "      <th>Description</th>\n",
       "    </tr>\n",
       "  </thead>\n",
       "  <tbody>\n",
       "    <tr>\n",
       "      <th>0</th>\n",
       "      <td>Marcin Tybura</td>\n",
       "      <td>https://www.sherdog.com/fighter/Marcin-Tybura-86928</td>\n",
       "      <td>Poland</td>\n",
       "      <td>Tybur</td>\n",
       "      <td>Nov 9, 1985</td>\n",
       "      <td>6'3\"</td>\n",
       "      <td>190.5 cm</td>\n",
       "      <td>Tai Tuivasa</td>\n",
       "      <td>win</td>\n",
       "      <td>Submission</td>\n",
       "      <td>1</td>\n",
       "      <td>4:08</td>\n",
       "      <td>UFC Fight Night 239 - Tuivasa vs. Tybura</td>\n",
       "      <td>2024-03-16</td>\n",
       "      <td>Herb Dean</td>\n",
       "      <td>Rear-Naked Choke</td>\n",
       "    </tr>\n",
       "    <tr>\n",
       "      <th>1</th>\n",
       "      <td>Marcin Tybura</td>\n",
       "      <td>https://www.sherdog.com/fighter/Marcin-Tybura-86928</td>\n",
       "      <td>Poland</td>\n",
       "      <td>Tybur</td>\n",
       "      <td>Nov 9, 1985</td>\n",
       "      <td>6'3\"</td>\n",
       "      <td>190.5 cm</td>\n",
       "      <td>Tom Aspinall</td>\n",
       "      <td>loss</td>\n",
       "      <td>KO/TKO</td>\n",
       "      <td>1</td>\n",
       "      <td>1:13</td>\n",
       "      <td>UFC Fight Night 224 - Aspinall vs. Tybura</td>\n",
       "      <td>2023-07-22</td>\n",
       "      <td>Marc Goddard</td>\n",
       "      <td>Elbow and Punches</td>\n",
       "    </tr>\n",
       "    <tr>\n",
       "      <th>2</th>\n",
       "      <td>Marcin Tybura</td>\n",
       "      <td>https://www.sherdog.com/fighter/Marcin-Tybura-86928</td>\n",
       "      <td>Poland</td>\n",
       "      <td>Tybur</td>\n",
       "      <td>Nov 9, 1985</td>\n",
       "      <td>6'3\"</td>\n",
       "      <td>190.5 cm</td>\n",
       "      <td>Blagoy Ivanov</td>\n",
       "      <td>win</td>\n",
       "      <td>Decision</td>\n",
       "      <td>3</td>\n",
       "      <td>5:00</td>\n",
       "      <td>UFC Fight Night 218 - Lewis vs. Spivak</td>\n",
       "      <td>2023-02-04</td>\n",
       "      <td>Mark Smith</td>\n",
       "      <td>Unanimous</td>\n",
       "    </tr>\n",
       "    <tr>\n",
       "      <th>3</th>\n",
       "      <td>Marcin Tybura</td>\n",
       "      <td>https://www.sherdog.com/fighter/Marcin-Tybura-86928</td>\n",
       "      <td>Poland</td>\n",
       "      <td>Tybur</td>\n",
       "      <td>Nov 9, 1985</td>\n",
       "      <td>6'3\"</td>\n",
       "      <td>190.5 cm</td>\n",
       "      <td>Alexander Romanov</td>\n",
       "      <td>win</td>\n",
       "      <td>Decision</td>\n",
       "      <td>3</td>\n",
       "      <td>5:00</td>\n",
       "      <td>UFC 278 - Usman vs. Edwards 2</td>\n",
       "      <td>2022-08-20</td>\n",
       "      <td>Jason Herzog</td>\n",
       "      <td>Majority</td>\n",
       "    </tr>\n",
       "    <tr>\n",
       "      <th>4</th>\n",
       "      <td>Marcin Tybura</td>\n",
       "      <td>https://www.sherdog.com/fighter/Marcin-Tybura-86928</td>\n",
       "      <td>Poland</td>\n",
       "      <td>Tybur</td>\n",
       "      <td>Nov 9, 1985</td>\n",
       "      <td>6'3\"</td>\n",
       "      <td>190.5 cm</td>\n",
       "      <td>Alexander Volkov</td>\n",
       "      <td>loss</td>\n",
       "      <td>Decision</td>\n",
       "      <td>3</td>\n",
       "      <td>5:00</td>\n",
       "      <td>UFC 267 - Blachowicz vs. Teixeira</td>\n",
       "      <td>2021-10-30</td>\n",
       "      <td>Marc Goddard</td>\n",
       "      <td>Unanimous</td>\n",
       "    </tr>\n",
       "  </tbody>\n",
       "</table>\n",
       "</div>"
      ],
      "text/plain": [
       "         Fighter                                                  URL  \\\n",
       "0  Marcin Tybura  https://www.sherdog.com/fighter/Marcin-Tybura-86928   \n",
       "1  Marcin Tybura  https://www.sherdog.com/fighter/Marcin-Tybura-86928   \n",
       "2  Marcin Tybura  https://www.sherdog.com/fighter/Marcin-Tybura-86928   \n",
       "3  Marcin Tybura  https://www.sherdog.com/fighter/Marcin-Tybura-86928   \n",
       "4  Marcin Tybura  https://www.sherdog.com/fighter/Marcin-Tybura-86928   \n",
       "\n",
       "  Nationality Nickname     Birthday Height ft  Height cm           Opponent  \\\n",
       "0      Poland    Tybur  Nov 9, 1985      6'3\"   190.5 cm        Tai Tuivasa   \n",
       "1      Poland    Tybur  Nov 9, 1985      6'3\"   190.5 cm       Tom Aspinall   \n",
       "2      Poland    Tybur  Nov 9, 1985      6'3\"   190.5 cm      Blagoy Ivanov   \n",
       "3      Poland    Tybur  Nov 9, 1985      6'3\"   190.5 cm  Alexander Romanov   \n",
       "4      Poland    Tybur  Nov 9, 1985      6'3\"   190.5 cm   Alexander Volkov   \n",
       "\n",
       "  Result      Method  Round  Time                                      Event  \\\n",
       "0    win  Submission      1  4:08   UFC Fight Night 239 - Tuivasa vs. Tybura   \n",
       "1   loss      KO/TKO      1  1:13  UFC Fight Night 224 - Aspinall vs. Tybura   \n",
       "2    win    Decision      3  5:00     UFC Fight Night 218 - Lewis vs. Spivak   \n",
       "3    win    Decision      3  5:00              UFC 278 - Usman vs. Edwards 2   \n",
       "4   loss    Decision      3  5:00          UFC 267 - Blachowicz vs. Teixeira   \n",
       "\n",
       "         Date       Referee        Description  \n",
       "0  2024-03-16     Herb Dean   Rear-Naked Choke  \n",
       "1  2023-07-22  Marc Goddard  Elbow and Punches  \n",
       "2  2023-02-04    Mark Smith          Unanimous  \n",
       "3  2022-08-20  Jason Herzog           Majority  \n",
       "4  2021-10-30  Marc Goddard          Unanimous  "
      ]
     },
     "execution_count": 10,
     "metadata": {},
     "output_type": "execute_result"
    }
   ],
   "source": [
    "records.head()"
   ]
  },
  {
   "cell_type": "code",
   "execution_count": 11,
   "id": "66382f14",
   "metadata": {},
   "outputs": [],
   "source": [
    "# Function to convert date string to YYYY-MM-DD format for bouts\n",
    "def convert_records_date(date_string):\n",
    "    date_string = date_string.split(\" \")[1]\n",
    "    date_object = datetime.strptime(date_string, \"%m.%d.%Y\")\n",
    "    return date_object.strftime(\"%Y-%m-%d\")\n",
    "\n",
    "# Apply the function to the DataFrame column\n",
    "bouts['Date'] = bouts['Date'].apply(convert_records_date)"
   ]
  },
  {
   "cell_type": "code",
   "execution_count": 12,
   "id": "0291b382",
   "metadata": {},
   "outputs": [
    {
     "data": {
      "text/html": [
       "<div>\n",
       "<style scoped>\n",
       "    .dataframe tbody tr th:only-of-type {\n",
       "        vertical-align: middle;\n",
       "    }\n",
       "\n",
       "    .dataframe tbody tr th {\n",
       "        vertical-align: top;\n",
       "    }\n",
       "\n",
       "    .dataframe thead th {\n",
       "        text-align: right;\n",
       "    }\n",
       "</style>\n",
       "<table border=\"1\" class=\"dataframe\">\n",
       "  <thead>\n",
       "    <tr style=\"text-align: right;\">\n",
       "      <th></th>\n",
       "      <th>Bout Link</th>\n",
       "      <th>Fighter A</th>\n",
       "      <th>Link A</th>\n",
       "      <th>Fighter B</th>\n",
       "      <th>Link B</th>\n",
       "      <th>Nickname A</th>\n",
       "      <th>Nickname B</th>\n",
       "      <th>Record A</th>\n",
       "      <th>Record B</th>\n",
       "      <th>Odds A</th>\n",
       "      <th>...</th>\n",
       "      <th>Result</th>\n",
       "      <th>Time</th>\n",
       "      <th>Weightclass</th>\n",
       "      <th>Rounds</th>\n",
       "      <th>Event Link</th>\n",
       "      <th>Venue</th>\n",
       "      <th>Date</th>\n",
       "      <th>Location</th>\n",
       "      <th>Billing</th>\n",
       "      <th>Event Name</th>\n",
       "    </tr>\n",
       "  </thead>\n",
       "  <tbody>\n",
       "    <tr>\n",
       "      <th>0</th>\n",
       "      <td>https://www.tapology.com/fightcenter/bouts/835883-ufc-fight-night-tai-bam-bam-tuivasa-vs-marcin-...</td>\n",
       "      <td>Marcin Tybura</td>\n",
       "      <td>https://www.tapology.com/fightcenter/fighters/34449-marcin-tybura-tybur</td>\n",
       "      <td>Tai Tuivasa</td>\n",
       "      <td>https://www.tapology.com/fightcenter/fighters/120884-tai-tuivasa-bam-bam</td>\n",
       "      <td>NaN</td>\n",
       "      <td>NaN</td>\n",
       "      <td>25-8</td>\n",
       "      <td>15-7</td>\n",
       "      <td>-105 (Near Even)</td>\n",
       "      <td>...</td>\n",
       "      <td>Submission, Rear Naked Choke</td>\n",
       "      <td>4:08 Round 1 of 5</td>\n",
       "      <td>265.0</td>\n",
       "      <td>5 x 5</td>\n",
       "      <td>https://www.tapology.com/fightcenter/events/108288-ufc-fight-night</td>\n",
       "      <td>UFC Apex</td>\n",
       "      <td>2024-03-16</td>\n",
       "      <td>Las Vegas, Nevada, United States</td>\n",
       "      <td>Main Event</td>\n",
       "      <td>UFC Fight Night: Tuivasa vs. Tybura</td>\n",
       "    </tr>\n",
       "    <tr>\n",
       "      <th>1</th>\n",
       "      <td>https://www.tapology.com/fightcenter/bouts/835212-ufc-fight-night-bryan-pooh-bear-battle-vs-ange...</td>\n",
       "      <td>Bryan Battle</td>\n",
       "      <td>https://www.tapology.com/fightcenter/fighters/153353-bryan-battle</td>\n",
       "      <td>Ange Loosa</td>\n",
       "      <td>https://www.tapology.com/fightcenter/fighters/79954-ange-loosa</td>\n",
       "      <td>NaN</td>\n",
       "      <td>NaN</td>\n",
       "      <td>10-2-0</td>\n",
       "      <td>10-3-0</td>\n",
       "      <td>-180 (Slight Favorite)</td>\n",
       "      <td>...</td>\n",
       "      <td>Ends in a No Contest, Accidental Eye Poke</td>\n",
       "      <td>1:00 Round 2 of 3, 6:00 Total</td>\n",
       "      <td>170.0</td>\n",
       "      <td>3 x 5</td>\n",
       "      <td>https://www.tapology.com/fightcenter/events/108288-ufc-fight-night</td>\n",
       "      <td>UFC Apex</td>\n",
       "      <td>2024-03-16</td>\n",
       "      <td>Las Vegas, Nevada, United States</td>\n",
       "      <td>Co-Main</td>\n",
       "      <td>UFC Fight Night: Tuivasa vs. Tybura</td>\n",
       "    </tr>\n",
       "    <tr>\n",
       "      <th>2</th>\n",
       "      <td>https://www.tapology.com/fightcenter/bouts/836823-ufc-fight-night-kennedy-african-savage-nzechuk...</td>\n",
       "      <td>Ovince St. Preux</td>\n",
       "      <td>https://www.tapology.com/fightcenter/fighters/ovince-st-preux</td>\n",
       "      <td>Kennedy Nzechukwu</td>\n",
       "      <td>https://www.tapology.com/fightcenter/fighters/119288-kennedy-nzechukwu</td>\n",
       "      <td>NaN</td>\n",
       "      <td>NaN</td>\n",
       "      <td>27-17</td>\n",
       "      <td>12-5</td>\n",
       "      <td>+500 (Heavy Underdog)</td>\n",
       "      <td>...</td>\n",
       "      <td>Decision, Split</td>\n",
       "      <td>3 Rounds, 15:00 Total</td>\n",
       "      <td>205.0</td>\n",
       "      <td>3 x 5</td>\n",
       "      <td>https://www.tapology.com/fightcenter/events/108288-ufc-fight-night</td>\n",
       "      <td>UFC Apex</td>\n",
       "      <td>2024-03-16</td>\n",
       "      <td>Las Vegas, Nevada, United States</td>\n",
       "      <td>Main Card</td>\n",
       "      <td>UFC Fight Night: Tuivasa vs. Tybura</td>\n",
       "    </tr>\n",
       "    <tr>\n",
       "      <th>3</th>\n",
       "      <td>https://www.tapology.com/fightcenter/bouts/834662-ufc-fight-night-christian-ceerod-rodriguez-vs-...</td>\n",
       "      <td>Christian Rodriguez</td>\n",
       "      <td>https://www.tapology.com/fightcenter/fighters/121190-christian-rodriguez</td>\n",
       "      <td>Isaac Dulgarian</td>\n",
       "      <td>https://www.tapology.com/fightcenter/fighters/245772-isaac-dulgarian</td>\n",
       "      <td>NaN</td>\n",
       "      <td>NaN</td>\n",
       "      <td>11-1</td>\n",
       "      <td>6-1</td>\n",
       "      <td>+165 (Slight Underdog)</td>\n",
       "      <td>...</td>\n",
       "      <td>Decision, Split</td>\n",
       "      <td>3 Rounds, 15:00 Total</td>\n",
       "      <td>145.0</td>\n",
       "      <td>3 x 5</td>\n",
       "      <td>https://www.tapology.com/fightcenter/events/108288-ufc-fight-night</td>\n",
       "      <td>UFC Apex</td>\n",
       "      <td>2024-03-16</td>\n",
       "      <td>Las Vegas, Nevada, United States</td>\n",
       "      <td>Main Card</td>\n",
       "      <td>UFC Fight Night: Tuivasa vs. Tybura</td>\n",
       "    </tr>\n",
       "    <tr>\n",
       "      <th>4</th>\n",
       "      <td>https://www.tapology.com/fightcenter/bouts/838614-ufc-fight-night-pannie-banzai-kianzad-vs-macy-...</td>\n",
       "      <td>Macy Chiasson</td>\n",
       "      <td>https://www.tapology.com/fightcenter/fighters/77737-macy-chiasson</td>\n",
       "      <td>Pannie Kianzad</td>\n",
       "      <td>https://www.tapology.com/fightcenter/fighters/36969-pannie-kianzad</td>\n",
       "      <td>NaN</td>\n",
       "      <td>NaN</td>\n",
       "      <td>9-3</td>\n",
       "      <td>16-8</td>\n",
       "      <td>-230 (Moderate Favorite)</td>\n",
       "      <td>...</td>\n",
       "      <td>Submission, Rear Naked Choke</td>\n",
       "      <td>3:54 Round 1 of 3</td>\n",
       "      <td>135.0</td>\n",
       "      <td>3 x 5</td>\n",
       "      <td>https://www.tapology.com/fightcenter/events/108288-ufc-fight-night</td>\n",
       "      <td>UFC Apex</td>\n",
       "      <td>2024-03-16</td>\n",
       "      <td>Las Vegas, Nevada, United States</td>\n",
       "      <td>Main Card</td>\n",
       "      <td>UFC Fight Night: Tuivasa vs. Tybura</td>\n",
       "    </tr>\n",
       "  </tbody>\n",
       "</table>\n",
       "<p>5 rows × 31 columns</p>\n",
       "</div>"
      ],
      "text/plain": [
       "                                                                                             Bout Link  \\\n",
       "0  https://www.tapology.com/fightcenter/bouts/835883-ufc-fight-night-tai-bam-bam-tuivasa-vs-marcin-...   \n",
       "1  https://www.tapology.com/fightcenter/bouts/835212-ufc-fight-night-bryan-pooh-bear-battle-vs-ange...   \n",
       "2  https://www.tapology.com/fightcenter/bouts/836823-ufc-fight-night-kennedy-african-savage-nzechuk...   \n",
       "3  https://www.tapology.com/fightcenter/bouts/834662-ufc-fight-night-christian-ceerod-rodriguez-vs-...   \n",
       "4  https://www.tapology.com/fightcenter/bouts/838614-ufc-fight-night-pannie-banzai-kianzad-vs-macy-...   \n",
       "\n",
       "             Fighter A  \\\n",
       "0        Marcin Tybura   \n",
       "1         Bryan Battle   \n",
       "2     Ovince St. Preux   \n",
       "3  Christian Rodriguez   \n",
       "4        Macy Chiasson   \n",
       "\n",
       "                                                                     Link A  \\\n",
       "0   https://www.tapology.com/fightcenter/fighters/34449-marcin-tybura-tybur   \n",
       "1         https://www.tapology.com/fightcenter/fighters/153353-bryan-battle   \n",
       "2             https://www.tapology.com/fightcenter/fighters/ovince-st-preux   \n",
       "3  https://www.tapology.com/fightcenter/fighters/121190-christian-rodriguez   \n",
       "4         https://www.tapology.com/fightcenter/fighters/77737-macy-chiasson   \n",
       "\n",
       "           Fighter B  \\\n",
       "0        Tai Tuivasa   \n",
       "1         Ange Loosa   \n",
       "2  Kennedy Nzechukwu   \n",
       "3    Isaac Dulgarian   \n",
       "4     Pannie Kianzad   \n",
       "\n",
       "                                                                     Link B  \\\n",
       "0  https://www.tapology.com/fightcenter/fighters/120884-tai-tuivasa-bam-bam   \n",
       "1            https://www.tapology.com/fightcenter/fighters/79954-ange-loosa   \n",
       "2    https://www.tapology.com/fightcenter/fighters/119288-kennedy-nzechukwu   \n",
       "3      https://www.tapology.com/fightcenter/fighters/245772-isaac-dulgarian   \n",
       "4        https://www.tapology.com/fightcenter/fighters/36969-pannie-kianzad   \n",
       "\n",
       "   Nickname A  Nickname B Record A Record B                    Odds A  ...  \\\n",
       "0         NaN         NaN     25-8     15-7          -105 (Near Even)  ...   \n",
       "1         NaN         NaN   10-2-0   10-3-0    -180 (Slight Favorite)  ...   \n",
       "2         NaN         NaN    27-17     12-5     +500 (Heavy Underdog)  ...   \n",
       "3         NaN         NaN     11-1      6-1    +165 (Slight Underdog)  ...   \n",
       "4         NaN         NaN      9-3     16-8  -230 (Moderate Favorite)  ...   \n",
       "\n",
       "                                      Result                           Time  \\\n",
       "0               Submission, Rear Naked Choke              4:08 Round 1 of 5   \n",
       "1  Ends in a No Contest, Accidental Eye Poke  1:00 Round 2 of 3, 6:00 Total   \n",
       "2                            Decision, Split          3 Rounds, 15:00 Total   \n",
       "3                            Decision, Split          3 Rounds, 15:00 Total   \n",
       "4               Submission, Rear Naked Choke              3:54 Round 1 of 3   \n",
       "\n",
       "  Weightclass Rounds  \\\n",
       "0       265.0  5 x 5   \n",
       "1       170.0  3 x 5   \n",
       "2       205.0  3 x 5   \n",
       "3       145.0  3 x 5   \n",
       "4       135.0  3 x 5   \n",
       "\n",
       "                                                           Event Link  \\\n",
       "0  https://www.tapology.com/fightcenter/events/108288-ufc-fight-night   \n",
       "1  https://www.tapology.com/fightcenter/events/108288-ufc-fight-night   \n",
       "2  https://www.tapology.com/fightcenter/events/108288-ufc-fight-night   \n",
       "3  https://www.tapology.com/fightcenter/events/108288-ufc-fight-night   \n",
       "4  https://www.tapology.com/fightcenter/events/108288-ufc-fight-night   \n",
       "\n",
       "      Venue        Date                          Location     Billing  \\\n",
       "0  UFC Apex  2024-03-16  Las Vegas, Nevada, United States  Main Event   \n",
       "1  UFC Apex  2024-03-16  Las Vegas, Nevada, United States     Co-Main   \n",
       "2  UFC Apex  2024-03-16  Las Vegas, Nevada, United States   Main Card   \n",
       "3  UFC Apex  2024-03-16  Las Vegas, Nevada, United States   Main Card   \n",
       "4  UFC Apex  2024-03-16  Las Vegas, Nevada, United States   Main Card   \n",
       "\n",
       "                            Event Name  \n",
       "0  UFC Fight Night: Tuivasa vs. Tybura  \n",
       "1  UFC Fight Night: Tuivasa vs. Tybura  \n",
       "2  UFC Fight Night: Tuivasa vs. Tybura  \n",
       "3  UFC Fight Night: Tuivasa vs. Tybura  \n",
       "4  UFC Fight Night: Tuivasa vs. Tybura  \n",
       "\n",
       "[5 rows x 31 columns]"
      ]
     },
     "execution_count": 12,
     "metadata": {},
     "output_type": "execute_result"
    }
   ],
   "source": [
    "bouts.head()"
   ]
  },
  {
   "cell_type": "markdown",
   "id": "d643c253",
   "metadata": {},
   "source": [
    "Dates in both tables now have the same format."
   ]
  },
  {
   "cell_type": "code",
   "execution_count": 13,
   "id": "307fb715",
   "metadata": {},
   "outputs": [
    {
     "data": {
      "text/plain": [
       "0    Herb Dean\n",
       "Name: Referee, dtype: object"
      ]
     },
     "execution_count": 13,
     "metadata": {},
     "output_type": "execute_result"
    }
   ],
   "source": [
    "df = records.loc[records[\"Fighter\"] == \"Marcin Tybura\"]\n",
    "df.loc[df[\"Date\"] == \"2024-03-16\", \"Referee\"]"
   ]
  },
  {
   "cell_type": "markdown",
   "id": "e23550ff",
   "metadata": {},
   "source": [
    "### Calculating the records"
   ]
  },
  {
   "cell_type": "markdown",
   "id": "c5e73bf1",
   "metadata": {},
   "source": [
    "We define a function that calculates required info and returns it in a list"
   ]
  },
  {
   "cell_type": "code",
   "execution_count": 50,
   "id": "5287e25a",
   "metadata": {},
   "outputs": [],
   "source": [
    "def calculate_records(fighter_name, bout_date):\n",
    "    df = records.loc[records[\"Fighter\"] == fighter_name]\n",
    "    # Finds fighter information\n",
    "    nationality, nickname, birthday, referee = \"\", \"\", \"\", \"\"\n",
    "    nationality = df.iloc[0][\"Nationality\"]\n",
    "    nickname = df.iloc[0][\"Nickname\"]\n",
    "    birthday = df.iloc[0][\"Birthday\"]\n",
    "    if not df.loc[df[\"Date\"] == bout_date, \"Referee\"].empty:\n",
    "        referee = df.loc[df[\"Date\"] == bout_date, \"Referee\"].iloc[0]\n",
    "    # Filters DataFrame for the date of a given fight\n",
    "    df = df.loc[df[\"Date\"] < bout_date]\n",
    "    # Calculates fighters record\n",
    "    counts = df.groupby([\"Result\",\"Method\"])[\"Fighter\"].count()\n",
    "    ko_win, ko_loss, sub_win, sub_loss, dec_win, dec_loss, draws, ufc_win, ufc_loss, ufc_draws = 0, 0, 0, 0, 0, 0, 0, 0, 0, 0\n",
    "    for index, value in counts.items():\n",
    "        if index[0] + index[1] == \"winKO/TKO\":\n",
    "            ko_win = value\n",
    "        elif index[0] + index[1] == \"lossKO/TKO\":\n",
    "            ko_loss = value  \n",
    "        elif index[0] + index[1] == \"winSubmission\":\n",
    "            sub_win = value                  \n",
    "        elif index[0] + index[1] == \"lossSubmission\":\n",
    "            sub_loss = value\n",
    "        elif index[0] + index[1] == \"winDecision\":\n",
    "            dec_win = value                 \n",
    "        elif index[0] + index[1] == \"lossDecision\":\n",
    "            dec_loss = value      \n",
    "        elif index[0] == \"draw\":\n",
    "            draws = value\n",
    "    \n",
    "    # Calculates fighters ufc record\n",
    "    ufc_events = df[df['Event'].str.startswith('UFC')]\n",
    "    ufc_counts = ufc_events.groupby(\"Result\")[\"Fighter\"].count()\n",
    "    for index, value in ufc_counts.items():\n",
    "        if index == \"win\":\n",
    "            ufc_win = value \n",
    "        elif index == \"loss\":\n",
    "            ufc_loss = value\n",
    "        elif index == \"draw\":\n",
    "            ufc_draws = value\n",
    "    info_list=[]\n",
    "    info_list = [ko_win, ko_loss, sub_win, sub_loss, dec_win, dec_loss, draws, ufc_win, ufc_loss, ufc_draws, nationality, birthday, nickname, referee]\n",
    "    return info_list"
   ]
  },
  {
   "cell_type": "markdown",
   "id": "2f6ce014",
   "metadata": {},
   "source": [
    "We call the function for \"Fighter A\" and \"Fighter B\" for all bouts and store info in dataframes"
   ]
  },
  {
   "cell_type": "code",
   "execution_count": 48,
   "id": "495e3816",
   "metadata": {},
   "outputs": [],
   "source": [
    "from tqdm import tqdm"
   ]
  },
  {
   "cell_type": "code",
   "execution_count": 49,
   "id": "ed2258ea",
   "metadata": {},
   "outputs": [
    {
     "name": "stderr",
     "output_type": "stream",
     "text": [
      "100%|██████████████████████████████████████████████████████████████████████████████| 7577/7577 [02:04<00:00, 60.85it/s]\n"
     ]
    }
   ],
   "source": [
    "info_dfA = pd.DataFrame(columns=[\"KO win A\", \"KO loss A\", \"Sub win A\", \"Sub loss A\", \"Dec win A\", \"Dec loss A\", \n",
    "                                 \"Draws A\", \"UFC win A\", \"UFC loss A\", \"UFC draws A\", \"Nationality A\", \"Birthday A\", \"Nick A\", \"Referee\"])\n",
    "info_dfB = pd.DataFrame(columns=[\"KO win B\", \"KO loss B\", \"Sub win B\", \"Sub loss B\", \"Dec win B\", \"Dec loss B\", \n",
    "                                 \"Draws B\", \"UFC win B\", \"UFC loss B\", \"UFC draws B\", \"Nationality B\", \"Birthday B\", \"Nick B\", \"Referee B\"])\n",
    "for i in tqdm(bouts.index):\n",
    "        info_list = calculate_records(bouts[\"Fighter A\"][i], bouts[\"Date\"][i])\n",
    "        info_dfA.loc[len(info_dfA)] = info_list\n",
    "        info_list = calculate_records(bouts[\"Fighter B\"][i], bouts[\"Date\"][i])\n",
    "        info_dfB.loc[len(info_dfB)] = info_list"
   ]
  },
  {
   "cell_type": "code",
   "execution_count": 51,
   "id": "2ba7c384",
   "metadata": {},
   "outputs": [
    {
     "name": "stdout",
     "output_type": "stream",
     "text": [
      "<class 'pandas.core.frame.DataFrame'>\n",
      "Index: 7577 entries, 0 to 7576\n",
      "Data columns (total 14 columns):\n",
      " #   Column         Non-Null Count  Dtype \n",
      "---  ------         --------------  ----- \n",
      " 0   KO win A       7577 non-null   int64 \n",
      " 1   KO loss A      7577 non-null   int64 \n",
      " 2   Sub win A      7577 non-null   int64 \n",
      " 3   Sub loss A     7577 non-null   int64 \n",
      " 4   Dec win A      7577 non-null   int64 \n",
      " 5   Dec loss A     7577 non-null   int64 \n",
      " 6   Draws A        7577 non-null   int64 \n",
      " 7   UFC win A      7577 non-null   int64 \n",
      " 8   UFC loss A     7577 non-null   int64 \n",
      " 9   UFC draws A    7577 non-null   int64 \n",
      " 10  Nationality A  7576 non-null   object\n",
      " 11  Birthday A     7545 non-null   object\n",
      " 12  Nick A         5945 non-null   object\n",
      " 13  Referee        7577 non-null   object\n",
      "dtypes: int64(10), object(4)\n",
      "memory usage: 887.9+ KB\n"
     ]
    }
   ],
   "source": [
    "info_dfA.info()"
   ]
  },
  {
   "cell_type": "code",
   "execution_count": 52,
   "id": "6b4729f6",
   "metadata": {},
   "outputs": [
    {
     "name": "stdout",
     "output_type": "stream",
     "text": [
      "<class 'pandas.core.frame.DataFrame'>\n",
      "Index: 7577 entries, 0 to 7576\n",
      "Data columns (total 14 columns):\n",
      " #   Column         Non-Null Count  Dtype \n",
      "---  ------         --------------  ----- \n",
      " 0   KO win B       7577 non-null   int64 \n",
      " 1   KO loss B      7577 non-null   int64 \n",
      " 2   Sub win B      7577 non-null   int64 \n",
      " 3   Sub loss B     7577 non-null   int64 \n",
      " 4   Dec win B      7577 non-null   int64 \n",
      " 5   Dec loss B     7577 non-null   int64 \n",
      " 6   Draws B        7577 non-null   int64 \n",
      " 7   UFC win B      7577 non-null   int64 \n",
      " 8   UFC loss B     7577 non-null   int64 \n",
      " 9   UFC draws B    7577 non-null   int64 \n",
      " 10  Nationality B  7573 non-null   object\n",
      " 11  Birthday B     7454 non-null   object\n",
      " 12  Nick B         5826 non-null   object\n",
      " 13  Referee B      7577 non-null   object\n",
      "dtypes: int64(10), object(4)\n",
      "memory usage: 887.9+ KB\n"
     ]
    }
   ],
   "source": [
    "info_dfB.info()"
   ]
  },
  {
   "cell_type": "markdown",
   "id": "d82c3abc",
   "metadata": {},
   "source": [
    "## Now we can finally merge bouts with info about \"Fighter A\" and \"Fighter B\""
   ]
  },
  {
   "cell_type": "code",
   "execution_count": 53,
   "id": "37273c15",
   "metadata": {},
   "outputs": [],
   "source": [
    "combined_df = pd.concat([bouts, info_dfA, info_dfB], axis=1)"
   ]
  },
  {
   "cell_type": "code",
   "execution_count": 54,
   "id": "5d78e722",
   "metadata": {},
   "outputs": [],
   "source": [
    "combined_df.to_csv(\"bouts_detailed.csv\", index=False)"
   ]
  },
  {
   "cell_type": "code",
   "execution_count": 55,
   "id": "97b49182",
   "metadata": {},
   "outputs": [],
   "source": [
    "combined_df = pd.read_csv(\"bouts_detailed.csv\")"
   ]
  },
  {
   "cell_type": "code",
   "execution_count": 56,
   "id": "7cec5766",
   "metadata": {
    "scrolled": true
   },
   "outputs": [
    {
     "data": {
      "text/plain": [
       "Index(['Bout Link', 'Fighter A', 'Link A', 'Fighter B', 'Link B', 'Nickname A',\n",
       "       'Nickname B', 'Record A', 'Record B', 'Odds A', 'Odds B', 'Title A',\n",
       "       'Title B', 'Weight A', 'Weight B', 'Age A', 'Age B', 'Height A',\n",
       "       'Height B', 'Reach A', 'Reach B', 'Result', 'Time', 'Weightclass',\n",
       "       'Rounds', 'Event Link', 'Venue', 'Date', 'Location', 'Billing',\n",
       "       'Event Name', 'KO win A', 'KO loss A', 'Sub win A', 'Sub loss A',\n",
       "       'Dec win A', 'Dec loss A', 'Draws A', 'UFC win A', 'UFC loss A',\n",
       "       'UFC draws A', 'Nationality A', 'Birthday A', 'Nick A', 'Referee',\n",
       "       'KO win B', 'KO loss B', 'Sub win B', 'Sub loss B', 'Dec win B',\n",
       "       'Dec loss B', 'Draws B', 'UFC win B', 'UFC loss B', 'UFC draws B',\n",
       "       'Nationality B', 'Birthday B', 'Nick B', 'Referee B'],\n",
       "      dtype='object')"
      ]
     },
     "execution_count": 56,
     "metadata": {},
     "output_type": "execute_result"
    }
   ],
   "source": [
    "combined_df.columns"
   ]
  },
  {
   "cell_type": "markdown",
   "id": "20b0863c",
   "metadata": {},
   "source": [
    "# Data wrangling"
   ]
  },
  {
   "cell_type": "markdown",
   "id": "143d7043",
   "metadata": {},
   "source": [
    "We have finally obtained a dataset that contains all needed information. Now we have to clean it, transform it and replace some values.\n"
   ]
  },
  {
   "cell_type": "code",
   "execution_count": 3,
   "id": "4f008193",
   "metadata": {},
   "outputs": [],
   "source": [
    "df = pd.read_csv(\"bouts_detailed.csv\")"
   ]
  },
  {
   "cell_type": "code",
   "execution_count": 5,
   "id": "82ce0a21",
   "metadata": {},
   "outputs": [
    {
     "name": "stdout",
     "output_type": "stream",
     "text": [
      "<class 'pandas.core.frame.DataFrame'>\n",
      "RangeIndex: 7577 entries, 0 to 7576\n",
      "Data columns (total 59 columns):\n",
      " #   Column         Non-Null Count  Dtype  \n",
      "---  ------         --------------  -----  \n",
      " 0   Bout Link      7577 non-null   object \n",
      " 1   Fighter A      7577 non-null   object \n",
      " 2   Link A         7577 non-null   object \n",
      " 3   Fighter B      7577 non-null   object \n",
      " 4   Link B         7577 non-null   object \n",
      " 5   Nickname A     0 non-null      float64\n",
      " 6   Nickname B     0 non-null      float64\n",
      " 7   Record A       7577 non-null   object \n",
      " 8   Record B       7577 non-null   object \n",
      " 9   Odds A         7129 non-null   object \n",
      " 10  Odds B         7128 non-null   object \n",
      " 11  Title A        347 non-null    object \n",
      " 12  Title B        347 non-null    object \n",
      " 13  Weight A       7509 non-null   object \n",
      " 14  Weight B       7492 non-null   object \n",
      " 15  Age A          7539 non-null   object \n",
      " 16  Age B          7440 non-null   object \n",
      " 17  Height A       7576 non-null   object \n",
      " 18  Height B       7570 non-null   object \n",
      " 19  Reach A        7181 non-null   object \n",
      " 20  Reach B        6838 non-null   object \n",
      " 21  Result         7577 non-null   object \n",
      " 22  Time           7577 non-null   object \n",
      " 23  Weightclass    7453 non-null   float64\n",
      " 24  Rounds         7463 non-null   object \n",
      " 25  Event Link     7577 non-null   object \n",
      " 26  Venue          7577 non-null   object \n",
      " 27  Date           7577 non-null   object \n",
      " 28  Location       7577 non-null   object \n",
      " 29  Billing        7577 non-null   object \n",
      " 30  Event Name     7577 non-null   object \n",
      " 31  KO win A       7577 non-null   int64  \n",
      " 32  KO loss A      7577 non-null   int64  \n",
      " 33  Sub win A      7577 non-null   int64  \n",
      " 34  Sub loss A     7577 non-null   int64  \n",
      " 35  Dec win A      7577 non-null   int64  \n",
      " 36  Dec loss A     7577 non-null   int64  \n",
      " 37  Draws A        7577 non-null   int64  \n",
      " 38  UFC win A      7577 non-null   int64  \n",
      " 39  UFC loss A     7577 non-null   int64  \n",
      " 40  UFC draws A    7577 non-null   int64  \n",
      " 41  Nationality A  7576 non-null   object \n",
      " 42  Birthday A     7545 non-null   object \n",
      " 43  Nick A         5945 non-null   object \n",
      " 44  Referee        7471 non-null   object \n",
      " 45  KO win B       7577 non-null   int64  \n",
      " 46  KO loss B      7577 non-null   int64  \n",
      " 47  Sub win B      7577 non-null   int64  \n",
      " 48  Sub loss B     7577 non-null   int64  \n",
      " 49  Dec win B      7577 non-null   int64  \n",
      " 50  Dec loss B     7577 non-null   int64  \n",
      " 51  Draws B        7577 non-null   int64  \n",
      " 52  UFC win B      7577 non-null   int64  \n",
      " 53  UFC loss B     7577 non-null   int64  \n",
      " 54  UFC draws B    7577 non-null   int64  \n",
      " 55  Nationality B  7573 non-null   object \n",
      " 56  Birthday B     7454 non-null   object \n",
      " 57  Nick B         5826 non-null   object \n",
      " 58  Referee B      7465 non-null   object \n",
      "dtypes: float64(3), int64(20), object(36)\n",
      "memory usage: 3.4+ MB\n"
     ]
    }
   ],
   "source": [
    "df.info()"
   ]
  },
  {
   "cell_type": "code",
   "execution_count": 58,
   "id": "2688c911",
   "metadata": {},
   "outputs": [
    {
     "data": {
      "text/html": [
       "<div>\n",
       "<style scoped>\n",
       "    .dataframe tbody tr th:only-of-type {\n",
       "        vertical-align: middle;\n",
       "    }\n",
       "\n",
       "    .dataframe tbody tr th {\n",
       "        vertical-align: top;\n",
       "    }\n",
       "\n",
       "    .dataframe thead th {\n",
       "        text-align: right;\n",
       "    }\n",
       "</style>\n",
       "<table border=\"1\" class=\"dataframe\">\n",
       "  <thead>\n",
       "    <tr style=\"text-align: right;\">\n",
       "      <th></th>\n",
       "      <th>Bout Link</th>\n",
       "      <th>Fighter A</th>\n",
       "      <th>Link A</th>\n",
       "      <th>Fighter B</th>\n",
       "      <th>Link B</th>\n",
       "      <th>Nickname A</th>\n",
       "      <th>Nickname B</th>\n",
       "      <th>Record A</th>\n",
       "      <th>Record B</th>\n",
       "      <th>Odds A</th>\n",
       "      <th>...</th>\n",
       "      <th>Dec win B</th>\n",
       "      <th>Dec loss B</th>\n",
       "      <th>Draws B</th>\n",
       "      <th>UFC win B</th>\n",
       "      <th>UFC loss B</th>\n",
       "      <th>UFC draws B</th>\n",
       "      <th>Nationality B</th>\n",
       "      <th>Birthday B</th>\n",
       "      <th>Nick B</th>\n",
       "      <th>Referee B</th>\n",
       "    </tr>\n",
       "  </thead>\n",
       "  <tbody>\n",
       "    <tr>\n",
       "      <th>0</th>\n",
       "      <td>https://www.tapology.com/fightcenter/bouts/835883-ufc-fight-night-tai-bam-bam-tuivasa-vs-marcin-...</td>\n",
       "      <td>Marcin Tybura</td>\n",
       "      <td>https://www.tapology.com/fightcenter/fighters/34449-marcin-tybura-tybur</td>\n",
       "      <td>Tai Tuivasa</td>\n",
       "      <td>https://www.tapology.com/fightcenter/fighters/120884-tai-tuivasa-bam-bam</td>\n",
       "      <td>NaN</td>\n",
       "      <td>NaN</td>\n",
       "      <td>25-8</td>\n",
       "      <td>15-7</td>\n",
       "      <td>-105 (Near Even)</td>\n",
       "      <td>...</td>\n",
       "      <td>1</td>\n",
       "      <td>1</td>\n",
       "      <td>0</td>\n",
       "      <td>8</td>\n",
       "      <td>6</td>\n",
       "      <td>0</td>\n",
       "      <td>Australia</td>\n",
       "      <td>Mar 16, 1993</td>\n",
       "      <td>Bam Bam</td>\n",
       "      <td>Herb Dean</td>\n",
       "    </tr>\n",
       "    <tr>\n",
       "      <th>1</th>\n",
       "      <td>https://www.tapology.com/fightcenter/bouts/835212-ufc-fight-night-bryan-pooh-bear-battle-vs-ange...</td>\n",
       "      <td>Bryan Battle</td>\n",
       "      <td>https://www.tapology.com/fightcenter/fighters/153353-bryan-battle</td>\n",
       "      <td>Ange Loosa</td>\n",
       "      <td>https://www.tapology.com/fightcenter/fighters/79954-ange-loosa</td>\n",
       "      <td>NaN</td>\n",
       "      <td>NaN</td>\n",
       "      <td>10-2-0</td>\n",
       "      <td>10-3-0</td>\n",
       "      <td>-180 (Slight Favorite)</td>\n",
       "      <td>...</td>\n",
       "      <td>4</td>\n",
       "      <td>3</td>\n",
       "      <td>0</td>\n",
       "      <td>2</td>\n",
       "      <td>1</td>\n",
       "      <td>0</td>\n",
       "      <td>Congo, The Democratic Republic of the</td>\n",
       "      <td>Mar 18, 1993</td>\n",
       "      <td>The Last Ninja</td>\n",
       "      <td>Mike Beltran</td>\n",
       "    </tr>\n",
       "    <tr>\n",
       "      <th>2</th>\n",
       "      <td>https://www.tapology.com/fightcenter/bouts/836823-ufc-fight-night-kennedy-african-savage-nzechuk...</td>\n",
       "      <td>Ovince St. Preux</td>\n",
       "      <td>https://www.tapology.com/fightcenter/fighters/ovince-st-preux</td>\n",
       "      <td>Kennedy Nzechukwu</td>\n",
       "      <td>https://www.tapology.com/fightcenter/fighters/119288-kennedy-nzechukwu</td>\n",
       "      <td>NaN</td>\n",
       "      <td>NaN</td>\n",
       "      <td>27-17</td>\n",
       "      <td>12-5</td>\n",
       "      <td>+500 (Heavy Underdog)</td>\n",
       "      <td>...</td>\n",
       "      <td>3</td>\n",
       "      <td>1</td>\n",
       "      <td>0</td>\n",
       "      <td>6</td>\n",
       "      <td>4</td>\n",
       "      <td>0</td>\n",
       "      <td>United States</td>\n",
       "      <td>Jun 13, 1992</td>\n",
       "      <td>American Savage</td>\n",
       "      <td>Mark Smith</td>\n",
       "    </tr>\n",
       "    <tr>\n",
       "      <th>3</th>\n",
       "      <td>https://www.tapology.com/fightcenter/bouts/834662-ufc-fight-night-christian-ceerod-rodriguez-vs-...</td>\n",
       "      <td>Christian Rodriguez</td>\n",
       "      <td>https://www.tapology.com/fightcenter/fighters/121190-christian-rodriguez</td>\n",
       "      <td>Isaac Dulgarian</td>\n",
       "      <td>https://www.tapology.com/fightcenter/fighters/245772-isaac-dulgarian</td>\n",
       "      <td>NaN</td>\n",
       "      <td>NaN</td>\n",
       "      <td>11-1</td>\n",
       "      <td>6-1</td>\n",
       "      <td>+165 (Slight Underdog)</td>\n",
       "      <td>...</td>\n",
       "      <td>0</td>\n",
       "      <td>0</td>\n",
       "      <td>0</td>\n",
       "      <td>1</td>\n",
       "      <td>0</td>\n",
       "      <td>0</td>\n",
       "      <td>United States</td>\n",
       "      <td>Jul 4, 1996</td>\n",
       "      <td>The MidWest Choppa</td>\n",
       "      <td>Chris Tognoni</td>\n",
       "    </tr>\n",
       "    <tr>\n",
       "      <th>4</th>\n",
       "      <td>https://www.tapology.com/fightcenter/bouts/838614-ufc-fight-night-pannie-banzai-kianzad-vs-macy-...</td>\n",
       "      <td>Macy Chiasson</td>\n",
       "      <td>https://www.tapology.com/fightcenter/fighters/77737-macy-chiasson</td>\n",
       "      <td>Pannie Kianzad</td>\n",
       "      <td>https://www.tapology.com/fightcenter/fighters/36969-pannie-kianzad</td>\n",
       "      <td>NaN</td>\n",
       "      <td>NaN</td>\n",
       "      <td>9-3</td>\n",
       "      <td>16-8</td>\n",
       "      <td>-230 (Moderate Favorite)</td>\n",
       "      <td>...</td>\n",
       "      <td>13</td>\n",
       "      <td>4</td>\n",
       "      <td>0</td>\n",
       "      <td>5</td>\n",
       "      <td>4</td>\n",
       "      <td>0</td>\n",
       "      <td>Sweden</td>\n",
       "      <td>Dec 8, 1991</td>\n",
       "      <td>Banzai</td>\n",
       "      <td>Mark Smith</td>\n",
       "    </tr>\n",
       "  </tbody>\n",
       "</table>\n",
       "<p>5 rows × 59 columns</p>\n",
       "</div>"
      ],
      "text/plain": [
       "                                                                                             Bout Link  \\\n",
       "0  https://www.tapology.com/fightcenter/bouts/835883-ufc-fight-night-tai-bam-bam-tuivasa-vs-marcin-...   \n",
       "1  https://www.tapology.com/fightcenter/bouts/835212-ufc-fight-night-bryan-pooh-bear-battle-vs-ange...   \n",
       "2  https://www.tapology.com/fightcenter/bouts/836823-ufc-fight-night-kennedy-african-savage-nzechuk...   \n",
       "3  https://www.tapology.com/fightcenter/bouts/834662-ufc-fight-night-christian-ceerod-rodriguez-vs-...   \n",
       "4  https://www.tapology.com/fightcenter/bouts/838614-ufc-fight-night-pannie-banzai-kianzad-vs-macy-...   \n",
       "\n",
       "             Fighter A  \\\n",
       "0        Marcin Tybura   \n",
       "1         Bryan Battle   \n",
       "2     Ovince St. Preux   \n",
       "3  Christian Rodriguez   \n",
       "4        Macy Chiasson   \n",
       "\n",
       "                                                                     Link A  \\\n",
       "0   https://www.tapology.com/fightcenter/fighters/34449-marcin-tybura-tybur   \n",
       "1         https://www.tapology.com/fightcenter/fighters/153353-bryan-battle   \n",
       "2             https://www.tapology.com/fightcenter/fighters/ovince-st-preux   \n",
       "3  https://www.tapology.com/fightcenter/fighters/121190-christian-rodriguez   \n",
       "4         https://www.tapology.com/fightcenter/fighters/77737-macy-chiasson   \n",
       "\n",
       "           Fighter B  \\\n",
       "0        Tai Tuivasa   \n",
       "1         Ange Loosa   \n",
       "2  Kennedy Nzechukwu   \n",
       "3    Isaac Dulgarian   \n",
       "4     Pannie Kianzad   \n",
       "\n",
       "                                                                     Link B  \\\n",
       "0  https://www.tapology.com/fightcenter/fighters/120884-tai-tuivasa-bam-bam   \n",
       "1            https://www.tapology.com/fightcenter/fighters/79954-ange-loosa   \n",
       "2    https://www.tapology.com/fightcenter/fighters/119288-kennedy-nzechukwu   \n",
       "3      https://www.tapology.com/fightcenter/fighters/245772-isaac-dulgarian   \n",
       "4        https://www.tapology.com/fightcenter/fighters/36969-pannie-kianzad   \n",
       "\n",
       "   Nickname A  Nickname B Record A Record B                    Odds A  ...  \\\n",
       "0         NaN         NaN     25-8     15-7          -105 (Near Even)  ...   \n",
       "1         NaN         NaN   10-2-0   10-3-0    -180 (Slight Favorite)  ...   \n",
       "2         NaN         NaN    27-17     12-5     +500 (Heavy Underdog)  ...   \n",
       "3         NaN         NaN     11-1      6-1    +165 (Slight Underdog)  ...   \n",
       "4         NaN         NaN      9-3     16-8  -230 (Moderate Favorite)  ...   \n",
       "\n",
       "  Dec win B Dec loss B Draws B UFC win B UFC loss B UFC draws B  \\\n",
       "0         1          1       0         8          6           0   \n",
       "1         4          3       0         2          1           0   \n",
       "2         3          1       0         6          4           0   \n",
       "3         0          0       0         1          0           0   \n",
       "4        13          4       0         5          4           0   \n",
       "\n",
       "                           Nationality B    Birthday B              Nick B  \\\n",
       "0                              Australia  Mar 16, 1993             Bam Bam   \n",
       "1  Congo, The Democratic Republic of the  Mar 18, 1993      The Last Ninja   \n",
       "2                          United States  Jun 13, 1992     American Savage   \n",
       "3                          United States   Jul 4, 1996  The MidWest Choppa   \n",
       "4                                 Sweden   Dec 8, 1991              Banzai   \n",
       "\n",
       "       Referee B  \n",
       "0      Herb Dean  \n",
       "1   Mike Beltran  \n",
       "2     Mark Smith  \n",
       "3  Chris Tognoni  \n",
       "4     Mark Smith  \n",
       "\n",
       "[5 rows x 59 columns]"
      ]
     },
     "execution_count": 58,
     "metadata": {},
     "output_type": "execute_result"
    }
   ],
   "source": [
    "df.head()"
   ]
  },
  {
   "cell_type": "code",
   "execution_count": 59,
   "id": "96cf9954",
   "metadata": {
    "scrolled": true
   },
   "outputs": [
    {
     "name": "stdout",
     "output_type": "stream",
     "text": [
      "<class 'pandas.core.frame.DataFrame'>\n",
      "RangeIndex: 7577 entries, 0 to 7576\n",
      "Data columns (total 59 columns):\n",
      " #   Column         Non-Null Count  Dtype  \n",
      "---  ------         --------------  -----  \n",
      " 0   Bout Link      7577 non-null   object \n",
      " 1   Fighter A      7577 non-null   object \n",
      " 2   Link A         7577 non-null   object \n",
      " 3   Fighter B      7577 non-null   object \n",
      " 4   Link B         7577 non-null   object \n",
      " 5   Nickname A     0 non-null      float64\n",
      " 6   Nickname B     0 non-null      float64\n",
      " 7   Record A       7577 non-null   object \n",
      " 8   Record B       7577 non-null   object \n",
      " 9   Odds A         7129 non-null   object \n",
      " 10  Odds B         7128 non-null   object \n",
      " 11  Title A        347 non-null    object \n",
      " 12  Title B        347 non-null    object \n",
      " 13  Weight A       7509 non-null   object \n",
      " 14  Weight B       7492 non-null   object \n",
      " 15  Age A          7539 non-null   object \n",
      " 16  Age B          7440 non-null   object \n",
      " 17  Height A       7576 non-null   object \n",
      " 18  Height B       7570 non-null   object \n",
      " 19  Reach A        7181 non-null   object \n",
      " 20  Reach B        6838 non-null   object \n",
      " 21  Result         7577 non-null   object \n",
      " 22  Time           7577 non-null   object \n",
      " 23  Weightclass    7453 non-null   float64\n",
      " 24  Rounds         7463 non-null   object \n",
      " 25  Event Link     7577 non-null   object \n",
      " 26  Venue          7577 non-null   object \n",
      " 27  Date           7577 non-null   object \n",
      " 28  Location       7577 non-null   object \n",
      " 29  Billing        7577 non-null   object \n",
      " 30  Event Name     7577 non-null   object \n",
      " 31  KO win A       7577 non-null   int64  \n",
      " 32  KO loss A      7577 non-null   int64  \n",
      " 33  Sub win A      7577 non-null   int64  \n",
      " 34  Sub loss A     7577 non-null   int64  \n",
      " 35  Dec win A      7577 non-null   int64  \n",
      " 36  Dec loss A     7577 non-null   int64  \n",
      " 37  Draws A        7577 non-null   int64  \n",
      " 38  UFC win A      7577 non-null   int64  \n",
      " 39  UFC loss A     7577 non-null   int64  \n",
      " 40  UFC draws A    7577 non-null   int64  \n",
      " 41  Nationality A  7576 non-null   object \n",
      " 42  Birthday A     7545 non-null   object \n",
      " 43  Nick A         5945 non-null   object \n",
      " 44  Referee        7471 non-null   object \n",
      " 45  KO win B       7577 non-null   int64  \n",
      " 46  KO loss B      7577 non-null   int64  \n",
      " 47  Sub win B      7577 non-null   int64  \n",
      " 48  Sub loss B     7577 non-null   int64  \n",
      " 49  Dec win B      7577 non-null   int64  \n",
      " 50  Dec loss B     7577 non-null   int64  \n",
      " 51  Draws B        7577 non-null   int64  \n",
      " 52  UFC win B      7577 non-null   int64  \n",
      " 53  UFC loss B     7577 non-null   int64  \n",
      " 54  UFC draws B    7577 non-null   int64  \n",
      " 55  Nationality B  7573 non-null   object \n",
      " 56  Birthday B     7454 non-null   object \n",
      " 57  Nick B         5826 non-null   object \n",
      " 58  Referee B      7465 non-null   object \n",
      "dtypes: float64(3), int64(20), object(36)\n",
      "memory usage: 3.4+ MB\n"
     ]
    }
   ],
   "source": [
    "df.info()"
   ]
  },
  {
   "cell_type": "markdown",
   "id": "14a66d2e",
   "metadata": {},
   "source": [
    "We can see that there is a 53 columns, most of them are doubled for fighter A and B. To avoid the confusion we can change the order so they are together."
   ]
  },
  {
   "cell_type": "code",
   "execution_count": 60,
   "id": "70d4b3df",
   "metadata": {},
   "outputs": [
    {
     "name": "stdout",
     "output_type": "stream",
     "text": [
      "['Bout Link', 'Fighter A', 'Fighter B', 'Result', 'Time', 'Weightclass', 'Rounds', 'Event Link', 'Venue', 'Date', 'Location', 'Billing', 'Event Name', 'Referee', 'Link A', 'Nickname A', 'Record A', 'Odds A', 'Title A', 'Weight A', 'Age A', 'Height A', 'Reach A', 'KO win A', 'KO loss A', 'Sub win A', 'Sub loss A', 'Dec win A', 'Dec loss A', 'Draws A', 'UFC win A', 'UFC loss A', 'UFC draws A', 'Nationality A', 'Birthday A', 'Nick A', 'Link B', 'Nickname B', 'Record B', 'Odds B', 'Title B', 'Weight B', 'Age B', 'Height B', 'Reach B', 'KO win B', 'KO loss B', 'Sub win B', 'Sub loss B', 'Dec win B', 'Dec loss B', 'Draws B', 'UFC win B', 'UFC loss B', 'UFC draws B', 'Nationality B', 'Birthday B', 'Nick B', 'Referee B'] \n",
      "Number of cols: 59\n"
     ]
    }
   ],
   "source": [
    "columns = df.columns\n",
    "new_columns = (['Bout Link', 'Fighter A', 'Fighter B'] + \n",
    "               [col for col in columns if col not in ['Bout Link', 'Fighter A', 'Fighter B'] and not col.endswith((' A', ' B'))] + \n",
    "               [col for col in columns if col.endswith(' A') and col not in ['Fighter A']] +\n",
    "               [col for col in columns if col.endswith(' B') and col not in ['Fighter B']])\n",
    "print(new_columns, \"\\nNumber of cols:\", len(new_columns))"
   ]
  },
  {
   "cell_type": "markdown",
   "id": "6a0a35f8",
   "metadata": {},
   "source": [
    "After visual check we see that the order is how we want it and there is the same amount of columns.\n",
    "\n",
    "Now we just change it in the dataframe."
   ]
  },
  {
   "cell_type": "code",
   "execution_count": 61,
   "id": "abeaaf76",
   "metadata": {},
   "outputs": [],
   "source": [
    "df = df[new_columns]"
   ]
  },
  {
   "cell_type": "code",
   "execution_count": 62,
   "id": "5b5b285c",
   "metadata": {
    "scrolled": true
   },
   "outputs": [
    {
     "name": "stdout",
     "output_type": "stream",
     "text": [
      "<class 'pandas.core.frame.DataFrame'>\n",
      "RangeIndex: 7577 entries, 0 to 7576\n",
      "Data columns (total 59 columns):\n",
      " #   Column         Non-Null Count  Dtype  \n",
      "---  ------         --------------  -----  \n",
      " 0   Bout Link      7577 non-null   object \n",
      " 1   Fighter A      7577 non-null   object \n",
      " 2   Fighter B      7577 non-null   object \n",
      " 3   Result         7577 non-null   object \n",
      " 4   Time           7577 non-null   object \n",
      " 5   Weightclass    7453 non-null   float64\n",
      " 6   Rounds         7463 non-null   object \n",
      " 7   Event Link     7577 non-null   object \n",
      " 8   Venue          7577 non-null   object \n",
      " 9   Date           7577 non-null   object \n",
      " 10  Location       7577 non-null   object \n",
      " 11  Billing        7577 non-null   object \n",
      " 12  Event Name     7577 non-null   object \n",
      " 13  Referee        7471 non-null   object \n",
      " 14  Link A         7577 non-null   object \n",
      " 15  Nickname A     0 non-null      float64\n",
      " 16  Record A       7577 non-null   object \n",
      " 17  Odds A         7129 non-null   object \n",
      " 18  Title A        347 non-null    object \n",
      " 19  Weight A       7509 non-null   object \n",
      " 20  Age A          7539 non-null   object \n",
      " 21  Height A       7576 non-null   object \n",
      " 22  Reach A        7181 non-null   object \n",
      " 23  KO win A       7577 non-null   int64  \n",
      " 24  KO loss A      7577 non-null   int64  \n",
      " 25  Sub win A      7577 non-null   int64  \n",
      " 26  Sub loss A     7577 non-null   int64  \n",
      " 27  Dec win A      7577 non-null   int64  \n",
      " 28  Dec loss A     7577 non-null   int64  \n",
      " 29  Draws A        7577 non-null   int64  \n",
      " 30  UFC win A      7577 non-null   int64  \n",
      " 31  UFC loss A     7577 non-null   int64  \n",
      " 32  UFC draws A    7577 non-null   int64  \n",
      " 33  Nationality A  7576 non-null   object \n",
      " 34  Birthday A     7545 non-null   object \n",
      " 35  Nick A         5945 non-null   object \n",
      " 36  Link B         7577 non-null   object \n",
      " 37  Nickname B     0 non-null      float64\n",
      " 38  Record B       7577 non-null   object \n",
      " 39  Odds B         7128 non-null   object \n",
      " 40  Title B        347 non-null    object \n",
      " 41  Weight B       7492 non-null   object \n",
      " 42  Age B          7440 non-null   object \n",
      " 43  Height B       7570 non-null   object \n",
      " 44  Reach B        6838 non-null   object \n",
      " 45  KO win B       7577 non-null   int64  \n",
      " 46  KO loss B      7577 non-null   int64  \n",
      " 47  Sub win B      7577 non-null   int64  \n",
      " 48  Sub loss B     7577 non-null   int64  \n",
      " 49  Dec win B      7577 non-null   int64  \n",
      " 50  Dec loss B     7577 non-null   int64  \n",
      " 51  Draws B        7577 non-null   int64  \n",
      " 52  UFC win B      7577 non-null   int64  \n",
      " 53  UFC loss B     7577 non-null   int64  \n",
      " 54  UFC draws B    7577 non-null   int64  \n",
      " 55  Nationality B  7573 non-null   object \n",
      " 56  Birthday B     7454 non-null   object \n",
      " 57  Nick B         5826 non-null   object \n",
      " 58  Referee B      7465 non-null   object \n",
      "dtypes: float64(3), int64(20), object(36)\n",
      "memory usage: 3.4+ MB\n"
     ]
    }
   ],
   "source": [
    "df.info()"
   ]
  },
  {
   "cell_type": "markdown",
   "id": "209c10d0",
   "metadata": {},
   "source": [
    "Lets drop \"Nickname A\" and \"Nickname B\" since they have no values, we will leave \"Nick A\" and \"Nick B\" instead."
   ]
  },
  {
   "cell_type": "code",
   "execution_count": 63,
   "id": "b94fd929",
   "metadata": {
    "scrolled": true
   },
   "outputs": [],
   "source": [
    "df.drop(['Nickname A', 'Nickname B'], axis=1, inplace=True)"
   ]
  },
  {
   "cell_type": "markdown",
   "id": "590a282a",
   "metadata": {},
   "source": [
    "Extract the \"Description\" from the \"Result\" and merge results into categories"
   ]
  },
  {
   "cell_type": "code",
   "execution_count": 64,
   "id": "e0bc4d14",
   "metadata": {},
   "outputs": [],
   "source": [
    "df['Description'] = df['Result'].str.extract(r',\\s*(.*)', expand=False)\n",
    "df[\"Result\"].replace(r',\\s*(.*)', \"\", regex=True, inplace=True)"
   ]
  },
  {
   "cell_type": "code",
   "execution_count": 65,
   "id": "62352adf",
   "metadata": {},
   "outputs": [
    {
     "data": {
      "text/plain": [
       "Result\n",
       "Decision                    3416\n",
       "KO/TKO                      2451\n",
       "Submission                  1546\n",
       "Ends in a No Contest          66\n",
       "Ends in a Draw                58\n",
       "Disqualificaton               20\n",
       "Overturned to No Contest      19\n",
       "Result Overturned              1\n",
       "Name: count, dtype: int64"
      ]
     },
     "execution_count": 65,
     "metadata": {},
     "output_type": "execute_result"
    }
   ],
   "source": [
    "df[\"Result\"].value_counts()"
   ]
  },
  {
   "cell_type": "code",
   "execution_count": 66,
   "id": "5a62357c",
   "metadata": {},
   "outputs": [],
   "source": [
    "# 1\n",
    "df.loc[df[\"Result\"] == \"Ends in a No Contest\", \"Result\"] = \"No Contest\"\n",
    "df.loc[df[\"Result\"] == \"Overturned to No Contest\", \"Result\"] = \"No Contest\"\n",
    "df.loc[df[\"Result\"] == \"Result Overturned\", \"Result\"] = \"No Contest\"\n",
    "# 2\n",
    "df.loc[df[\"Result\"] == \"Disqualificaton\", \"Result\"] = \"KO/TKO\"\n",
    "# 3\n",
    "df.loc[df[\"Result\"] == \"Ends in a Draw\", \"Result\"] = \"Draw\""
   ]
  },
  {
   "cell_type": "code",
   "execution_count": 67,
   "id": "5d4c5f85",
   "metadata": {},
   "outputs": [
    {
     "data": {
      "text/plain": [
       "Result\n",
       "Decision      3416\n",
       "KO/TKO        2471\n",
       "Submission    1546\n",
       "No Contest      86\n",
       "Draw            58\n",
       "Name: count, dtype: int64"
      ]
     },
     "execution_count": 67,
     "metadata": {},
     "output_type": "execute_result"
    }
   ],
   "source": [
    "df[\"Result\"].value_counts()"
   ]
  },
  {
   "cell_type": "markdown",
   "id": "3d1a4dac",
   "metadata": {},
   "source": [
    "The \"Result\" column in this dataset is more of a \"Method\" how the fight ended. \"Fighter A\" column is a winner and \"Fighter B\" is a loser unless the fight ends in a \"No Contest\" or a \"Draw\"."
   ]
  },
  {
   "cell_type": "markdown",
   "id": "d983287e",
   "metadata": {},
   "source": [
    "We have to create new column \"Method\", copy the data from \"Result\" and fill the \"Result\" with real result data(win, loss, no contest, draw)."
   ]
  },
  {
   "cell_type": "code",
   "execution_count": 68,
   "id": "861e0a30",
   "metadata": {},
   "outputs": [],
   "source": [
    "df[\"Method\"] = df[\"Result\"]"
   ]
  },
  {
   "cell_type": "code",
   "execution_count": 69,
   "id": "cbe3dc55",
   "metadata": {},
   "outputs": [],
   "source": [
    "for i in df.index:\n",
    "    if df.loc[i, \"Method\"] in [\"Decision\", \"KO/TKO\", \"Submission\"]:\n",
    "        df.loc[i, \"Result\"] = \"win\"\n",
    "    elif df.loc[i, \"Method\"] == \"No Contest\":\n",
    "        df.loc[i, \"Result\"] = \"NC\"\n",
    "    elif df.loc[i, \"Method\"] == \"Draw\":\n",
    "        df.loc[i, \"Result\"] = \"draw\""
   ]
  },
  {
   "cell_type": "code",
   "execution_count": 70,
   "id": "bf90dda3",
   "metadata": {},
   "outputs": [
    {
     "data": {
      "text/plain": [
       "Result\n",
       "win     7433\n",
       "NC        86\n",
       "draw      58\n",
       "Name: count, dtype: int64"
      ]
     },
     "execution_count": 70,
     "metadata": {},
     "output_type": "execute_result"
    }
   ],
   "source": [
    "df[\"Result\"].value_counts()"
   ]
  },
  {
   "cell_type": "markdown",
   "id": "9f7bfea6",
   "metadata": {},
   "source": [
    "We have successfully created new column \"Method\" and filled the \"Result\" column with real result data(win, loss, NC, draw)."
   ]
  },
  {
   "cell_type": "markdown",
   "id": "b8377746",
   "metadata": {},
   "source": [
    "Now we can change the \"Draw\" values in \"Method\" column to decision."
   ]
  },
  {
   "cell_type": "code",
   "execution_count": 71,
   "id": "4d176c5a",
   "metadata": {},
   "outputs": [],
   "source": [
    "df.loc[df[\"Method\"] == \"Draw\", \"Method\"] = \"Decision\""
   ]
  },
  {
   "cell_type": "code",
   "execution_count": 72,
   "id": "6b59f329",
   "metadata": {},
   "outputs": [
    {
     "data": {
      "text/plain": [
       "Method\n",
       "Decision      3474\n",
       "KO/TKO        2471\n",
       "Submission    1546\n",
       "No Contest      86\n",
       "Name: count, dtype: int64"
      ]
     },
     "execution_count": 72,
     "metadata": {},
     "output_type": "execute_result"
    }
   ],
   "source": [
    "df[\"Method\"].value_counts()"
   ]
  },
  {
   "cell_type": "markdown",
   "id": "e40da47f",
   "metadata": {},
   "source": [
    "We will take a closer look at the \"Time\" column since it is not structured."
   ]
  },
  {
   "cell_type": "code",
   "execution_count": 73,
   "id": "d7c0a0af",
   "metadata": {},
   "outputs": [
    {
     "data": {
      "text/html": [
       "<div>\n",
       "<style scoped>\n",
       "    .dataframe tbody tr th:only-of-type {\n",
       "        vertical-align: middle;\n",
       "    }\n",
       "\n",
       "    .dataframe tbody tr th {\n",
       "        vertical-align: top;\n",
       "    }\n",
       "\n",
       "    .dataframe thead th {\n",
       "        text-align: right;\n",
       "    }\n",
       "</style>\n",
       "<table border=\"1\" class=\"dataframe\">\n",
       "  <thead>\n",
       "    <tr style=\"text-align: right;\">\n",
       "      <th></th>\n",
       "      <th>Time</th>\n",
       "      <th>Result</th>\n",
       "      <th>Method</th>\n",
       "    </tr>\n",
       "  </thead>\n",
       "  <tbody>\n",
       "    <tr>\n",
       "      <th>0</th>\n",
       "      <td>4:08 Round 1 of 5</td>\n",
       "      <td>win</td>\n",
       "      <td>Submission</td>\n",
       "    </tr>\n",
       "    <tr>\n",
       "      <th>1</th>\n",
       "      <td>1:00 Round 2 of 3, 6:00 Total</td>\n",
       "      <td>NC</td>\n",
       "      <td>No Contest</td>\n",
       "    </tr>\n",
       "    <tr>\n",
       "      <th>2</th>\n",
       "      <td>3 Rounds, 15:00 Total</td>\n",
       "      <td>win</td>\n",
       "      <td>Decision</td>\n",
       "    </tr>\n",
       "    <tr>\n",
       "      <th>3</th>\n",
       "      <td>3 Rounds, 15:00 Total</td>\n",
       "      <td>win</td>\n",
       "      <td>Decision</td>\n",
       "    </tr>\n",
       "    <tr>\n",
       "      <th>4</th>\n",
       "      <td>3:54 Round 1 of 3</td>\n",
       "      <td>win</td>\n",
       "      <td>Submission</td>\n",
       "    </tr>\n",
       "  </tbody>\n",
       "</table>\n",
       "</div>"
      ],
      "text/plain": [
       "                            Time Result      Method\n",
       "0              4:08 Round 1 of 5    win  Submission\n",
       "1  1:00 Round 2 of 3, 6:00 Total     NC  No Contest\n",
       "2          3 Rounds, 15:00 Total    win    Decision\n",
       "3          3 Rounds, 15:00 Total    win    Decision\n",
       "4              3:54 Round 1 of 3    win  Submission"
      ]
     },
     "execution_count": 73,
     "metadata": {},
     "output_type": "execute_result"
    }
   ],
   "source": [
    "df[[\"Time\", \"Result\", \"Method\"]].head()"
   ]
  },
  {
   "cell_type": "markdown",
   "id": "3866f4f0",
   "metadata": {},
   "source": [
    "There are two forms of records based on, the \"Method\" fight ended. \n",
    "\n",
    "If it ended on \"Decision\" and \"No Contest\", or if it ended on \"KO/TKO\" and \"Submission\".\n",
    "\n",
    "We will transform this column to show what round did the fight prematurely finish.\n",
    "\n",
    "For \"KO/TKO\" and \"Submission\" there will be values 1 to 5.\n",
    "\n",
    "For \"Decision\" and \"No Contest\" there will be value 0 as the fight wasnt prematurely finished. "
   ]
  },
  {
   "cell_type": "code",
   "execution_count": 74,
   "id": "1efc5463",
   "metadata": {},
   "outputs": [
    {
     "name": "stderr",
     "output_type": "stream",
     "text": [
      "C:\\Users\\Uživatel\\AppData\\Local\\Temp\\ipykernel_25140\\2166255254.py:3: FutureWarning: Setting an item of incompatible dtype is deprecated and will raise in a future error of pandas. Value '1' has dtype incompatible with float64, please explicitly cast to a compatible dtype first.\n",
      "  df.loc[i, \"Finish\"] = df.loc[i, 'Time'].split(\"Round \")[1].split(\" \")[0]\n"
     ]
    }
   ],
   "source": [
    "for i in df.index:\n",
    "    if df.loc[i, \"Method\"] in [\"KO/TKO\", \"Submission\"]:\n",
    "        df.loc[i, \"Finish\"] = df.loc[i, 'Time'].split(\"Round \")[1].split(\" \")[0]\n",
    "    elif df.loc[i, \"Method\"] in [\"Decision\", \"No Contest\"]:\n",
    "        df.loc[i, \"Finish\"] = \"0\"  "
   ]
  },
  {
   "cell_type": "code",
   "execution_count": 75,
   "id": "6ffefc0d",
   "metadata": {
    "scrolled": true
   },
   "outputs": [
    {
     "data": {
      "text/plain": [
       "Finish\n",
       "0    3560\n",
       "1    2145\n",
       "2    1209\n",
       "3     590\n",
       "4      43\n",
       "5      30\n",
       "Name: count, dtype: int64"
      ]
     },
     "execution_count": 75,
     "metadata": {},
     "output_type": "execute_result"
    }
   ],
   "source": [
    "df[\"Finish\"].value_counts()"
   ]
  },
  {
   "cell_type": "markdown",
   "id": "eecb3abd",
   "metadata": {},
   "source": [
    "Now we try to add missing values in column \"Referee\" with values from \"Referee B\" and drop the second."
   ]
  },
  {
   "cell_type": "code",
   "execution_count": 76,
   "id": "38d1d90a",
   "metadata": {},
   "outputs": [],
   "source": [
    "df.loc[(df[\"Referee\"].isna()) & df[\"Referee B\"].notna() , \"Referee\"] = df[\"Referee B\"]"
   ]
  },
  {
   "cell_type": "code",
   "execution_count": 77,
   "id": "036bddc1",
   "metadata": {},
   "outputs": [],
   "source": [
    "df.drop(\"Referee B\", axis=1, inplace = True)"
   ]
  },
  {
   "cell_type": "markdown",
   "id": "7b6abdb7",
   "metadata": {},
   "source": [
    "For height and reach we will use values in centimeters so we have to extract them."
   ]
  },
  {
   "cell_type": "code",
   "execution_count": 78,
   "id": "a426a08f",
   "metadata": {},
   "outputs": [
    {
     "data": {
      "text/html": [
       "<div>\n",
       "<style scoped>\n",
       "    .dataframe tbody tr th:only-of-type {\n",
       "        vertical-align: middle;\n",
       "    }\n",
       "\n",
       "    .dataframe tbody tr th {\n",
       "        vertical-align: top;\n",
       "    }\n",
       "\n",
       "    .dataframe thead th {\n",
       "        text-align: right;\n",
       "    }\n",
       "</style>\n",
       "<table border=\"1\" class=\"dataframe\">\n",
       "  <thead>\n",
       "    <tr style=\"text-align: right;\">\n",
       "      <th></th>\n",
       "      <th>Height A</th>\n",
       "      <th>Height B</th>\n",
       "      <th>Reach A</th>\n",
       "      <th>Reach B</th>\n",
       "    </tr>\n",
       "  </thead>\n",
       "  <tbody>\n",
       "    <tr>\n",
       "      <th>0</th>\n",
       "      <td>6'3\" (191cm)</td>\n",
       "      <td>6'2\" (188cm)</td>\n",
       "      <td>78.0\" (198cm)</td>\n",
       "      <td>75.0\" (191cm)</td>\n",
       "    </tr>\n",
       "    <tr>\n",
       "      <th>1</th>\n",
       "      <td>6'1\" (185cm)</td>\n",
       "      <td>5'10\" (178cm)</td>\n",
       "      <td>77.0\" (196cm)</td>\n",
       "      <td>74.0\" (188cm)</td>\n",
       "    </tr>\n",
       "    <tr>\n",
       "      <th>2</th>\n",
       "      <td>6'3\" (191cm)</td>\n",
       "      <td>6'5\" (196cm)</td>\n",
       "      <td>80.0\" (203cm)</td>\n",
       "      <td>83.0\" (211cm)</td>\n",
       "    </tr>\n",
       "    <tr>\n",
       "      <th>3</th>\n",
       "      <td>5'7\" (170cm)</td>\n",
       "      <td>5'7\" (170cm)</td>\n",
       "      <td>71.0\" (180cm)</td>\n",
       "      <td>71.0\" (180cm)</td>\n",
       "    </tr>\n",
       "    <tr>\n",
       "      <th>4</th>\n",
       "      <td>5'11\" (180cm)</td>\n",
       "      <td>5'7\" (170cm)</td>\n",
       "      <td>72.0\" (183cm)</td>\n",
       "      <td>66.0\" (168cm)</td>\n",
       "    </tr>\n",
       "  </tbody>\n",
       "</table>\n",
       "</div>"
      ],
      "text/plain": [
       "        Height A       Height B        Reach A        Reach B\n",
       "0   6'3\" (191cm)   6'2\" (188cm)  78.0\" (198cm)  75.0\" (191cm)\n",
       "1   6'1\" (185cm)  5'10\" (178cm)  77.0\" (196cm)  74.0\" (188cm)\n",
       "2   6'3\" (191cm)   6'5\" (196cm)  80.0\" (203cm)  83.0\" (211cm)\n",
       "3   5'7\" (170cm)   5'7\" (170cm)  71.0\" (180cm)  71.0\" (180cm)\n",
       "4  5'11\" (180cm)   5'7\" (170cm)  72.0\" (183cm)  66.0\" (168cm)"
      ]
     },
     "execution_count": 78,
     "metadata": {},
     "output_type": "execute_result"
    }
   ],
   "source": [
    "df[[\"Height A\", \"Height B\", \"Reach A\", \"Reach B\"]].head()"
   ]
  },
  {
   "cell_type": "code",
   "execution_count": 79,
   "id": "269d1d8d",
   "metadata": {},
   "outputs": [],
   "source": [
    "df['Height A'] = df['Height A'].str.extract(r'(\\d{3})cm', expand=False)\n",
    "df['Height B'] = df['Height B'].str.extract(r'(\\d{3})cm', expand=False)\n",
    "df['Reach A'] = df['Reach A'].str.extract(r'(\\d{3})cm', expand=False)\n",
    "df['Reach B'] = df['Reach B'].str.extract(r'(\\d{3})cm', expand=False)"
   ]
  },
  {
   "cell_type": "code",
   "execution_count": 80,
   "id": "bd17fc4c",
   "metadata": {},
   "outputs": [
    {
     "data": {
      "text/html": [
       "<div>\n",
       "<style scoped>\n",
       "    .dataframe tbody tr th:only-of-type {\n",
       "        vertical-align: middle;\n",
       "    }\n",
       "\n",
       "    .dataframe tbody tr th {\n",
       "        vertical-align: top;\n",
       "    }\n",
       "\n",
       "    .dataframe thead th {\n",
       "        text-align: right;\n",
       "    }\n",
       "</style>\n",
       "<table border=\"1\" class=\"dataframe\">\n",
       "  <thead>\n",
       "    <tr style=\"text-align: right;\">\n",
       "      <th></th>\n",
       "      <th>Height A</th>\n",
       "      <th>Height B</th>\n",
       "      <th>Reach A</th>\n",
       "      <th>Reach B</th>\n",
       "    </tr>\n",
       "  </thead>\n",
       "  <tbody>\n",
       "    <tr>\n",
       "      <th>0</th>\n",
       "      <td>191</td>\n",
       "      <td>188</td>\n",
       "      <td>198</td>\n",
       "      <td>191</td>\n",
       "    </tr>\n",
       "    <tr>\n",
       "      <th>1</th>\n",
       "      <td>185</td>\n",
       "      <td>178</td>\n",
       "      <td>196</td>\n",
       "      <td>188</td>\n",
       "    </tr>\n",
       "    <tr>\n",
       "      <th>2</th>\n",
       "      <td>191</td>\n",
       "      <td>196</td>\n",
       "      <td>203</td>\n",
       "      <td>211</td>\n",
       "    </tr>\n",
       "    <tr>\n",
       "      <th>3</th>\n",
       "      <td>170</td>\n",
       "      <td>170</td>\n",
       "      <td>180</td>\n",
       "      <td>180</td>\n",
       "    </tr>\n",
       "    <tr>\n",
       "      <th>4</th>\n",
       "      <td>180</td>\n",
       "      <td>170</td>\n",
       "      <td>183</td>\n",
       "      <td>168</td>\n",
       "    </tr>\n",
       "  </tbody>\n",
       "</table>\n",
       "</div>"
      ],
      "text/plain": [
       "  Height A Height B Reach A Reach B\n",
       "0      191      188     198     191\n",
       "1      185      178     196     188\n",
       "2      191      196     203     211\n",
       "3      170      170     180     180\n",
       "4      180      170     183     168"
      ]
     },
     "execution_count": 80,
     "metadata": {},
     "output_type": "execute_result"
    }
   ],
   "source": [
    "df[[\"Height A\", \"Height B\", \"Reach A\", \"Reach B\"]].head()"
   ]
  },
  {
   "cell_type": "markdown",
   "id": "dfb19d77",
   "metadata": {},
   "source": [
    "For weight we will use values in pounds so we have to extract them."
   ]
  },
  {
   "cell_type": "code",
   "execution_count": 81,
   "id": "552467d6",
   "metadata": {},
   "outputs": [
    {
     "data": {
      "text/html": [
       "<div>\n",
       "<style scoped>\n",
       "    .dataframe tbody tr th:only-of-type {\n",
       "        vertical-align: middle;\n",
       "    }\n",
       "\n",
       "    .dataframe tbody tr th {\n",
       "        vertical-align: top;\n",
       "    }\n",
       "\n",
       "    .dataframe thead th {\n",
       "        text-align: right;\n",
       "    }\n",
       "</style>\n",
       "<table border=\"1\" class=\"dataframe\">\n",
       "  <thead>\n",
       "    <tr style=\"text-align: right;\">\n",
       "      <th></th>\n",
       "      <th>Weight A</th>\n",
       "      <th>Weight B</th>\n",
       "    </tr>\n",
       "  </thead>\n",
       "  <tbody>\n",
       "    <tr>\n",
       "      <th>0</th>\n",
       "      <td>247.0 lbs (112.0 kgs)</td>\n",
       "      <td>265.5 lbs (120.4 kgs)</td>\n",
       "    </tr>\n",
       "    <tr>\n",
       "      <th>1</th>\n",
       "      <td>170.0 lbs (77.1 kgs)</td>\n",
       "      <td>171.0 lbs (77.6 kgs)</td>\n",
       "    </tr>\n",
       "    <tr>\n",
       "      <th>2</th>\n",
       "      <td>206.0 lbs (93.4 kgs)</td>\n",
       "      <td>205.0 lbs (93.0 kgs)</td>\n",
       "    </tr>\n",
       "    <tr>\n",
       "      <th>3</th>\n",
       "      <td>145.0 lbs (65.8 kgs)</td>\n",
       "      <td>145.5 lbs (66.0 kgs)</td>\n",
       "    </tr>\n",
       "    <tr>\n",
       "      <th>4</th>\n",
       "      <td>135.5 lbs (61.5 kgs)</td>\n",
       "      <td>136.0 lbs (61.7 kgs)</td>\n",
       "    </tr>\n",
       "  </tbody>\n",
       "</table>\n",
       "</div>"
      ],
      "text/plain": [
       "                Weight A               Weight B\n",
       "0  247.0 lbs (112.0 kgs)  265.5 lbs (120.4 kgs)\n",
       "1   170.0 lbs (77.1 kgs)   171.0 lbs (77.6 kgs)\n",
       "2   206.0 lbs (93.4 kgs)   205.0 lbs (93.0 kgs)\n",
       "3   145.0 lbs (65.8 kgs)   145.5 lbs (66.0 kgs)\n",
       "4   135.5 lbs (61.5 kgs)   136.0 lbs (61.7 kgs)"
      ]
     },
     "execution_count": 81,
     "metadata": {},
     "output_type": "execute_result"
    }
   ],
   "source": [
    "df[['Weight A', \"Weight B\"]].head()"
   ]
  },
  {
   "cell_type": "code",
   "execution_count": 82,
   "id": "427b7f8e",
   "metadata": {},
   "outputs": [],
   "source": [
    "df['Weight A'] = df['Weight A'].str.extract(r'([\\d.]+) lbs', expand=False)\n",
    "df['Weight B'] = df['Weight B'].str.extract(r'([\\d.]+) lbs', expand=False)"
   ]
  },
  {
   "cell_type": "code",
   "execution_count": 83,
   "id": "7c89ad54",
   "metadata": {},
   "outputs": [
    {
     "data": {
      "text/html": [
       "<div>\n",
       "<style scoped>\n",
       "    .dataframe tbody tr th:only-of-type {\n",
       "        vertical-align: middle;\n",
       "    }\n",
       "\n",
       "    .dataframe tbody tr th {\n",
       "        vertical-align: top;\n",
       "    }\n",
       "\n",
       "    .dataframe thead th {\n",
       "        text-align: right;\n",
       "    }\n",
       "</style>\n",
       "<table border=\"1\" class=\"dataframe\">\n",
       "  <thead>\n",
       "    <tr style=\"text-align: right;\">\n",
       "      <th></th>\n",
       "      <th>Weight A</th>\n",
       "      <th>Weight B</th>\n",
       "    </tr>\n",
       "  </thead>\n",
       "  <tbody>\n",
       "    <tr>\n",
       "      <th>0</th>\n",
       "      <td>247.0</td>\n",
       "      <td>265.5</td>\n",
       "    </tr>\n",
       "    <tr>\n",
       "      <th>1</th>\n",
       "      <td>170.0</td>\n",
       "      <td>171.0</td>\n",
       "    </tr>\n",
       "    <tr>\n",
       "      <th>2</th>\n",
       "      <td>206.0</td>\n",
       "      <td>205.0</td>\n",
       "    </tr>\n",
       "    <tr>\n",
       "      <th>3</th>\n",
       "      <td>145.0</td>\n",
       "      <td>145.5</td>\n",
       "    </tr>\n",
       "    <tr>\n",
       "      <th>4</th>\n",
       "      <td>135.5</td>\n",
       "      <td>136.0</td>\n",
       "    </tr>\n",
       "  </tbody>\n",
       "</table>\n",
       "</div>"
      ],
      "text/plain": [
       "  Weight A Weight B\n",
       "0    247.0    265.5\n",
       "1    170.0    171.0\n",
       "2    206.0    205.0\n",
       "3    145.0    145.5\n",
       "4    135.5    136.0"
      ]
     },
     "execution_count": 83,
     "metadata": {},
     "output_type": "execute_result"
    }
   ],
   "source": [
    "df[['Weight A', \"Weight B\"]].head()"
   ]
  },
  {
   "cell_type": "markdown",
   "id": "59fb85e8",
   "metadata": {},
   "source": [
    "For age we extract only years."
   ]
  },
  {
   "cell_type": "code",
   "execution_count": 84,
   "id": "f2e9e9a0",
   "metadata": {},
   "outputs": [
    {
     "data": {
      "text/html": [
       "<div>\n",
       "<style scoped>\n",
       "    .dataframe tbody tr th:only-of-type {\n",
       "        vertical-align: middle;\n",
       "    }\n",
       "\n",
       "    .dataframe tbody tr th {\n",
       "        vertical-align: top;\n",
       "    }\n",
       "\n",
       "    .dataframe thead th {\n",
       "        text-align: right;\n",
       "    }\n",
       "</style>\n",
       "<table border=\"1\" class=\"dataframe\">\n",
       "  <thead>\n",
       "    <tr style=\"text-align: right;\">\n",
       "      <th></th>\n",
       "      <th>Age A</th>\n",
       "      <th>Age B</th>\n",
       "    </tr>\n",
       "  </thead>\n",
       "  <tbody>\n",
       "    <tr>\n",
       "      <th>0</th>\n",
       "      <td>38 years, 4 months, 1 week</td>\n",
       "      <td>31 years</td>\n",
       "    </tr>\n",
       "    <tr>\n",
       "      <th>1</th>\n",
       "      <td>29 years, 5 months, 3 weeks, 3 days</td>\n",
       "      <td>29 years, 11 months, 3 weeks, 6 days</td>\n",
       "    </tr>\n",
       "    <tr>\n",
       "      <th>2</th>\n",
       "      <td>40 years, 11 months, 1 week, 1 day</td>\n",
       "      <td>31 years, 9 months, 3 days</td>\n",
       "    </tr>\n",
       "    <tr>\n",
       "      <th>3</th>\n",
       "      <td>26 years, 2 months, 4 weeks</td>\n",
       "      <td>27 years, 8 months, 1 week, 5 days</td>\n",
       "    </tr>\n",
       "    <tr>\n",
       "      <th>4</th>\n",
       "      <td>32 years, 7 months, 2 weeks, 4 days</td>\n",
       "      <td>32 years, 3 months, 1 week, 1 day</td>\n",
       "    </tr>\n",
       "  </tbody>\n",
       "</table>\n",
       "</div>"
      ],
      "text/plain": [
       "                                 Age A                                 Age B\n",
       "0           38 years, 4 months, 1 week                              31 years\n",
       "1  29 years, 5 months, 3 weeks, 3 days  29 years, 11 months, 3 weeks, 6 days\n",
       "2   40 years, 11 months, 1 week, 1 day            31 years, 9 months, 3 days\n",
       "3          26 years, 2 months, 4 weeks    27 years, 8 months, 1 week, 5 days\n",
       "4  32 years, 7 months, 2 weeks, 4 days     32 years, 3 months, 1 week, 1 day"
      ]
     },
     "execution_count": 84,
     "metadata": {},
     "output_type": "execute_result"
    }
   ],
   "source": [
    "df[[\"Age A\", \"Age B\"]].head()"
   ]
  },
  {
   "cell_type": "code",
   "execution_count": 85,
   "id": "91cbe1a0",
   "metadata": {},
   "outputs": [],
   "source": [
    "df['Age A'] = df['Age A'].str.extract(r'(\\d+) years', expand=False)\n",
    "df['Age B'] = df['Age B'].str.extract(r'(\\d+) years', expand=False)"
   ]
  },
  {
   "cell_type": "code",
   "execution_count": 86,
   "id": "d44b940b",
   "metadata": {},
   "outputs": [
    {
     "data": {
      "text/html": [
       "<div>\n",
       "<style scoped>\n",
       "    .dataframe tbody tr th:only-of-type {\n",
       "        vertical-align: middle;\n",
       "    }\n",
       "\n",
       "    .dataframe tbody tr th {\n",
       "        vertical-align: top;\n",
       "    }\n",
       "\n",
       "    .dataframe thead th {\n",
       "        text-align: right;\n",
       "    }\n",
       "</style>\n",
       "<table border=\"1\" class=\"dataframe\">\n",
       "  <thead>\n",
       "    <tr style=\"text-align: right;\">\n",
       "      <th></th>\n",
       "      <th>Age A</th>\n",
       "      <th>Age B</th>\n",
       "    </tr>\n",
       "  </thead>\n",
       "  <tbody>\n",
       "    <tr>\n",
       "      <th>0</th>\n",
       "      <td>38</td>\n",
       "      <td>31</td>\n",
       "    </tr>\n",
       "    <tr>\n",
       "      <th>1</th>\n",
       "      <td>29</td>\n",
       "      <td>29</td>\n",
       "    </tr>\n",
       "    <tr>\n",
       "      <th>2</th>\n",
       "      <td>40</td>\n",
       "      <td>31</td>\n",
       "    </tr>\n",
       "    <tr>\n",
       "      <th>3</th>\n",
       "      <td>26</td>\n",
       "      <td>27</td>\n",
       "    </tr>\n",
       "    <tr>\n",
       "      <th>4</th>\n",
       "      <td>32</td>\n",
       "      <td>32</td>\n",
       "    </tr>\n",
       "  </tbody>\n",
       "</table>\n",
       "</div>"
      ],
      "text/plain": [
       "  Age A Age B\n",
       "0    38    31\n",
       "1    29    29\n",
       "2    40    31\n",
       "3    26    27\n",
       "4    32    32"
      ]
     },
     "execution_count": 86,
     "metadata": {},
     "output_type": "execute_result"
    }
   ],
   "source": [
    "df[[\"Age A\", \"Age B\"]].head()"
   ]
  },
  {
   "cell_type": "markdown",
   "id": "d6882b41",
   "metadata": {},
   "source": [
    "We split odds for numerical value and category."
   ]
  },
  {
   "cell_type": "code",
   "execution_count": 87,
   "id": "0d4f552f",
   "metadata": {
    "scrolled": true
   },
   "outputs": [
    {
     "data": {
      "text/html": [
       "<div>\n",
       "<style scoped>\n",
       "    .dataframe tbody tr th:only-of-type {\n",
       "        vertical-align: middle;\n",
       "    }\n",
       "\n",
       "    .dataframe tbody tr th {\n",
       "        vertical-align: top;\n",
       "    }\n",
       "\n",
       "    .dataframe thead th {\n",
       "        text-align: right;\n",
       "    }\n",
       "</style>\n",
       "<table border=\"1\" class=\"dataframe\">\n",
       "  <thead>\n",
       "    <tr style=\"text-align: right;\">\n",
       "      <th></th>\n",
       "      <th>Odds A</th>\n",
       "      <th>Odds B</th>\n",
       "    </tr>\n",
       "  </thead>\n",
       "  <tbody>\n",
       "    <tr>\n",
       "      <th>0</th>\n",
       "      <td>-105 (Near Even)</td>\n",
       "      <td>-115 (Near Even)</td>\n",
       "    </tr>\n",
       "    <tr>\n",
       "      <th>1</th>\n",
       "      <td>-180 (Slight Favorite)</td>\n",
       "      <td>+150 (Slight Underdog)</td>\n",
       "    </tr>\n",
       "    <tr>\n",
       "      <th>2</th>\n",
       "      <td>+500 (Heavy Underdog)</td>\n",
       "      <td>-700 (Huge Favorite)</td>\n",
       "    </tr>\n",
       "    <tr>\n",
       "      <th>3</th>\n",
       "      <td>+165 (Slight Underdog)</td>\n",
       "      <td>-200 (Moderate Favorite)</td>\n",
       "    </tr>\n",
       "    <tr>\n",
       "      <th>4</th>\n",
       "      <td>-230 (Moderate Favorite)</td>\n",
       "      <td>+190 (Slight Underdog)</td>\n",
       "    </tr>\n",
       "  </tbody>\n",
       "</table>\n",
       "</div>"
      ],
      "text/plain": [
       "                     Odds A                    Odds B\n",
       "0          -105 (Near Even)          -115 (Near Even)\n",
       "1    -180 (Slight Favorite)    +150 (Slight Underdog)\n",
       "2     +500 (Heavy Underdog)      -700 (Huge Favorite)\n",
       "3    +165 (Slight Underdog)  -200 (Moderate Favorite)\n",
       "4  -230 (Moderate Favorite)    +190 (Slight Underdog)"
      ]
     },
     "execution_count": 87,
     "metadata": {},
     "output_type": "execute_result"
    }
   ],
   "source": [
    "df[[\"Odds A\", \"Odds B\"]].head()"
   ]
  },
  {
   "cell_type": "code",
   "execution_count": 88,
   "id": "590d9598",
   "metadata": {},
   "outputs": [],
   "source": [
    "df['Odds cat A'] = df['Odds A'].str.extract(r'\\((.*?)\\)', expand=False)\n",
    "df[\"Odds A\"].replace(r'\\((.*?)\\)', \"\", regex=True, inplace=True)"
   ]
  },
  {
   "cell_type": "code",
   "execution_count": 89,
   "id": "817219a6",
   "metadata": {},
   "outputs": [],
   "source": [
    "df['Odds cat B'] = df['Odds B'].str.extract(r'\\((.*?)\\)', expand=False)\n",
    "df[\"Odds B\"].replace(r'\\((.*?)\\)', \"\", regex=True, inplace=True)"
   ]
  },
  {
   "cell_type": "code",
   "execution_count": 90,
   "id": "645cdaf9",
   "metadata": {
    "scrolled": false
   },
   "outputs": [
    {
     "data": {
      "text/html": [
       "<div>\n",
       "<style scoped>\n",
       "    .dataframe tbody tr th:only-of-type {\n",
       "        vertical-align: middle;\n",
       "    }\n",
       "\n",
       "    .dataframe tbody tr th {\n",
       "        vertical-align: top;\n",
       "    }\n",
       "\n",
       "    .dataframe thead th {\n",
       "        text-align: right;\n",
       "    }\n",
       "</style>\n",
       "<table border=\"1\" class=\"dataframe\">\n",
       "  <thead>\n",
       "    <tr style=\"text-align: right;\">\n",
       "      <th></th>\n",
       "      <th>Odds A</th>\n",
       "      <th>Odds cat A</th>\n",
       "      <th>Odds B</th>\n",
       "      <th>Odds cat B</th>\n",
       "    </tr>\n",
       "  </thead>\n",
       "  <tbody>\n",
       "    <tr>\n",
       "      <th>0</th>\n",
       "      <td>-105</td>\n",
       "      <td>Near Even</td>\n",
       "      <td>-115</td>\n",
       "      <td>Near Even</td>\n",
       "    </tr>\n",
       "    <tr>\n",
       "      <th>1</th>\n",
       "      <td>-180</td>\n",
       "      <td>Slight Favorite</td>\n",
       "      <td>+150</td>\n",
       "      <td>Slight Underdog</td>\n",
       "    </tr>\n",
       "    <tr>\n",
       "      <th>2</th>\n",
       "      <td>+500</td>\n",
       "      <td>Heavy Underdog</td>\n",
       "      <td>-700</td>\n",
       "      <td>Huge Favorite</td>\n",
       "    </tr>\n",
       "    <tr>\n",
       "      <th>3</th>\n",
       "      <td>+165</td>\n",
       "      <td>Slight Underdog</td>\n",
       "      <td>-200</td>\n",
       "      <td>Moderate Favorite</td>\n",
       "    </tr>\n",
       "    <tr>\n",
       "      <th>4</th>\n",
       "      <td>-230</td>\n",
       "      <td>Moderate Favorite</td>\n",
       "      <td>+190</td>\n",
       "      <td>Slight Underdog</td>\n",
       "    </tr>\n",
       "  </tbody>\n",
       "</table>\n",
       "</div>"
      ],
      "text/plain": [
       "  Odds A         Odds cat A Odds B         Odds cat B\n",
       "0  -105           Near Even  -115           Near Even\n",
       "1  -180     Slight Favorite  +150     Slight Underdog\n",
       "2  +500      Heavy Underdog  -700       Huge Favorite\n",
       "3  +165     Slight Underdog  -200   Moderate Favorite\n",
       "4  -230   Moderate Favorite  +190     Slight Underdog"
      ]
     },
     "execution_count": 90,
     "metadata": {},
     "output_type": "execute_result"
    }
   ],
   "source": [
    "df[[\"Odds A\", \"Odds cat A\", \"Odds B\", \"Odds cat B\"]].head()"
   ]
  },
  {
   "cell_type": "markdown",
   "id": "983b78be",
   "metadata": {},
   "source": [
    "## Drop non valuable columns for further analysis"
   ]
  },
  {
   "cell_type": "markdown",
   "id": "81ee571f",
   "metadata": {},
   "source": [
    "For further analysis there are some useless columns that we can drop:\n",
    "1. \"Bout Link\", \n",
    "2. \"Time\" - we already stored the important information in \"Finish\",\n",
    "3. \"Event Link\" - we will keep \"Event Name\" which has same purpose,\n",
    "4. \"Link A\" and \"Link B\",\n",
    "5. \"Record A\", \"Record B\" - we have detailed record in other columns,\n",
    "6. \"Birthday A\" and \"Birthday B\" - we keep the age columns which are more friendly to work with.\n"
   ]
  },
  {
   "cell_type": "code",
   "execution_count": 91,
   "id": "03cb212d",
   "metadata": {},
   "outputs": [],
   "source": [
    "df.drop([\"Bout Link\", \"Time\", \"Event Link\", \"Link A\", \"Link B\",\"Record A\", \"Record B\", \"Birthday A\", \"Birthday B\"], axis=1, inplace=True)"
   ]
  },
  {
   "cell_type": "code",
   "execution_count": 92,
   "id": "e0d7cbf7",
   "metadata": {
    "scrolled": true
   },
   "outputs": [
    {
     "name": "stdout",
     "output_type": "stream",
     "text": [
      "<class 'pandas.core.frame.DataFrame'>\n",
      "RangeIndex: 7577 entries, 0 to 7576\n",
      "Data columns (total 52 columns):\n",
      " #   Column         Non-Null Count  Dtype  \n",
      "---  ------         --------------  -----  \n",
      " 0   Fighter A      7577 non-null   object \n",
      " 1   Fighter B      7577 non-null   object \n",
      " 2   Result         7577 non-null   object \n",
      " 3   Weightclass    7453 non-null   float64\n",
      " 4   Rounds         7463 non-null   object \n",
      " 5   Venue          7577 non-null   object \n",
      " 6   Date           7577 non-null   object \n",
      " 7   Location       7577 non-null   object \n",
      " 8   Billing        7577 non-null   object \n",
      " 9   Event Name     7577 non-null   object \n",
      " 10  Referee        7475 non-null   object \n",
      " 11  Odds A         7129 non-null   object \n",
      " 12  Title A        347 non-null    object \n",
      " 13  Weight A       7509 non-null   object \n",
      " 14  Age A          7539 non-null   object \n",
      " 15  Height A       7576 non-null   object \n",
      " 16  Reach A        7181 non-null   object \n",
      " 17  KO win A       7577 non-null   int64  \n",
      " 18  KO loss A      7577 non-null   int64  \n",
      " 19  Sub win A      7577 non-null   int64  \n",
      " 20  Sub loss A     7577 non-null   int64  \n",
      " 21  Dec win A      7577 non-null   int64  \n",
      " 22  Dec loss A     7577 non-null   int64  \n",
      " 23  Draws A        7577 non-null   int64  \n",
      " 24  UFC win A      7577 non-null   int64  \n",
      " 25  UFC loss A     7577 non-null   int64  \n",
      " 26  UFC draws A    7577 non-null   int64  \n",
      " 27  Nationality A  7576 non-null   object \n",
      " 28  Nick A         5945 non-null   object \n",
      " 29  Odds B         7128 non-null   object \n",
      " 30  Title B        347 non-null    object \n",
      " 31  Weight B       7492 non-null   object \n",
      " 32  Age B          7440 non-null   object \n",
      " 33  Height B       7570 non-null   object \n",
      " 34  Reach B        6838 non-null   object \n",
      " 35  KO win B       7577 non-null   int64  \n",
      " 36  KO loss B      7577 non-null   int64  \n",
      " 37  Sub win B      7577 non-null   int64  \n",
      " 38  Sub loss B     7577 non-null   int64  \n",
      " 39  Dec win B      7577 non-null   int64  \n",
      " 40  Dec loss B     7577 non-null   int64  \n",
      " 41  Draws B        7577 non-null   int64  \n",
      " 42  UFC win B      7577 non-null   int64  \n",
      " 43  UFC loss B     7577 non-null   int64  \n",
      " 44  UFC draws B    7577 non-null   int64  \n",
      " 45  Nationality B  7573 non-null   object \n",
      " 46  Nick B         5826 non-null   object \n",
      " 47  Description    7543 non-null   object \n",
      " 48  Method         7577 non-null   object \n",
      " 49  Finish         7577 non-null   object \n",
      " 50  Odds cat A     7129 non-null   object \n",
      " 51  Odds cat B     7128 non-null   object \n",
      "dtypes: float64(1), int64(20), object(31)\n",
      "memory usage: 3.0+ MB\n"
     ]
    }
   ],
   "source": [
    "df.info()"
   ]
  },
  {
   "cell_type": "markdown",
   "id": "0b06996b",
   "metadata": {},
   "source": [
    "## Drop rows of bouts before the adoption of NJSACB rules"
   ]
  },
  {
   "cell_type": "code",
   "execution_count": 93,
   "id": "e2e7b7c3",
   "metadata": {},
   "outputs": [],
   "source": [
    "df = df.loc[df[\"Date\"] > \"2001-04-03\"]"
   ]
  },
  {
   "cell_type": "code",
   "execution_count": 94,
   "id": "f56506f0",
   "metadata": {
    "scrolled": true
   },
   "outputs": [
    {
     "name": "stdout",
     "output_type": "stream",
     "text": [
      "<class 'pandas.core.frame.DataFrame'>\n",
      "Index: 7294 entries, 0 to 7293\n",
      "Data columns (total 52 columns):\n",
      " #   Column         Non-Null Count  Dtype  \n",
      "---  ------         --------------  -----  \n",
      " 0   Fighter A      7294 non-null   object \n",
      " 1   Fighter B      7294 non-null   object \n",
      " 2   Result         7294 non-null   object \n",
      " 3   Weightclass    7294 non-null   float64\n",
      " 4   Rounds         7225 non-null   object \n",
      " 5   Venue          7294 non-null   object \n",
      " 6   Date           7294 non-null   object \n",
      " 7   Location       7294 non-null   object \n",
      " 8   Billing        7294 non-null   object \n",
      " 9   Event Name     7294 non-null   object \n",
      " 10  Referee        7192 non-null   object \n",
      " 11  Odds A         7126 non-null   object \n",
      " 12  Title A        328 non-null    object \n",
      " 13  Weight A       7271 non-null   object \n",
      " 14  Age A          7290 non-null   object \n",
      " 15  Height A       7294 non-null   object \n",
      " 16  Reach A        7125 non-null   object \n",
      " 17  KO win A       7294 non-null   int64  \n",
      " 18  KO loss A      7294 non-null   int64  \n",
      " 19  Sub win A      7294 non-null   int64  \n",
      " 20  Sub loss A     7294 non-null   int64  \n",
      " 21  Dec win A      7294 non-null   int64  \n",
      " 22  Dec loss A     7294 non-null   int64  \n",
      " 23  Draws A        7294 non-null   int64  \n",
      " 24  UFC win A      7294 non-null   int64  \n",
      " 25  UFC loss A     7294 non-null   int64  \n",
      " 26  UFC draws A    7294 non-null   int64  \n",
      " 27  Nationality A  7294 non-null   object \n",
      " 28  Nick A         5737 non-null   object \n",
      " 29  Odds B         7125 non-null   object \n",
      " 30  Title B        328 non-null    object \n",
      " 31  Weight B       7270 non-null   object \n",
      " 32  Age B          7249 non-null   object \n",
      " 33  Height B       7291 non-null   object \n",
      " 34  Reach B        6815 non-null   object \n",
      " 35  KO win B       7294 non-null   int64  \n",
      " 36  KO loss B      7294 non-null   int64  \n",
      " 37  Sub win B      7294 non-null   int64  \n",
      " 38  Sub loss B     7294 non-null   int64  \n",
      " 39  Dec win B      7294 non-null   int64  \n",
      " 40  Dec loss B     7294 non-null   int64  \n",
      " 41  Draws B        7294 non-null   int64  \n",
      " 42  UFC win B      7294 non-null   int64  \n",
      " 43  UFC loss B     7294 non-null   int64  \n",
      " 44  UFC draws B    7294 non-null   int64  \n",
      " 45  Nationality B  7294 non-null   object \n",
      " 46  Nick B         5673 non-null   object \n",
      " 47  Description    7265 non-null   object \n",
      " 48  Method         7294 non-null   object \n",
      " 49  Finish         7294 non-null   object \n",
      " 50  Odds cat A     7126 non-null   object \n",
      " 51  Odds cat B     7125 non-null   object \n",
      "dtypes: float64(1), int64(20), object(31)\n",
      "memory usage: 2.9+ MB\n"
     ]
    }
   ],
   "source": [
    "df.info()"
   ]
  },
  {
   "cell_type": "markdown",
   "id": "447cba07",
   "metadata": {},
   "source": [
    "We dropped 283 rows of bouts before the adoption of NJSACB rules. (wikipedia)"
   ]
  },
  {
   "cell_type": "markdown",
   "id": "fe34c1ee",
   "metadata": {},
   "source": [
    "## Dealing with missing values"
   ]
  },
  {
   "cell_type": "markdown",
   "id": "ee27e5f8",
   "metadata": {},
   "source": [
    "### Rounds"
   ]
  },
  {
   "cell_type": "markdown",
   "id": "9d713ae9",
   "metadata": {},
   "source": [
    "We can start by dropping all the rows that are not a modern professional MMA bout based on the \"Rounds\" column. Everything that is not \"3 x 5\" or \"5 x 5\" needs to be dropped."
   ]
  },
  {
   "cell_type": "code",
   "execution_count": 95,
   "id": "34839db8",
   "metadata": {},
   "outputs": [
    {
     "data": {
      "text/plain": [
       "Rounds\n",
       "3 x 5    6570\n",
       "5 x 5     653\n",
       "3 x 3       2\n",
       "Name: count, dtype: int64"
      ]
     },
     "execution_count": 95,
     "metadata": {},
     "output_type": "execute_result"
    }
   ],
   "source": [
    "df[\"Rounds\"].value_counts()"
   ]
  },
  {
   "cell_type": "markdown",
   "id": "ad0c5634",
   "metadata": {},
   "source": [
    "We can check those two values of \"3 x 3\" manually."
   ]
  },
  {
   "cell_type": "code",
   "execution_count": 96,
   "id": "d0228114",
   "metadata": {},
   "outputs": [
    {
     "data": {
      "text/html": [
       "<div>\n",
       "<style scoped>\n",
       "    .dataframe tbody tr th:only-of-type {\n",
       "        vertical-align: middle;\n",
       "    }\n",
       "\n",
       "    .dataframe tbody tr th {\n",
       "        vertical-align: top;\n",
       "    }\n",
       "\n",
       "    .dataframe thead th {\n",
       "        text-align: right;\n",
       "    }\n",
       "</style>\n",
       "<table border=\"1\" class=\"dataframe\">\n",
       "  <thead>\n",
       "    <tr style=\"text-align: right;\">\n",
       "      <th></th>\n",
       "      <th>Fighter A</th>\n",
       "      <th>Fighter B</th>\n",
       "      <th>Result</th>\n",
       "      <th>Weightclass</th>\n",
       "      <th>Rounds</th>\n",
       "      <th>Venue</th>\n",
       "      <th>Date</th>\n",
       "      <th>Location</th>\n",
       "      <th>Billing</th>\n",
       "      <th>Event Name</th>\n",
       "      <th>...</th>\n",
       "      <th>UFC win B</th>\n",
       "      <th>UFC loss B</th>\n",
       "      <th>UFC draws B</th>\n",
       "      <th>Nationality B</th>\n",
       "      <th>Nick B</th>\n",
       "      <th>Description</th>\n",
       "      <th>Method</th>\n",
       "      <th>Finish</th>\n",
       "      <th>Odds cat A</th>\n",
       "      <th>Odds cat B</th>\n",
       "    </tr>\n",
       "  </thead>\n",
       "  <tbody>\n",
       "    <tr>\n",
       "      <th>5252</th>\n",
       "      <td>Felipe Arantes</td>\n",
       "      <td>Godofredo Pepey</td>\n",
       "      <td>win</td>\n",
       "      <td>145.0</td>\n",
       "      <td>3 x 3</td>\n",
       "      <td>Ginásio Paulo Sarasate</td>\n",
       "      <td>2013-06-08</td>\n",
       "      <td>Fortaleza, Ceara, Brazil</td>\n",
       "      <td>Prelim</td>\n",
       "      <td>UFC on FUEL TV 10: Nogueira vs. Werdum 2</td>\n",
       "      <td>...</td>\n",
       "      <td>1</td>\n",
       "      <td>1</td>\n",
       "      <td>0</td>\n",
       "      <td>Brazil</td>\n",
       "      <td>Pepey</td>\n",
       "      <td>Punches and Elbows</td>\n",
       "      <td>KO/TKO</td>\n",
       "      <td>1</td>\n",
       "      <td>Moderate Favorite</td>\n",
       "      <td>Slight Underdog</td>\n",
       "    </tr>\n",
       "    <tr>\n",
       "      <th>5313</th>\n",
       "      <td>Clint Hester</td>\n",
       "      <td>Bristol Marunde</td>\n",
       "      <td>win</td>\n",
       "      <td>185.0</td>\n",
       "      <td>3 x 3</td>\n",
       "      <td>Mandalay Bay Events Center</td>\n",
       "      <td>2013-04-13</td>\n",
       "      <td>Las Vegas, Nevada, United States</td>\n",
       "      <td>Prelim</td>\n",
       "      <td>The Ultimate Fighter 17 Finale</td>\n",
       "      <td>...</td>\n",
       "      <td>0</td>\n",
       "      <td>0</td>\n",
       "      <td>0</td>\n",
       "      <td>United States</td>\n",
       "      <td>NaN</td>\n",
       "      <td>Elbow</td>\n",
       "      <td>KO/TKO</td>\n",
       "      <td>3</td>\n",
       "      <td>Slight Favorite</td>\n",
       "      <td>Slight Underdog</td>\n",
       "    </tr>\n",
       "  </tbody>\n",
       "</table>\n",
       "<p>2 rows × 52 columns</p>\n",
       "</div>"
      ],
      "text/plain": [
       "           Fighter A        Fighter B Result  Weightclass Rounds  \\\n",
       "5252  Felipe Arantes  Godofredo Pepey    win        145.0  3 x 3   \n",
       "5313    Clint Hester  Bristol Marunde    win        185.0  3 x 3   \n",
       "\n",
       "                           Venue        Date  \\\n",
       "5252      Ginásio Paulo Sarasate  2013-06-08   \n",
       "5313  Mandalay Bay Events Center  2013-04-13   \n",
       "\n",
       "                              Location Billing  \\\n",
       "5252          Fortaleza, Ceara, Brazil  Prelim   \n",
       "5313  Las Vegas, Nevada, United States  Prelim   \n",
       "\n",
       "                                    Event Name  ... UFC win B UFC loss B  \\\n",
       "5252  UFC on FUEL TV 10: Nogueira vs. Werdum 2  ...         1          1   \n",
       "5313            The Ultimate Fighter 17 Finale  ...         0          0   \n",
       "\n",
       "     UFC draws B  Nationality B Nick B         Description  Method  Finish  \\\n",
       "5252           0         Brazil  Pepey  Punches and Elbows  KO/TKO       1   \n",
       "5313           0  United States    NaN               Elbow  KO/TKO       3   \n",
       "\n",
       "             Odds cat A       Odds cat B  \n",
       "5252  Moderate Favorite  Slight Underdog  \n",
       "5313    Slight Favorite  Slight Underdog  \n",
       "\n",
       "[2 rows x 52 columns]"
      ]
     },
     "execution_count": 96,
     "metadata": {},
     "output_type": "execute_result"
    }
   ],
   "source": [
    "df.loc[df[\"Rounds\"] == \"3 x 3\"]"
   ]
  },
  {
   "cell_type": "code",
   "execution_count": 97,
   "id": "5aaa43ba",
   "metadata": {},
   "outputs": [],
   "source": [
    "df.loc[df[\"Rounds\"] == \"3 x 3\", \"Rounds\"] = \"3 x 5\""
   ]
  },
  {
   "cell_type": "markdown",
   "id": "cc5c0d40",
   "metadata": {},
   "source": [
    "After manual investigestion, we discovered that in both cases the bouts were for 3 x 5 rounds not 3 x 3, so we changed them."
   ]
  },
  {
   "cell_type": "markdown",
   "id": "d3113bd9",
   "metadata": {},
   "source": [
    "Now we have to deal with missing values. \n",
    "\n",
    "All bouts have to be \"3 x 5\" or \"5 x 5\", basic standard for UFC is that a title fights or a main events are \"5 x 5\" and the rest is \"3 x 5\"."
   ]
  },
  {
   "cell_type": "code",
   "execution_count": 98,
   "id": "80f3ef08",
   "metadata": {},
   "outputs": [],
   "source": [
    "for i in df.index:\n",
    "    if pd.isnull(df.loc[i, \"Rounds\"]):\n",
    "        if pd.notnull(df.loc[i, \"Title A\"]) or df.loc[i, \"Billing\"] == \"Main Event\":\n",
    "            df.loc[i, \"Rounds\"] = \"5 x 5\"\n",
    "        else:\n",
    "            df.loc[i, \"Rounds\"] = \"3 x 5\""
   ]
  },
  {
   "cell_type": "code",
   "execution_count": 99,
   "id": "76af9a3d",
   "metadata": {},
   "outputs": [
    {
     "data": {
      "text/plain": [
       "Rounds\n",
       "3 x 5    6634\n",
       "5 x 5     660\n",
       "Name: count, dtype: int64"
      ]
     },
     "execution_count": 99,
     "metadata": {},
     "output_type": "execute_result"
    }
   ],
   "source": [
    "df[\"Rounds\"].value_counts()"
   ]
  },
  {
   "cell_type": "markdown",
   "id": "e16cdb66",
   "metadata": {},
   "source": [
    "We can see that of the 69 null values 7 were \"5 x 5\" and the rest was \"3 x 5\".\n",
    "Rounds columns is now full of values."
   ]
  },
  {
   "cell_type": "markdown",
   "id": "7e32c0da",
   "metadata": {},
   "source": [
    "For future manipulation it would be easier, if we kept just the number of rounds. Since all rounds are 5 minutes we dont need to store it in this format."
   ]
  },
  {
   "cell_type": "code",
   "execution_count": 100,
   "id": "b560fc62",
   "metadata": {},
   "outputs": [],
   "source": [
    "df.loc[df[\"Rounds\"] == \"3 x 5\", \"Rounds\"] = \"3\"\n",
    "df.loc[df[\"Rounds\"] == \"5 x 5\", \"Rounds\"] = \"5\""
   ]
  },
  {
   "cell_type": "code",
   "execution_count": 101,
   "id": "5b68abe4",
   "metadata": {},
   "outputs": [
    {
     "data": {
      "text/plain": [
       "Rounds\n",
       "3    6634\n",
       "5     660\n",
       "Name: count, dtype: int64"
      ]
     },
     "execution_count": 101,
     "metadata": {},
     "output_type": "execute_result"
    }
   ],
   "source": [
    "df[\"Rounds\"].value_counts()"
   ]
  },
  {
   "cell_type": "markdown",
   "id": "c220f1f8",
   "metadata": {},
   "source": [
    "### Odds"
   ]
  },
  {
   "cell_type": "markdown",
   "id": "185a6668",
   "metadata": {},
   "source": [
    "We will replace all missing values with \"+100\" and \"Even\"."
   ]
  },
  {
   "cell_type": "code",
   "execution_count": 102,
   "id": "65508dae",
   "metadata": {},
   "outputs": [],
   "source": [
    "df.loc[df[\"Odds A\"].isnull(), \"Odds A\"] = \"+100\"\n",
    "df.loc[df[\"Odds B\"].isnull(), \"Odds B\"] = \"+100\"\n",
    "df.loc[df[\"Odds cat A\"].isnull(), \"Odds cat A\"] = \"Even\"\n",
    "df.loc[df[\"Odds cat B\"].isnull(), \"Odds cat B\"] = \"Even\""
   ]
  },
  {
   "cell_type": "markdown",
   "id": "2265dad8",
   "metadata": {},
   "source": [
    "Values in 168 for A resp. 169 for B rows were replaced by even odds."
   ]
  },
  {
   "cell_type": "code",
   "execution_count": 103,
   "id": "af5e2831",
   "metadata": {
    "scrolled": true
   },
   "outputs": [
    {
     "name": "stdout",
     "output_type": "stream",
     "text": [
      "<class 'pandas.core.frame.DataFrame'>\n",
      "Index: 7294 entries, 0 to 7293\n",
      "Data columns (total 52 columns):\n",
      " #   Column         Non-Null Count  Dtype  \n",
      "---  ------         --------------  -----  \n",
      " 0   Fighter A      7294 non-null   object \n",
      " 1   Fighter B      7294 non-null   object \n",
      " 2   Result         7294 non-null   object \n",
      " 3   Weightclass    7294 non-null   float64\n",
      " 4   Rounds         7294 non-null   object \n",
      " 5   Venue          7294 non-null   object \n",
      " 6   Date           7294 non-null   object \n",
      " 7   Location       7294 non-null   object \n",
      " 8   Billing        7294 non-null   object \n",
      " 9   Event Name     7294 non-null   object \n",
      " 10  Referee        7192 non-null   object \n",
      " 11  Odds A         7294 non-null   object \n",
      " 12  Title A        328 non-null    object \n",
      " 13  Weight A       7271 non-null   object \n",
      " 14  Age A          7290 non-null   object \n",
      " 15  Height A       7294 non-null   object \n",
      " 16  Reach A        7125 non-null   object \n",
      " 17  KO win A       7294 non-null   int64  \n",
      " 18  KO loss A      7294 non-null   int64  \n",
      " 19  Sub win A      7294 non-null   int64  \n",
      " 20  Sub loss A     7294 non-null   int64  \n",
      " 21  Dec win A      7294 non-null   int64  \n",
      " 22  Dec loss A     7294 non-null   int64  \n",
      " 23  Draws A        7294 non-null   int64  \n",
      " 24  UFC win A      7294 non-null   int64  \n",
      " 25  UFC loss A     7294 non-null   int64  \n",
      " 26  UFC draws A    7294 non-null   int64  \n",
      " 27  Nationality A  7294 non-null   object \n",
      " 28  Nick A         5737 non-null   object \n",
      " 29  Odds B         7294 non-null   object \n",
      " 30  Title B        328 non-null    object \n",
      " 31  Weight B       7270 non-null   object \n",
      " 32  Age B          7249 non-null   object \n",
      " 33  Height B       7291 non-null   object \n",
      " 34  Reach B        6815 non-null   object \n",
      " 35  KO win B       7294 non-null   int64  \n",
      " 36  KO loss B      7294 non-null   int64  \n",
      " 37  Sub win B      7294 non-null   int64  \n",
      " 38  Sub loss B     7294 non-null   int64  \n",
      " 39  Dec win B      7294 non-null   int64  \n",
      " 40  Dec loss B     7294 non-null   int64  \n",
      " 41  Draws B        7294 non-null   int64  \n",
      " 42  UFC win B      7294 non-null   int64  \n",
      " 43  UFC loss B     7294 non-null   int64  \n",
      " 44  UFC draws B    7294 non-null   int64  \n",
      " 45  Nationality B  7294 non-null   object \n",
      " 46  Nick B         5673 non-null   object \n",
      " 47  Description    7265 non-null   object \n",
      " 48  Method         7294 non-null   object \n",
      " 49  Finish         7294 non-null   object \n",
      " 50  Odds cat A     7294 non-null   object \n",
      " 51  Odds cat B     7294 non-null   object \n",
      "dtypes: float64(1), int64(20), object(31)\n",
      "memory usage: 3.2+ MB\n"
     ]
    }
   ],
   "source": [
    "df.info()"
   ]
  },
  {
   "cell_type": "markdown",
   "id": "473c3d30",
   "metadata": {},
   "source": [
    "### Weight"
   ]
  },
  {
   "cell_type": "markdown",
   "id": "ee568e64",
   "metadata": {},
   "source": [
    "We replace weight of fighter with the value of \"Weightclass\" meaning they made the scheduled weight."
   ]
  },
  {
   "cell_type": "code",
   "execution_count": 104,
   "id": "dd7288d1",
   "metadata": {},
   "outputs": [],
   "source": [
    "df.loc[df[\"Weight A\"].isnull(), \"Weight A\"] = df[\"Weightclass\"]\n",
    "df.loc[df[\"Weight B\"].isnull(), \"Weight B\"] = df[\"Weightclass\"]"
   ]
  },
  {
   "cell_type": "markdown",
   "id": "572801a7",
   "metadata": {},
   "source": [
    "### Age\n"
   ]
  },
  {
   "cell_type": "markdown",
   "id": "61c38b42",
   "metadata": {},
   "source": [
    "We replace missing age values with average."
   ]
  },
  {
   "cell_type": "code",
   "execution_count": 105,
   "id": "f70d9fbb",
   "metadata": {},
   "outputs": [
    {
     "name": "stdout",
     "output_type": "stream",
     "text": [
      "29.766880252723\n"
     ]
    }
   ],
   "source": [
    "avg_a = pd.to_numeric(df['Age A'], errors='coerce').mean()\n",
    "avg_b = pd.to_numeric(df['Age B'], errors='coerce').mean()\n",
    "avg_age = (avg_a + avg_b) / 2\n",
    "print(avg_age)"
   ]
  },
  {
   "cell_type": "code",
   "execution_count": 106,
   "id": "c1b5812a",
   "metadata": {},
   "outputs": [],
   "source": [
    "df.loc[df[\"Age A\"].isnull(), \"Age A\"] = \"30\"\n",
    "df.loc[df[\"Age B\"].isnull(), \"Age B\"] = \"30\""
   ]
  },
  {
   "cell_type": "markdown",
   "id": "ba05a047",
   "metadata": {},
   "source": [
    "We found average age in the dataset rounded it to 30 and replaced the missing values."
   ]
  },
  {
   "cell_type": "markdown",
   "id": "d344a499",
   "metadata": {},
   "source": [
    "### Height and Reach"
   ]
  },
  {
   "cell_type": "markdown",
   "id": "39ddee64",
   "metadata": {},
   "source": [
    "We will replace height and reach with average in the selected \"Weightclass\"."
   ]
  },
  {
   "cell_type": "code",
   "execution_count": 107,
   "id": "3b747975",
   "metadata": {},
   "outputs": [],
   "source": [
    "# Convert \"Height\" column to numeric type\n",
    "df['Height A'] = pd.to_numeric(df['Height A'], errors='coerce')\n",
    "\n",
    "# Calculate the average height within each \"Weightclass\" group\n",
    "average_height_by_weightclass = df.groupby('Weightclass')['Height A'].transform('mean')\n",
    "\n",
    "# Fill missing values\n",
    "df['Height A'] = df['Height A'].fillna(average_height_by_weightclass)"
   ]
  },
  {
   "cell_type": "markdown",
   "id": "104f6c1b",
   "metadata": {},
   "source": [
    "Now we do the same for the other columns."
   ]
  },
  {
   "cell_type": "code",
   "execution_count": 108,
   "id": "8b270b37",
   "metadata": {},
   "outputs": [],
   "source": [
    "# \"Height B\"\n",
    "df['Height B'] = pd.to_numeric(df['Height B'], errors='coerce')\n",
    "average_height_by_weightclass = df.groupby('Weightclass')['Height B'].transform('mean')\n",
    "df['Height B'] = df['Height B'].fillna(average_height_by_weightclass)\n",
    "\n",
    "# \"Reach A\"\n",
    "df['Reach A'] = pd.to_numeric(df['Reach A'], errors='coerce')\n",
    "average_height_by_weightclass = df.groupby('Weightclass')['Reach A'].transform('mean')\n",
    "df['Reach A'] = df['Reach A'].fillna(average_height_by_weightclass)\n",
    "\n",
    "# \"Reach B\"\n",
    "df['Reach B'] = pd.to_numeric(df['Reach B'], errors='coerce')\n",
    "average_height_by_weightclass = df.groupby('Weightclass')['Reach B'].transform('mean')\n",
    "df['Reach B'] = df['Reach B'].fillna(average_height_by_weightclass)"
   ]
  },
  {
   "cell_type": "code",
   "execution_count": 109,
   "id": "89d0ab52",
   "metadata": {
    "scrolled": true
   },
   "outputs": [
    {
     "name": "stdout",
     "output_type": "stream",
     "text": [
      "<class 'pandas.core.frame.DataFrame'>\n",
      "Index: 7294 entries, 0 to 7293\n",
      "Data columns (total 52 columns):\n",
      " #   Column         Non-Null Count  Dtype  \n",
      "---  ------         --------------  -----  \n",
      " 0   Fighter A      7294 non-null   object \n",
      " 1   Fighter B      7294 non-null   object \n",
      " 2   Result         7294 non-null   object \n",
      " 3   Weightclass    7294 non-null   float64\n",
      " 4   Rounds         7294 non-null   object \n",
      " 5   Venue          7294 non-null   object \n",
      " 6   Date           7294 non-null   object \n",
      " 7   Location       7294 non-null   object \n",
      " 8   Billing        7294 non-null   object \n",
      " 9   Event Name     7294 non-null   object \n",
      " 10  Referee        7192 non-null   object \n",
      " 11  Odds A         7294 non-null   object \n",
      " 12  Title A        328 non-null    object \n",
      " 13  Weight A       7294 non-null   object \n",
      " 14  Age A          7294 non-null   object \n",
      " 15  Height A       7294 non-null   int64  \n",
      " 16  Reach A        7294 non-null   float64\n",
      " 17  KO win A       7294 non-null   int64  \n",
      " 18  KO loss A      7294 non-null   int64  \n",
      " 19  Sub win A      7294 non-null   int64  \n",
      " 20  Sub loss A     7294 non-null   int64  \n",
      " 21  Dec win A      7294 non-null   int64  \n",
      " 22  Dec loss A     7294 non-null   int64  \n",
      " 23  Draws A        7294 non-null   int64  \n",
      " 24  UFC win A      7294 non-null   int64  \n",
      " 25  UFC loss A     7294 non-null   int64  \n",
      " 26  UFC draws A    7294 non-null   int64  \n",
      " 27  Nationality A  7294 non-null   object \n",
      " 28  Nick A         5737 non-null   object \n",
      " 29  Odds B         7294 non-null   object \n",
      " 30  Title B        328 non-null    object \n",
      " 31  Weight B       7294 non-null   object \n",
      " 32  Age B          7294 non-null   object \n",
      " 33  Height B       7294 non-null   float64\n",
      " 34  Reach B        7293 non-null   float64\n",
      " 35  KO win B       7294 non-null   int64  \n",
      " 36  KO loss B      7294 non-null   int64  \n",
      " 37  Sub win B      7294 non-null   int64  \n",
      " 38  Sub loss B     7294 non-null   int64  \n",
      " 39  Dec win B      7294 non-null   int64  \n",
      " 40  Dec loss B     7294 non-null   int64  \n",
      " 41  Draws B        7294 non-null   int64  \n",
      " 42  UFC win B      7294 non-null   int64  \n",
      " 43  UFC loss B     7294 non-null   int64  \n",
      " 44  UFC draws B    7294 non-null   int64  \n",
      " 45  Nationality B  7294 non-null   object \n",
      " 46  Nick B         5673 non-null   object \n",
      " 47  Description    7265 non-null   object \n",
      " 48  Method         7294 non-null   object \n",
      " 49  Finish         7294 non-null   object \n",
      " 50  Odds cat A     7294 non-null   object \n",
      " 51  Odds cat B     7294 non-null   object \n",
      "dtypes: float64(4), int64(21), object(27)\n",
      "memory usage: 3.2+ MB\n"
     ]
    }
   ],
   "source": [
    "df.info()"
   ]
  },
  {
   "cell_type": "code",
   "execution_count": 110,
   "id": "9b025e47",
   "metadata": {},
   "outputs": [
    {
     "data": {
      "text/html": [
       "<div>\n",
       "<style scoped>\n",
       "    .dataframe tbody tr th:only-of-type {\n",
       "        vertical-align: middle;\n",
       "    }\n",
       "\n",
       "    .dataframe tbody tr th {\n",
       "        vertical-align: top;\n",
       "    }\n",
       "\n",
       "    .dataframe thead th {\n",
       "        text-align: right;\n",
       "    }\n",
       "</style>\n",
       "<table border=\"1\" class=\"dataframe\">\n",
       "  <thead>\n",
       "    <tr style=\"text-align: right;\">\n",
       "      <th></th>\n",
       "      <th>Fighter A</th>\n",
       "      <th>Fighter B</th>\n",
       "      <th>Result</th>\n",
       "      <th>Weightclass</th>\n",
       "      <th>Rounds</th>\n",
       "      <th>Venue</th>\n",
       "      <th>Date</th>\n",
       "      <th>Location</th>\n",
       "      <th>Billing</th>\n",
       "      <th>Event Name</th>\n",
       "      <th>...</th>\n",
       "      <th>UFC win B</th>\n",
       "      <th>UFC loss B</th>\n",
       "      <th>UFC draws B</th>\n",
       "      <th>Nationality B</th>\n",
       "      <th>Nick B</th>\n",
       "      <th>Description</th>\n",
       "      <th>Method</th>\n",
       "      <th>Finish</th>\n",
       "      <th>Odds cat A</th>\n",
       "      <th>Odds cat B</th>\n",
       "    </tr>\n",
       "  </thead>\n",
       "  <tbody>\n",
       "    <tr>\n",
       "      <th>6874</th>\n",
       "      <td>Anderson Silva</td>\n",
       "      <td>Travis Lutter</td>\n",
       "      <td>win</td>\n",
       "      <td>187.0</td>\n",
       "      <td>3</td>\n",
       "      <td>Mandalay Bay Events Center</td>\n",
       "      <td>2007-02-03</td>\n",
       "      <td>Las Vegas, Nevada, United States</td>\n",
       "      <td>Main Event</td>\n",
       "      <td>UFC 67: All or Nothing</td>\n",
       "      <td>...</td>\n",
       "      <td>2</td>\n",
       "      <td>2</td>\n",
       "      <td>0</td>\n",
       "      <td>United States</td>\n",
       "      <td>The Serial Killer</td>\n",
       "      <td>Elbows</td>\n",
       "      <td>Submission</td>\n",
       "      <td>2</td>\n",
       "      <td>Heavy Favorite</td>\n",
       "      <td>Heavy Underdog</td>\n",
       "    </tr>\n",
       "  </tbody>\n",
       "</table>\n",
       "<p>1 rows × 52 columns</p>\n",
       "</div>"
      ],
      "text/plain": [
       "           Fighter A      Fighter B Result  Weightclass Rounds  \\\n",
       "6874  Anderson Silva  Travis Lutter    win        187.0      3   \n",
       "\n",
       "                           Venue        Date  \\\n",
       "6874  Mandalay Bay Events Center  2007-02-03   \n",
       "\n",
       "                              Location     Billing              Event Name  \\\n",
       "6874  Las Vegas, Nevada, United States  Main Event  UFC 67: All or Nothing   \n",
       "\n",
       "      ... UFC win B UFC loss B UFC draws B  Nationality B             Nick B  \\\n",
       "6874  ...         2          2           0  United States  The Serial Killer   \n",
       "\n",
       "      Description      Method  Finish      Odds cat A      Odds cat B  \n",
       "6874       Elbows  Submission       2  Heavy Favorite  Heavy Underdog  \n",
       "\n",
       "[1 rows x 52 columns]"
      ]
     },
     "execution_count": 110,
     "metadata": {},
     "output_type": "execute_result"
    }
   ],
   "source": [
    "df[df[\"Reach B\"].isnull()]"
   ]
  },
  {
   "cell_type": "code",
   "execution_count": 111,
   "id": "ee1e6591",
   "metadata": {},
   "outputs": [
    {
     "data": {
      "text/plain": [
       "190.12674418604652"
      ]
     },
     "execution_count": 111,
     "metadata": {},
     "output_type": "execute_result"
    }
   ],
   "source": [
    "avg_reach = pd.to_numeric(df.loc[df['Weightclass'] == 185, \"Reach B\"], errors='coerce').mean()\n",
    "df.loc[df[\"Reach B\"].isnull(), \"Reach B\"] = avg_reach\n",
    "avg_reach"
   ]
  },
  {
   "cell_type": "markdown",
   "id": "506276e2",
   "metadata": {},
   "source": [
    "One value was still missing since there was no data for the group, so we calculated the average for the \"Weightclass\" close to the missing value."
   ]
  },
  {
   "cell_type": "code",
   "execution_count": 112,
   "id": "e877864f",
   "metadata": {
    "scrolled": true
   },
   "outputs": [
    {
     "name": "stdout",
     "output_type": "stream",
     "text": [
      "<class 'pandas.core.frame.DataFrame'>\n",
      "Index: 7294 entries, 0 to 7293\n",
      "Data columns (total 52 columns):\n",
      " #   Column         Non-Null Count  Dtype  \n",
      "---  ------         --------------  -----  \n",
      " 0   Fighter A      7294 non-null   object \n",
      " 1   Fighter B      7294 non-null   object \n",
      " 2   Result         7294 non-null   object \n",
      " 3   Weightclass    7294 non-null   float64\n",
      " 4   Rounds         7294 non-null   object \n",
      " 5   Venue          7294 non-null   object \n",
      " 6   Date           7294 non-null   object \n",
      " 7   Location       7294 non-null   object \n",
      " 8   Billing        7294 non-null   object \n",
      " 9   Event Name     7294 non-null   object \n",
      " 10  Referee        7192 non-null   object \n",
      " 11  Odds A         7294 non-null   object \n",
      " 12  Title A        328 non-null    object \n",
      " 13  Weight A       7294 non-null   object \n",
      " 14  Age A          7294 non-null   object \n",
      " 15  Height A       7294 non-null   int64  \n",
      " 16  Reach A        7294 non-null   float64\n",
      " 17  KO win A       7294 non-null   int64  \n",
      " 18  KO loss A      7294 non-null   int64  \n",
      " 19  Sub win A      7294 non-null   int64  \n",
      " 20  Sub loss A     7294 non-null   int64  \n",
      " 21  Dec win A      7294 non-null   int64  \n",
      " 22  Dec loss A     7294 non-null   int64  \n",
      " 23  Draws A        7294 non-null   int64  \n",
      " 24  UFC win A      7294 non-null   int64  \n",
      " 25  UFC loss A     7294 non-null   int64  \n",
      " 26  UFC draws A    7294 non-null   int64  \n",
      " 27  Nationality A  7294 non-null   object \n",
      " 28  Nick A         5737 non-null   object \n",
      " 29  Odds B         7294 non-null   object \n",
      " 30  Title B        328 non-null    object \n",
      " 31  Weight B       7294 non-null   object \n",
      " 32  Age B          7294 non-null   object \n",
      " 33  Height B       7294 non-null   float64\n",
      " 34  Reach B        7294 non-null   float64\n",
      " 35  KO win B       7294 non-null   int64  \n",
      " 36  KO loss B      7294 non-null   int64  \n",
      " 37  Sub win B      7294 non-null   int64  \n",
      " 38  Sub loss B     7294 non-null   int64  \n",
      " 39  Dec win B      7294 non-null   int64  \n",
      " 40  Dec loss B     7294 non-null   int64  \n",
      " 41  Draws B        7294 non-null   int64  \n",
      " 42  UFC win B      7294 non-null   int64  \n",
      " 43  UFC loss B     7294 non-null   int64  \n",
      " 44  UFC draws B    7294 non-null   int64  \n",
      " 45  Nationality B  7294 non-null   object \n",
      " 46  Nick B         5673 non-null   object \n",
      " 47  Description    7265 non-null   object \n",
      " 48  Method         7294 non-null   object \n",
      " 49  Finish         7294 non-null   object \n",
      " 50  Odds cat A     7294 non-null   object \n",
      " 51  Odds cat B     7294 non-null   object \n",
      "dtypes: float64(4), int64(21), object(27)\n",
      "memory usage: 3.2+ MB\n"
     ]
    }
   ],
   "source": [
    "df.info()"
   ]
  },
  {
   "cell_type": "markdown",
   "id": "eb172bbf",
   "metadata": {},
   "source": [
    "Now we change the data types of columns that are numerical."
   ]
  },
  {
   "cell_type": "code",
   "execution_count": 113,
   "id": "457351be",
   "metadata": {},
   "outputs": [
    {
     "data": {
      "text/html": [
       "<div>\n",
       "<style scoped>\n",
       "    .dataframe tbody tr th:only-of-type {\n",
       "        vertical-align: middle;\n",
       "    }\n",
       "\n",
       "    .dataframe tbody tr th {\n",
       "        vertical-align: top;\n",
       "    }\n",
       "\n",
       "    .dataframe thead th {\n",
       "        text-align: right;\n",
       "    }\n",
       "</style>\n",
       "<table border=\"1\" class=\"dataframe\">\n",
       "  <thead>\n",
       "    <tr style=\"text-align: right;\">\n",
       "      <th></th>\n",
       "      <th>Dec loss B</th>\n",
       "      <th>Draws B</th>\n",
       "      <th>UFC win B</th>\n",
       "      <th>UFC loss B</th>\n",
       "      <th>UFC draws B</th>\n",
       "      <th>Nationality B</th>\n",
       "      <th>Nick B</th>\n",
       "      <th>Description</th>\n",
       "      <th>Method</th>\n",
       "      <th>Finish</th>\n",
       "      <th>Odds cat A</th>\n",
       "      <th>Odds cat B</th>\n",
       "    </tr>\n",
       "  </thead>\n",
       "  <tbody>\n",
       "    <tr>\n",
       "      <th>0</th>\n",
       "      <td>1</td>\n",
       "      <td>0</td>\n",
       "      <td>8</td>\n",
       "      <td>6</td>\n",
       "      <td>0</td>\n",
       "      <td>Australia</td>\n",
       "      <td>Bam Bam</td>\n",
       "      <td>Rear Naked Choke</td>\n",
       "      <td>Submission</td>\n",
       "      <td>1</td>\n",
       "      <td>Near Even</td>\n",
       "      <td>Near Even</td>\n",
       "    </tr>\n",
       "    <tr>\n",
       "      <th>1</th>\n",
       "      <td>3</td>\n",
       "      <td>0</td>\n",
       "      <td>2</td>\n",
       "      <td>1</td>\n",
       "      <td>0</td>\n",
       "      <td>Congo, The Democratic Republic of the</td>\n",
       "      <td>The Last Ninja</td>\n",
       "      <td>Accidental Eye Poke</td>\n",
       "      <td>No Contest</td>\n",
       "      <td>0</td>\n",
       "      <td>Slight Favorite</td>\n",
       "      <td>Slight Underdog</td>\n",
       "    </tr>\n",
       "    <tr>\n",
       "      <th>2</th>\n",
       "      <td>1</td>\n",
       "      <td>0</td>\n",
       "      <td>6</td>\n",
       "      <td>4</td>\n",
       "      <td>0</td>\n",
       "      <td>United States</td>\n",
       "      <td>American Savage</td>\n",
       "      <td>Split</td>\n",
       "      <td>Decision</td>\n",
       "      <td>0</td>\n",
       "      <td>Heavy Underdog</td>\n",
       "      <td>Huge Favorite</td>\n",
       "    </tr>\n",
       "    <tr>\n",
       "      <th>3</th>\n",
       "      <td>0</td>\n",
       "      <td>0</td>\n",
       "      <td>1</td>\n",
       "      <td>0</td>\n",
       "      <td>0</td>\n",
       "      <td>United States</td>\n",
       "      <td>The MidWest Choppa</td>\n",
       "      <td>Split</td>\n",
       "      <td>Decision</td>\n",
       "      <td>0</td>\n",
       "      <td>Slight Underdog</td>\n",
       "      <td>Moderate Favorite</td>\n",
       "    </tr>\n",
       "    <tr>\n",
       "      <th>4</th>\n",
       "      <td>4</td>\n",
       "      <td>0</td>\n",
       "      <td>5</td>\n",
       "      <td>4</td>\n",
       "      <td>0</td>\n",
       "      <td>Sweden</td>\n",
       "      <td>Banzai</td>\n",
       "      <td>Rear Naked Choke</td>\n",
       "      <td>Submission</td>\n",
       "      <td>1</td>\n",
       "      <td>Moderate Favorite</td>\n",
       "      <td>Slight Underdog</td>\n",
       "    </tr>\n",
       "  </tbody>\n",
       "</table>\n",
       "</div>"
      ],
      "text/plain": [
       "   Dec loss B  Draws B  UFC win B  UFC loss B  UFC draws B  \\\n",
       "0           1        0          8           6            0   \n",
       "1           3        0          2           1            0   \n",
       "2           1        0          6           4            0   \n",
       "3           0        0          1           0            0   \n",
       "4           4        0          5           4            0   \n",
       "\n",
       "                           Nationality B              Nick B  \\\n",
       "0                              Australia             Bam Bam   \n",
       "1  Congo, The Democratic Republic of the      The Last Ninja   \n",
       "2                          United States     American Savage   \n",
       "3                          United States  The MidWest Choppa   \n",
       "4                                 Sweden              Banzai   \n",
       "\n",
       "           Description      Method Finish         Odds cat A  \\\n",
       "0     Rear Naked Choke  Submission      1          Near Even   \n",
       "1  Accidental Eye Poke  No Contest      0    Slight Favorite   \n",
       "2                Split    Decision      0     Heavy Underdog   \n",
       "3                Split    Decision      0    Slight Underdog   \n",
       "4     Rear Naked Choke  Submission      1  Moderate Favorite   \n",
       "\n",
       "          Odds cat B  \n",
       "0          Near Even  \n",
       "1    Slight Underdog  \n",
       "2      Huge Favorite  \n",
       "3  Moderate Favorite  \n",
       "4    Slight Underdog  "
      ]
     },
     "execution_count": 113,
     "metadata": {},
     "output_type": "execute_result"
    }
   ],
   "source": [
    "df.iloc[: , 40:60].head(5)"
   ]
  },
  {
   "cell_type": "code",
   "execution_count": 114,
   "id": "1b129782",
   "metadata": {},
   "outputs": [],
   "source": [
    "df[[\"Rounds\", \"Odds A\", \"Odds B\", \"Age A\", \"Age B\", \"Finish\"]] = df[[\"Rounds\", \"Odds A\", \"Odds B\", \"Age A\", \"Age B\", \"Finish\"]].astype(int)\n",
    "df[[\"Weight A\", \"Weight B\", \"Height A\"]] = df[[\"Weight A\", \"Weight B\", \"Height A\"]].astype(float)"
   ]
  },
  {
   "cell_type": "markdown",
   "id": "b036e1a1",
   "metadata": {},
   "source": [
    "We can change the order of columns again for a better picture"
   ]
  },
  {
   "cell_type": "code",
   "execution_count": 115,
   "id": "82febab4",
   "metadata": {},
   "outputs": [
    {
     "name": "stdout",
     "output_type": "stream",
     "text": [
      "['Fighter A', 'Fighter B', 'Result', 'Weightclass', 'Rounds', 'Venue', 'Date', 'Location', 'Billing', 'Event Name', 'Referee', 'Description', 'Method', 'Finish', 'Odds A', 'Title A', 'Weight A', 'Age A', 'Height A', 'Reach A', 'KO win A', 'KO loss A', 'Sub win A', 'Sub loss A', 'Dec win A', 'Dec loss A', 'Draws A', 'UFC win A', 'UFC loss A', 'UFC draws A', 'Nationality A', 'Nick A', 'Odds cat A', 'Odds B', 'Title B', 'Weight B', 'Age B', 'Height B', 'Reach B', 'KO win B', 'KO loss B', 'Sub win B', 'Sub loss B', 'Dec win B', 'Dec loss B', 'Draws B', 'UFC win B', 'UFC loss B', 'UFC draws B', 'Nationality B', 'Nick B', 'Odds cat B'] \n",
      "Number of cols: 52\n"
     ]
    }
   ],
   "source": [
    "columns = df.columns\n",
    "new_columns = (['Fighter A', 'Fighter B'] + \n",
    "               [col for col in columns if col not in ['Fighter A', 'Fighter B'] and not col.endswith((' A', ' B'))] + \n",
    "               [col for col in columns if col.endswith(' A') and col not in ['Fighter A']] +\n",
    "               [col for col in columns if col.endswith(' B') and col not in ['Fighter B']])\n",
    "print(new_columns, \"\\nNumber of cols:\", len(new_columns))"
   ]
  },
  {
   "cell_type": "code",
   "execution_count": 116,
   "id": "f6920013",
   "metadata": {},
   "outputs": [],
   "source": [
    "df = df[new_columns]"
   ]
  },
  {
   "cell_type": "code",
   "execution_count": 117,
   "id": "68b7e2d9",
   "metadata": {},
   "outputs": [
    {
     "name": "stdout",
     "output_type": "stream",
     "text": [
      "<class 'pandas.core.frame.DataFrame'>\n",
      "Index: 7294 entries, 0 to 7293\n",
      "Data columns (total 52 columns):\n",
      " #   Column         Non-Null Count  Dtype  \n",
      "---  ------         --------------  -----  \n",
      " 0   Fighter A      7294 non-null   object \n",
      " 1   Fighter B      7294 non-null   object \n",
      " 2   Result         7294 non-null   object \n",
      " 3   Weightclass    7294 non-null   float64\n",
      " 4   Rounds         7294 non-null   int32  \n",
      " 5   Venue          7294 non-null   object \n",
      " 6   Date           7294 non-null   object \n",
      " 7   Location       7294 non-null   object \n",
      " 8   Billing        7294 non-null   object \n",
      " 9   Event Name     7294 non-null   object \n",
      " 10  Referee        7192 non-null   object \n",
      " 11  Description    7265 non-null   object \n",
      " 12  Method         7294 non-null   object \n",
      " 13  Finish         7294 non-null   int32  \n",
      " 14  Odds A         7294 non-null   int32  \n",
      " 15  Title A        328 non-null    object \n",
      " 16  Weight A       7294 non-null   float64\n",
      " 17  Age A          7294 non-null   int32  \n",
      " 18  Height A       7294 non-null   float64\n",
      " 19  Reach A        7294 non-null   float64\n",
      " 20  KO win A       7294 non-null   int64  \n",
      " 21  KO loss A      7294 non-null   int64  \n",
      " 22  Sub win A      7294 non-null   int64  \n",
      " 23  Sub loss A     7294 non-null   int64  \n",
      " 24  Dec win A      7294 non-null   int64  \n",
      " 25  Dec loss A     7294 non-null   int64  \n",
      " 26  Draws A        7294 non-null   int64  \n",
      " 27  UFC win A      7294 non-null   int64  \n",
      " 28  UFC loss A     7294 non-null   int64  \n",
      " 29  UFC draws A    7294 non-null   int64  \n",
      " 30  Nationality A  7294 non-null   object \n",
      " 31  Nick A         5737 non-null   object \n",
      " 32  Odds cat A     7294 non-null   object \n",
      " 33  Odds B         7294 non-null   int32  \n",
      " 34  Title B        328 non-null    object \n",
      " 35  Weight B       7294 non-null   float64\n",
      " 36  Age B          7294 non-null   int32  \n",
      " 37  Height B       7294 non-null   float64\n",
      " 38  Reach B        7294 non-null   float64\n",
      " 39  KO win B       7294 non-null   int64  \n",
      " 40  KO loss B      7294 non-null   int64  \n",
      " 41  Sub win B      7294 non-null   int64  \n",
      " 42  Sub loss B     7294 non-null   int64  \n",
      " 43  Dec win B      7294 non-null   int64  \n",
      " 44  Dec loss B     7294 non-null   int64  \n",
      " 45  Draws B        7294 non-null   int64  \n",
      " 46  UFC win B      7294 non-null   int64  \n",
      " 47  UFC loss B     7294 non-null   int64  \n",
      " 48  UFC draws B    7294 non-null   int64  \n",
      " 49  Nationality B  7294 non-null   object \n",
      " 50  Nick B         5673 non-null   object \n",
      " 51  Odds cat B     7294 non-null   object \n",
      "dtypes: float64(7), int32(6), int64(20), object(19)\n",
      "memory usage: 3.0+ MB\n"
     ]
    }
   ],
   "source": [
    "df.info()"
   ]
  },
  {
   "cell_type": "markdown",
   "id": "e6a7d9eb",
   "metadata": {},
   "source": [
    "We can see that after data wrangling we have 33 numerical columns and 19 categorical."
   ]
  },
  {
   "cell_type": "code",
   "execution_count": 118,
   "id": "1fe49c9e",
   "metadata": {},
   "outputs": [],
   "source": [
    "df.to_csv(\"ufc_data.csv\", index=False)"
   ]
  }
 ],
 "metadata": {
  "kernelspec": {
   "display_name": "Python 3 (ipykernel)",
   "language": "python",
   "name": "python3"
  },
  "language_info": {
   "codemirror_mode": {
    "name": "ipython",
    "version": 3
   },
   "file_extension": ".py",
   "mimetype": "text/x-python",
   "name": "python",
   "nbconvert_exporter": "python",
   "pygments_lexer": "ipython3",
   "version": "3.11.4"
  }
 },
 "nbformat": 4,
 "nbformat_minor": 5
}
