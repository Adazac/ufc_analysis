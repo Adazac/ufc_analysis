{
 "cells": [
  {
   "cell_type": "markdown",
   "id": "041be83e",
   "metadata": {},
   "source": [
    "# Sherdog fights scraper\n"
   ]
  },
  {
   "cell_type": "code",
   "execution_count": 1,
   "id": "1a5d6a6e",
   "metadata": {},
   "outputs": [],
   "source": [
    "import requests as req\n",
    "from bs4 import BeautifulSoup # this module helps in web scrapping\n",
    "import pandas as pd\n",
    "import numpy as np\n",
    "import random\n",
    "from unidecode import unidecode # this module helps in search query\n",
    "import os \n",
    "import glob \n",
    "from tqdm import tqdm\n",
    "from random import randint, uniform\n",
    "from time import sleep"
   ]
  },
  {
   "cell_type": "code",
   "execution_count": 2,
   "id": "f15e7c3c",
   "metadata": {},
   "outputs": [],
   "source": [
    "def search(fighter):\n",
    "    url = 'https://www.google.com/search?q=' + unidecode(fighter) + \" sherdog\" # search query\n",
    "    headers = {\"User-Agent\": \"Mozilla/5.0 (Windows NT 10.0; Win64; x64) AppleWebKit/537.36 (KHTML, like Gecko) Chrome/111.0.0.0 Safari/537.36\"}\n",
    "    data = req.get(url, headers = headers).text\n",
    "    soup = BeautifulSoup(data,\"html.parser\")\n",
    "    return soup.h3.parent[\"href\"]"
   ]
  },
  {
   "cell_type": "code",
   "execution_count": 3,
   "id": "ff88d1b8",
   "metadata": {},
   "outputs": [],
   "source": [
    "def get_website(fighter):\n",
    "    url = search(fighter)\n",
    "    user_agent_list = [\n",
    "    'Mozilla/5.0 (Windows NT 10.0; Win64; x64) AppleWebKit/537.36 (KHTML, like Gecko) Chrome/93.0.4577.82 Safari/537.36',\n",
    "    'Mozilla/5.0 (iPhone; CPU iPhone OS 14_4_2 like Mac OS X) AppleWebKit/605.1.15 (KHTML, like Gecko) Version/14.0.3 Mobile/15E148 Safari/604.1',\n",
    "    'Mozilla/4.0 (compatible; MSIE 9.0; Windows NT 6.1)',\n",
    "    'Mozilla/5.0 (Windows NT 10.0; Win64; x64) AppleWebKit/537.36 (KHTML, like Gecko) Chrome/87.0.4280.141 Safari/537.36 Edg/87.0.664.75',\n",
    "    'Mozilla/5.0 (Windows NT 10.0; Win64; x64) AppleWebKit/537.36 (KHTML, like Gecko) Chrome/70.0.3538.102 Safari/537.36 Edge/18.18363',\n",
    "    ]\n",
    "    headers={\"User-Agent\": user_agent_list[random.randint(0, len(user_agent_list)-1)]}\n",
    "    data  = req.get(url, headers = headers).text \n",
    "    return data, url"
   ]
  },
  {
   "cell_type": "code",
   "execution_count": 4,
   "id": "0e61a8bc",
   "metadata": {},
   "outputs": [],
   "source": [
    "def get_record(fighter):\n",
    "    fighter_data, url = get_website(fighter)\n",
    "    fighter_soup = BeautifulSoup(fighter_data, \"html.parser\") \n",
    "    # Finds fighter information\n",
    "    nationality = \"\"\n",
    "    if fighter_soup.find(\"strong\", itemprop=\"nationality\") != None:\n",
    "        nationality = fighter_soup.find(\"strong\", itemprop=\"nationality\").text\n",
    "    nickname = \"\"\n",
    "    if fighter_soup.find(\"span\", class_=\"nickname\") != None:\n",
    "        nickname = fighter_soup.find(\"span\", class_=\"nickname\").find(\"em\").text\n",
    "    birthday = \"\"\n",
    "    if fighter_soup.find(\"span\", itemprop=\"birthDate\") != None:\n",
    "        birthday = fighter_soup.find(\"span\", itemprop=\"birthDate\").text\n",
    "    height_ft = \"\"\n",
    "    height_cm = \"\"\n",
    "    if fighter_soup.find(\"b\", itemprop=\"height\")!= None:\n",
    "        height_ft = fighter_soup.find(\"b\", itemprop=\"height\").text\n",
    "        if fighter_soup.find(\"b\", itemprop=\"height\").nextSibling.nextSibling.nextSibling != None:\n",
    "            height_cm = fighter_soup.find(\"b\", itemprop=\"height\").nextSibling.nextSibling.nextSibling\n",
    "    # Finds table with fighters record\n",
    "    table = fighter_soup.find(\"table\", class_=\"new_table fighter\")\n",
    "    # Creates DataFrame\n",
    "    fighter_record = pd.DataFrame(columns=[\"Fighter\", \"URL\", \"Nationality\", \"Nickname\", \"Birthday\", \"Height ft\", \"Height cm\", \"Opponent\", \"Result\", \"Method\", \"Round\", \"Time\", \"Event\", \"Date\", \"Referee\"])\n",
    "    # Fills the DataFrame with fighter record\n",
    "    for row in table.find_all(\"tr\", class_=\"\"):\n",
    "        col = row.find_all(\"td\")\n",
    "        if (col != []):\n",
    "            result = col[0].text\n",
    "            opponent = col[1].text\n",
    "            event = col[2].a.text\n",
    "            date = col[2].find(\"span\", class_=\"sub_line\").text\n",
    "            method = col[3].b.text\n",
    "            referee = col[3].span.text\n",
    "            rnd = col[4].text\n",
    "            time = col[5].text\n",
    "            fighter_record = fighter_record._append({\"Fighter\":fighter, \"URL\":url, \"Nationality\":nationality, \"Nickname\":nickname, \"Birthday\":birthday, \"Height ft\":height_ft, \"Height cm\":height_cm, \"Opponent\":opponent, \"Result\":result, \"Method\":method, \"Round\":rnd, \"Time\":time, \"Event\":event, \"Date\":date, \"Referee\":referee}, ignore_index=True)\n",
    "\n",
    "    return fighter_record"
   ]
  },
  {
   "cell_type": "code",
   "execution_count": 5,
   "id": "c8d2dcb3",
   "metadata": {},
   "outputs": [],
   "source": [
    "df = pd.read_csv(\"bouts_new.csv\")\n",
    "fighters_list = pd.concat([df[\"Fighter A\"], df[\"Fighter B\"]], ignore_index=True)"
   ]
  },
  {
   "cell_type": "code",
   "execution_count": 6,
   "id": "52b173e5",
   "metadata": {},
   "outputs": [],
   "source": [
    "fighters_list=fighters_list.unique()"
   ]
  },
  {
   "cell_type": "code",
   "execution_count": 7,
   "id": "89b49903",
   "metadata": {},
   "outputs": [
    {
     "data": {
      "text/plain": [
       "(2479,)"
      ]
     },
     "execution_count": 7,
     "metadata": {},
     "output_type": "execute_result"
    }
   ],
   "source": [
    "fighters_list.shape"
   ]
  },
  {
   "cell_type": "code",
   "execution_count": 168,
   "id": "f2d68a20",
   "metadata": {},
   "outputs": [],
   "source": [
    "arr=fighters_list[2160:]"
   ]
  },
  {
   "cell_type": "markdown",
   "id": "d9ce075a",
   "metadata": {},
   "source": [
    "Some fighters names need to be changed to be found on sherdog"
   ]
  },
  {
   "cell_type": "code",
   "execution_count": 169,
   "id": "8fbbae02",
   "metadata": {},
   "outputs": [],
   "source": [
    "arr[arr == \"Ian Machado Garry\"] = \"Ian Garry\""
   ]
  },
  {
   "cell_type": "code",
   "execution_count": 170,
   "id": "b80daa8c",
   "metadata": {},
   "outputs": [],
   "source": [
    "arr[arr == \"Sako Chivitchian\"] = \"Sako Chivitchyan\""
   ]
  },
  {
   "cell_type": "code",
   "execution_count": 268,
   "id": "e49ac080",
   "metadata": {},
   "outputs": [],
   "source": [
    "arr[arr == \"Razak Al-Hassan\"] = \"Razak Razor Al-Hassan\""
   ]
  },
  {
   "cell_type": "code",
   "execution_count": 171,
   "id": "dd81885b",
   "metadata": {},
   "outputs": [
    {
     "name": "stderr",
     "output_type": "stream",
     "text": [
      "100%|████████████████████████████████████████████████████████████████████████████████| 319/319 [16:23<00:00,  3.08s/it]\n"
     ]
    }
   ],
   "source": [
    "records = pd.DataFrame(columns=[\"Fighter\",\"URL\",\"Nationality\",\"Nickname\",\"Birthday\",\"Height ft\",\"Height cm\",\"Opponent\", \"Result\", \"Method\", \"Round\", \"Time\", \"Event\", \"Date\", \"Referee\"])\n",
    "counter = 0\n",
    "for name in tqdm(arr):\n",
    "    records = pd.concat([records, get_record(name)])\n",
    "    counter+=1\n",
    "    if counter == 90:\n",
    "        records.to_csv(\"records.csv\", index=False)\n",
    "        sleep(randint(20,40))\n",
    "        counter=0\n",
    "records\n",
    "records.to_csv(\"records.csv\", index=False)"
   ]
  },
  {
   "cell_type": "markdown",
   "id": "dac9b42b",
   "metadata": {},
   "source": [
    "We have to change the names back now"
   ]
  },
  {
   "cell_type": "code",
   "execution_count": 282,
   "id": "b5385c7e",
   "metadata": {},
   "outputs": [],
   "source": [
    "df=pd.read_csv(\"records.csv\")"
   ]
  },
  {
   "cell_type": "code",
   "execution_count": 283,
   "id": "ed2977d8",
   "metadata": {},
   "outputs": [],
   "source": [
    "df.loc[df[\"Fighter\"] == \"Ian Garry\", \"Fighter\"] = \"Ian Machado Garry\"\n",
    "df.loc[df[\"Fighter\"] == \"Sako Chivitchyan\", \"Fighter\"] = \"Sako Chivitchian\"\n",
    "df.loc[df[\"Fighter\"] == \"Razak Razor Al-Hassan\", \"Fighter\"] = \"Razak Al-Hassan\""
   ]
  },
  {
   "cell_type": "code",
   "execution_count": 284,
   "id": "1e6c043c",
   "metadata": {},
   "outputs": [
    {
     "data": {
      "text/plain": [
       "(2479,)"
      ]
     },
     "execution_count": 284,
     "metadata": {},
     "output_type": "execute_result"
    }
   ],
   "source": [
    "df[\"Fighter\"].unique().shape"
   ]
  },
  {
   "cell_type": "markdown",
   "id": "7f176e6a",
   "metadata": {},
   "source": [
    "We can see that there is the same number of fighters as when we started, that means we got records for all listed fighters"
   ]
  },
  {
   "cell_type": "code",
   "execution_count": 280,
   "id": "0cd916bc",
   "metadata": {},
   "outputs": [],
   "source": [
    "df.to_csv(\"records.csv\", index=False)"
   ]
  }
 ],
 "metadata": {
  "kernelspec": {
   "display_name": "Python 3 (ipykernel)",
   "language": "python",
   "name": "python3"
  },
  "language_info": {
   "codemirror_mode": {
    "name": "ipython",
    "version": 3
   },
   "file_extension": ".py",
   "mimetype": "text/x-python",
   "name": "python",
   "nbconvert_exporter": "python",
   "pygments_lexer": "ipython3",
   "version": "3.11.4"
  }
 },
 "nbformat": 4,
 "nbformat_minor": 5
}
