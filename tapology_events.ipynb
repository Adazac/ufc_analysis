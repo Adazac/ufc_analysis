{
 "cells": [
  {
   "cell_type": "markdown",
   "id": "ea80150f",
   "metadata": {},
   "source": [
    "# This notebook collects data about all UFC bouts with detailed info from events pages"
   ]
  },
  {
   "cell_type": "code",
   "execution_count": 1,
   "id": "9c6cc0c0-646d-488e-b865-dc26995d31e8",
   "metadata": {},
   "outputs": [],
   "source": [
    "import requests as req\n",
    "from bs4 import BeautifulSoup # this module helps in web scrapping\n",
    "import pandas as pd\n",
    "import random\n",
    "import os \n",
    "import glob \n",
    "import re"
   ]
  },
  {
   "cell_type": "code",
   "execution_count": 4,
   "id": "1707f7b1-3d63-4aaf-88d9-4897e48d50fa",
   "metadata": {},
   "outputs": [],
   "source": [
    "url = 'https://www.tapology.com/fightcenter/promotions/1-ultimate-fighting-championship-ufc'\n",
    "headers = {\"User-Agent\": \"Mozilla/5.0 (Windows NT 10.0; Win64; x64) AppleWebKit/537.36 (KHTML, like Gecko) Chrome/111.0.0.0 Safari/537.36\"}\n",
    "data = req.get(url, headers = headers).text\n",
    "soup = BeautifulSoup(data,\"html.parser\")"
   ]
  },
  {
   "cell_type": "markdown",
   "id": "d6672c31",
   "metadata": {},
   "source": [
    "### Gets UFC events page list from tapology"
   ]
  },
  {
   "cell_type": "code",
   "execution_count": 5,
   "id": "59931787-aa21-4cdb-9f58-ff091c413364",
   "metadata": {},
   "outputs": [],
   "source": [
    "page_list=[url]\n",
    "next_page = soup.find(\"span\", class_=\"next\")"
   ]
  },
  {
   "cell_type": "code",
   "execution_count": 6,
   "id": "bb0722f2-4245-4179-a18c-927721510827",
   "metadata": {},
   "outputs": [
    {
     "name": "stdout",
     "output_type": "stream",
     "text": [
      "/fightcenter/promotions/1-ultimate-fighting-championship-ufc?page=2\n",
      "/fightcenter/promotions/1-ultimate-fighting-championship-ufc?page=3\n",
      "/fightcenter/promotions/1-ultimate-fighting-championship-ufc?page=4\n",
      "/fightcenter/promotions/1-ultimate-fighting-championship-ufc?page=5\n",
      "/fightcenter/promotions/1-ultimate-fighting-championship-ufc?page=6\n",
      "/fightcenter/promotions/1-ultimate-fighting-championship-ufc?page=7\n",
      "/fightcenter/promotions/1-ultimate-fighting-championship-ufc?page=8\n",
      "/fightcenter/promotions/1-ultimate-fighting-championship-ufc?page=9\n",
      "/fightcenter/promotions/1-ultimate-fighting-championship-ufc?page=10\n",
      "/fightcenter/promotions/1-ultimate-fighting-championship-ufc?page=11\n",
      "/fightcenter/promotions/1-ultimate-fighting-championship-ufc?page=12\n",
      "/fightcenter/promotions/1-ultimate-fighting-championship-ufc?page=13\n",
      "/fightcenter/promotions/1-ultimate-fighting-championship-ufc?page=14\n",
      "/fightcenter/promotions/1-ultimate-fighting-championship-ufc?page=15\n",
      "/fightcenter/promotions/1-ultimate-fighting-championship-ufc?page=16\n",
      "/fightcenter/promotions/1-ultimate-fighting-championship-ufc?page=17\n",
      "/fightcenter/promotions/1-ultimate-fighting-championship-ufc?page=18\n",
      "/fightcenter/promotions/1-ultimate-fighting-championship-ufc?page=19\n",
      "/fightcenter/promotions/1-ultimate-fighting-championship-ufc?page=20\n",
      "/fightcenter/promotions/1-ultimate-fighting-championship-ufc?page=21\n",
      "/fightcenter/promotions/1-ultimate-fighting-championship-ufc?page=22\n",
      "/fightcenter/promotions/1-ultimate-fighting-championship-ufc?page=23\n",
      "/fightcenter/promotions/1-ultimate-fighting-championship-ufc?page=24\n",
      "/fightcenter/promotions/1-ultimate-fighting-championship-ufc?page=25\n",
      "/fightcenter/promotions/1-ultimate-fighting-championship-ufc?page=26\n",
      "/fightcenter/promotions/1-ultimate-fighting-championship-ufc?page=27\n",
      "/fightcenter/promotions/1-ultimate-fighting-championship-ufc?page=28\n",
      "/fightcenter/promotions/1-ultimate-fighting-championship-ufc?page=29\n"
     ]
    }
   ],
   "source": [
    "while next_page != None:\n",
    "    print(next_page.a[\"href\"])\n",
    "    url = 'https://www.tapology.com/'+ str(next_page.a[\"href\"])\n",
    "    page_list.append(url)\n",
    "    data = req.get(url, headers = headers).text\n",
    "    soup = BeautifulSoup(data,\"html.parser\")\n",
    "    next_page = soup.find(\"span\", class_=\"next\")"
   ]
  },
  {
   "cell_type": "markdown",
   "id": "bb2734a2",
   "metadata": {},
   "source": [
    "### Gets UFC events list from tapology"
   ]
  },
  {
   "cell_type": "code",
   "execution_count": 7,
   "id": "79321ce6",
   "metadata": {},
   "outputs": [],
   "source": [
    "from tqdm import tqdm"
   ]
  },
  {
   "cell_type": "code",
   "execution_count": 21,
   "id": "d0c26179",
   "metadata": {},
   "outputs": [
    {
     "name": "stderr",
     "output_type": "stream",
     "text": [
      "100%|██████████████████████████████████████████████████████████████████████████████████| 29/29 [00:34<00:00,  1.20s/it]\n"
     ]
    }
   ],
   "source": [
    "events = pd.DataFrame(columns=[\"Event Link\", \"Event Name\", \"Date\", \"Venue\", \"Location\"])\n",
    "# Iterates through page_list\n",
    "for page in tqdm(page_list):\n",
    "    data = req.get(page, headers = headers).text\n",
    "    soup = BeautifulSoup(data,\"html.parser\")\n",
    "    # Finds all listings on a page\n",
    "    listings = soup.find_all(class_=\"fcListing\")\n",
    "    # Iterates listings and saves each one in DataFrame\n",
    "    for listing in listings:\n",
    "        link = \"https://www.tapology.com\" + listing.find(\"a\")[\"href\"]\n",
    "        name = listing.find(\"a\").text\n",
    "        date = listing.find(class_=\"datetime\").text\n",
    "        venue = \"\"\n",
    "        if listing.find(class_=\"venue\") != None: \n",
    "            venue = listing.find(\"span\", class_=\"venue\").text\n",
    "        location = \"\"\n",
    "        if listing.find(class_=\"venue-location\") != None:     \n",
    "            location = listing.find(class_=\"venue-location\").text\n",
    "        region = \"\"\n",
    "        if listing.find(class_=\"region\") != None: \n",
    "            region = listing.find(class_=\"region\").text\n",
    "        events = events._append({\"Event Link\":link, \"Event Name\":name, \"Date\":date, \"Venue\":venue, \"Location\":location}, ignore_index=True)\n",
    "events = events.replace(r'\\n','', regex=True)"
   ]
  },
  {
   "cell_type": "code",
   "execution_count": 22,
   "id": "edfa0599",
   "metadata": {
    "scrolled": true
   },
   "outputs": [],
   "source": [
    "events.to_csv(\"events.csv\", index=False)"
   ]
  },
  {
   "cell_type": "code",
   "execution_count": 8,
   "id": "b24d9a70",
   "metadata": {},
   "outputs": [
    {
     "data": {
      "text/html": [
       "<div>\n",
       "<style scoped>\n",
       "    .dataframe tbody tr th:only-of-type {\n",
       "        vertical-align: middle;\n",
       "    }\n",
       "\n",
       "    .dataframe tbody tr th {\n",
       "        vertical-align: top;\n",
       "    }\n",
       "\n",
       "    .dataframe thead th {\n",
       "        text-align: right;\n",
       "    }\n",
       "</style>\n",
       "<table border=\"1\" class=\"dataframe\">\n",
       "  <thead>\n",
       "    <tr style=\"text-align: right;\">\n",
       "      <th></th>\n",
       "      <th>Event Link</th>\n",
       "      <th>Event Name</th>\n",
       "      <th>Date</th>\n",
       "      <th>Venue</th>\n",
       "      <th>Location</th>\n",
       "    </tr>\n",
       "  </thead>\n",
       "  <tbody>\n",
       "    <tr>\n",
       "      <th>0</th>\n",
       "      <td>https://www.tapology.com/fightcenter/events/11...</td>\n",
       "      <td>UFC Fight Night</td>\n",
       "      <td>Saturday, September 28, 12:00 PM ET</td>\n",
       "      <td>Accor Arena</td>\n",
       "      <td>Paris, IDF</td>\n",
       "    </tr>\n",
       "    <tr>\n",
       "      <th>1</th>\n",
       "      <td>https://www.tapology.com/fightcenter/events/11...</td>\n",
       "      <td>UFC 306</td>\n",
       "      <td>Saturday, September 14,  6:00 PM ET</td>\n",
       "      <td>The Sphere</td>\n",
       "      <td>Las Vegas, NV</td>\n",
       "    </tr>\n",
       "    <tr>\n",
       "      <th>2</th>\n",
       "      <td>https://www.tapology.com/fightcenter/events/11...</td>\n",
       "      <td>UFC Fight Night</td>\n",
       "      <td>Saturday, August 03, 10:00 AM ET</td>\n",
       "      <td>Etihad Arena</td>\n",
       "      <td>Abu Dhabi, AE</td>\n",
       "    </tr>\n",
       "    <tr>\n",
       "      <th>3</th>\n",
       "      <td>https://www.tapology.com/fightcenter/events/11...</td>\n",
       "      <td>UFC Fight Night</td>\n",
       "      <td>Saturday, July 13,  6:00 PM ET</td>\n",
       "      <td>NaN</td>\n",
       "      <td>NaN</td>\n",
       "    </tr>\n",
       "    <tr>\n",
       "      <th>4</th>\n",
       "      <td>https://www.tapology.com/fightcenter/events/10...</td>\n",
       "      <td>UFC 303</td>\n",
       "      <td>Saturday, June 29,  6:00 PM ET</td>\n",
       "      <td>T-Mobile Arena</td>\n",
       "      <td>Las Vegas, NV</td>\n",
       "    </tr>\n",
       "    <tr>\n",
       "      <th>...</th>\n",
       "      <td>...</td>\n",
       "      <td>...</td>\n",
       "      <td>...</td>\n",
       "      <td>...</td>\n",
       "      <td>...</td>\n",
       "    </tr>\n",
       "    <tr>\n",
       "      <th>711</th>\n",
       "      <td>https://www.tapology.com/fightcenter/events/uf...</td>\n",
       "      <td>UFC 5: Return of the Beast</td>\n",
       "      <td>Friday, April 07, 1995</td>\n",
       "      <td>Independence Arena</td>\n",
       "      <td>Charlotte, NC</td>\n",
       "    </tr>\n",
       "    <tr>\n",
       "      <th>712</th>\n",
       "      <td>https://www.tapology.com/fightcenter/events/uf...</td>\n",
       "      <td>UFC 4: Revenge of the Warriors</td>\n",
       "      <td>Friday, December 16, 1994</td>\n",
       "      <td>Expo Center Pavilion</td>\n",
       "      <td>Tulsa, OK</td>\n",
       "    </tr>\n",
       "    <tr>\n",
       "      <th>713</th>\n",
       "      <td>https://www.tapology.com/fightcenter/events/uf...</td>\n",
       "      <td>UFC 3: The American Dream</td>\n",
       "      <td>Friday, September 09, 1994</td>\n",
       "      <td>Grady Cole Center</td>\n",
       "      <td>Charlotte, NC</td>\n",
       "    </tr>\n",
       "    <tr>\n",
       "      <th>714</th>\n",
       "      <td>https://www.tapology.com/fightcenter/events/uf...</td>\n",
       "      <td>UFC 2: No Way Out</td>\n",
       "      <td>Friday, March 11, 1994</td>\n",
       "      <td>Mammoth Gardens</td>\n",
       "      <td>Denver, CO</td>\n",
       "    </tr>\n",
       "    <tr>\n",
       "      <th>715</th>\n",
       "      <td>https://www.tapology.com/fightcenter/events/uf...</td>\n",
       "      <td>UFC 1: The Beginning</td>\n",
       "      <td>Friday, November 12, 1993</td>\n",
       "      <td>McNichols Sports Arena</td>\n",
       "      <td>Denver, CO</td>\n",
       "    </tr>\n",
       "  </tbody>\n",
       "</table>\n",
       "<p>716 rows × 5 columns</p>\n",
       "</div>"
      ],
      "text/plain": [
       "                                            Event Link  \\\n",
       "0    https://www.tapology.com/fightcenter/events/11...   \n",
       "1    https://www.tapology.com/fightcenter/events/11...   \n",
       "2    https://www.tapology.com/fightcenter/events/11...   \n",
       "3    https://www.tapology.com/fightcenter/events/11...   \n",
       "4    https://www.tapology.com/fightcenter/events/10...   \n",
       "..                                                 ...   \n",
       "711  https://www.tapology.com/fightcenter/events/uf...   \n",
       "712  https://www.tapology.com/fightcenter/events/uf...   \n",
       "713  https://www.tapology.com/fightcenter/events/uf...   \n",
       "714  https://www.tapology.com/fightcenter/events/uf...   \n",
       "715  https://www.tapology.com/fightcenter/events/uf...   \n",
       "\n",
       "                         Event Name                                 Date  \\\n",
       "0                   UFC Fight Night  Saturday, September 28, 12:00 PM ET   \n",
       "1                           UFC 306  Saturday, September 14,  6:00 PM ET   \n",
       "2                   UFC Fight Night     Saturday, August 03, 10:00 AM ET   \n",
       "3                   UFC Fight Night       Saturday, July 13,  6:00 PM ET   \n",
       "4                           UFC 303       Saturday, June 29,  6:00 PM ET   \n",
       "..                              ...                                  ...   \n",
       "711      UFC 5: Return of the Beast               Friday, April 07, 1995   \n",
       "712  UFC 4: Revenge of the Warriors            Friday, December 16, 1994   \n",
       "713       UFC 3: The American Dream           Friday, September 09, 1994   \n",
       "714               UFC 2: No Way Out               Friday, March 11, 1994   \n",
       "715            UFC 1: The Beginning            Friday, November 12, 1993   \n",
       "\n",
       "                      Venue       Location  \n",
       "0               Accor Arena     Paris, IDF  \n",
       "1                The Sphere  Las Vegas, NV  \n",
       "2              Etihad Arena  Abu Dhabi, AE  \n",
       "3                       NaN            NaN  \n",
       "4            T-Mobile Arena  Las Vegas, NV  \n",
       "..                      ...            ...  \n",
       "711      Independence Arena  Charlotte, NC  \n",
       "712    Expo Center Pavilion      Tulsa, OK  \n",
       "713       Grady Cole Center  Charlotte, NC  \n",
       "714         Mammoth Gardens     Denver, CO  \n",
       "715  McNichols Sports Arena     Denver, CO  \n",
       "\n",
       "[716 rows x 5 columns]"
      ]
     },
     "execution_count": 8,
     "metadata": {},
     "output_type": "execute_result"
    }
   ],
   "source": [
    "events=pd.read_csv(\"events.csv\")\n",
    "events"
   ]
  },
  {
   "cell_type": "code",
   "execution_count": 9,
   "id": "2ac40b74",
   "metadata": {},
   "outputs": [],
   "source": [
    "    user_agent_list = [\n",
    "    'Mozilla/5.0 (Windows NT 10.0; Win64; x64) AppleWebKit/537.36 (KHTML, like Gecko) Chrome/93.0.4577.82 Safari/537.36',\n",
    "    'Mozilla/5.0 (iPhone; CPU iPhone OS 14_4_2 like Mac OS X) AppleWebKit/605.1.15 (KHTML, like Gecko) Version/14.0.3 Mobile/15E148 Safari/604.1',\n",
    "    'Mozilla/4.0 (compatible; MSIE 9.0; Windows NT 6.1)',\n",
    "    'Mozilla/5.0 (Windows NT 10.0; Win64; x64) AppleWebKit/537.36 (KHTML, like Gecko) Chrome/87.0.4280.141 Safari/537.36 Edg/87.0.664.75',\n",
    "    'Mozilla/5.0 (Windows NT 10.0; Win64; x64) AppleWebKit/537.36 (KHTML, like Gecko) Chrome/70.0.3538.102 Safari/537.36 Edge/18.18363',\n",
    "    ]"
   ]
  },
  {
   "cell_type": "markdown",
   "id": "b9fd62fe",
   "metadata": {},
   "source": [
    "### Gets UFC bouts list with details from tapology"
   ]
  },
  {
   "cell_type": "code",
   "execution_count": 10,
   "id": "18aa7350",
   "metadata": {},
   "outputs": [],
   "source": [
    "from random import randint, uniform\n",
    "from time import sleep"
   ]
  },
  {
   "cell_type": "code",
   "execution_count": 33,
   "id": "d36d439d",
   "metadata": {
    "scrolled": true
   },
   "outputs": [
    {
     "name": "stderr",
     "output_type": "stream",
     "text": [
      "100%|████████████████████████████████████████████████████████████████████████████████| 713/713 [33:24<00:00,  2.81s/it]"
     ]
    },
    {
     "name": "stdout",
     "output_type": "stream",
     "text": [
      "<class 'pandas.core.frame.DataFrame'>\n",
      "RangeIndex: 7577 entries, 0 to 7576\n",
      "Data columns (total 31 columns):\n",
      " #   Column       Non-Null Count  Dtype \n",
      "---  ------       --------------  ----- \n",
      " 0   Bout Link    7577 non-null   object\n",
      " 1   Fighter A    7577 non-null   object\n",
      " 2   Link A       7577 non-null   object\n",
      " 3   Fighter B    7577 non-null   object\n",
      " 4   Link B       7577 non-null   object\n",
      " 5   Nickname A   7577 non-null   object\n",
      " 6   Nickname B   7577 non-null   object\n",
      " 7   Record A     7577 non-null   object\n",
      " 8   Record B     7577 non-null   object\n",
      " 9   Odds A       7577 non-null   object\n",
      " 10  Odds B       7577 non-null   object\n",
      " 11  Title A      7577 non-null   object\n",
      " 12  Title B      7577 non-null   object\n",
      " 13  Weight A     7577 non-null   object\n",
      " 14  Weight B     7577 non-null   object\n",
      " 15  Age A        7577 non-null   object\n",
      " 16  Age B        7577 non-null   object\n",
      " 17  Height A     7577 non-null   object\n",
      " 18  Height B     7577 non-null   object\n",
      " 19  Reach A      7577 non-null   object\n",
      " 20  Reach B      7577 non-null   object\n",
      " 21  Result       7577 non-null   object\n",
      " 22  Time         7577 non-null   object\n",
      " 23  Weightclass  7577 non-null   object\n",
      " 24  Rounds       7577 non-null   object\n",
      " 25  Event Link   7577 non-null   object\n",
      " 26  Venue        7577 non-null   object\n",
      " 27  Date         7577 non-null   object\n",
      " 28  Location     7577 non-null   object\n",
      " 29  Billing      7577 non-null   object\n",
      " 30  Event Name   7577 non-null   object\n",
      "dtypes: object(31)\n",
      "memory usage: 1.8+ MB\n"
     ]
    },
    {
     "name": "stderr",
     "output_type": "stream",
     "text": [
      "\n"
     ]
    }
   ],
   "source": [
    "bouts = pd.DataFrame(columns=[\"Bout Link\",\"Fighter A\", \"Link A\", \"Fighter B\",\"Link B\",\"Nickname A\",\"Nickname B\", \n",
    "                                     \"Record A\", \"Record B\",\"Odds A\", \"Odds B\",\"Title A\", \"Title B\",\"Weight A\",\"Weight B\", \n",
    "                                     \"Age A\", \"Age B\",\"Height A\", \"Height B\",\"Reach A\", \"Reach B\", \"Result\", \"Time\", \n",
    "                                     \"Weightclass\", \"Rounds\",\"Event Link\"])\n",
    "# Sleeping variables\n",
    "event_count=0\n",
    "pause_counter=0\n",
    "pause_trigger=98\n",
    "\n",
    "for ind in tqdm(events.index):\n",
    "    # Sleep to avoid restriction\n",
    "    sleep(uniform(0.01,2))\n",
    "    if pause_counter==pause_trigger:\n",
    "        pause_counter=0\n",
    "        sleep(randint(10,30))\n",
    "        pause_trigger=randint(80,100)\n",
    "    pause_counter+=1\n",
    "    \n",
    "    # Copying event info\n",
    "    event_link = events[\"Event Link\"][ind]\n",
    "    event_name = events[\"Event Name\"][ind]\n",
    "    # Getting page data\n",
    "    headers={\"User-Agent\": user_agent_list[random.randint(0, len(user_agent_list)-1)]}\n",
    "    data = req.get(event_link, headers = headers).text\n",
    "    soup = BeautifulSoup(data,\"html.parser\")\n",
    "    \n",
    "    date, location, venue = \"\", \"\", \"\"\n",
    "    # Event info\n",
    "    event_info=soup.find(id=\"primaryDetailsContainer\").find(\"ul\")\n",
    "    for row in event_info.find_all(\"li\"):\n",
    "        if row.find(\"span\").text == \"Date/Time:\":\n",
    "            date=row.find(\"span\").findNext(\"span\").text\n",
    "        elif row.find(\"span\").text == \"Venue:\":\n",
    "            venue=row.find(\"span\").findNext(\"span\").text\n",
    "        elif row.find(\"span\").text == \"Location:\":\n",
    "            location=row.find(\"span\").findNext(\"span\").text\n",
    "    \n",
    "    # Checking if event already finished\n",
    "    if soup.find(id=\"eventPageHeader\").find(\"span\").contents[0].strip() == \"Completed\":\n",
    "        event_count+=1\n",
    "        #Selecting figtcard\n",
    "        card = soup.find(id=\"sectionFightCard\").find(\"ul\") \n",
    "        #Selecting matches\n",
    "        matches = card.find_all(\"li\")\n",
    "        #Scraping match info\n",
    "        for match in matches: \n",
    "            # Fighters info\n",
    "            fighter_a=match.find_all(\"a\", class_=\"link-primary-red\")[0].text\n",
    "            fighter_b=match.find_all(\"a\", class_=\"link-primary-red\")[-2].text\n",
    "            link_a=\"https://www.tapology.com\" + match.find_all(\"a\", class_=\"link-primary-red\")[0][\"href\"]\n",
    "            link_b=\"https://www.tapology.com\" + match.find_all(\"a\", class_=\"link-primary-red\")[-2][\"href\"]\n",
    "            # records after the match\n",
    "            record_a=match.find_all(\"a\", class_=\"link-primary-red\")[0].parent.parent.parent.find_all(\"div\")[-1].find_all(\"span\")[-1].text\n",
    "            record_b=match.find_all(\"a\", class_=\"link-primary-red\")[-2].parent.parent.parent.find_all(\"div\")[-1].find_all(\"span\")[-1].text\n",
    "            \n",
    "            # Match info\n",
    "            result=match.find(\"div\").find(\"div\").find(\"div\").find_all(\"span\")[-2].text.strip()\n",
    "            time=match.find(\"div\").find(\"div\").find(\"div\").find_all(\"span\")[-1].text.strip()\n",
    "            bout_link=\"https://www.tapology.com\" + match.find(\"a\", class_=lambda x: x != 'link-primary-red')[\"href\"]\n",
    "            billing=match.find(\"a\", class_=lambda x: x != 'link-primary-red').text\n",
    "            weightclass=\"\"\n",
    "            if match.find(\"a\", class_=lambda x: x != 'link-primary-red').findNext(\"div\").text.strip() != \"\": \n",
    "                weightclass=match.find(\"a\", class_=lambda x: x != 'link-primary-red').findNext(\"span\").text.strip()\n",
    "                rounds=match.find(\"a\", class_=lambda x: x != 'link-primary-red').findNext(\"span\").findNext(\"div\").text.strip()\n",
    "            else:\n",
    "                rounds=match.find(\"a\", class_=lambda x: x != 'link-primary-red').parent.parent.find_all(\"div\")[-1].text.strip()\n",
    "            \n",
    "            # Details info\n",
    "            table=match.find(\"table\", id=\"boutComparisonTable\")\n",
    "            # Clearing variables for the next iteration - not all matches have info about every variable\n",
    "            nickname_a, nickname_b, odds_a, odds_b, title_a, title_b, age_a, age_b, weight_a, weight_b, height_a, height_b, reach_a, reach_b = \"\", \"\", \"\", \"\", \"\", \"\", \"\", \"\", \"\", \"\", \"\", \"\", \"\", \"\"\n",
    "\n",
    "            # Scraping the details table\n",
    "            for row in table.find_all(\"tr\"):\n",
    "                if row.find(\"td\") != None:\n",
    "                    if row.find_all(\"td\")[2].text.strip() == \"Nickname\":  \n",
    "                        nickname_a=row.find_all(\"td\")[0].text.strip()\n",
    "                        nickname_b=row.find_all(\"td\")[-1].text.strip()\n",
    "                        #print(nickname_a, nickname_b)\n",
    "                    elif row.find_all(\"td\")[2].text.strip() == \"Betting Odds\":\n",
    "                        odds_a=row.find_all(\"td\")[0].contents[1].text.strip()\n",
    "                        odds_b=row.find_all(\"td\")[-1].contents[1].text.strip()\n",
    "                        #print(odds_a, odds_b)\n",
    "                    elif row.find_all(\"td\")[2].text.strip() == \"Title\":\n",
    "                        title_a=row.find_all(\"td\")[0].contents[0].strip()\n",
    "                        title_b=row.find_all(\"td\")[-1].contents[0].strip()\n",
    "                        #print(title_a, title_b)\n",
    "                    elif row.find_all(\"td\")[3].text.strip() == \"Age at Fight\":\n",
    "                        age_a=row.find_all(\"td\")[0].text.strip()\n",
    "                        age_b=row.find_all(\"td\")[-2].text.strip()\n",
    "                        #print(age_a, age_b)\n",
    "                    elif row.find_all(\"td\")[2].text.strip() == \"Weigh-In Result\":\n",
    "                        weight_a=row.find_all(\"td\")[0].find(\"div\").text.strip()\n",
    "                        weight_b=row.find_all(\"td\")[-1].find(\"div\").text.strip()\n",
    "                        #print(weight_a, weight_b)    \n",
    "                    elif row.find_all(\"td\")[2].text.strip() == \"Height\":\n",
    "                        height_a=row.find_all(\"td\")[0].find(\"div\").text.strip()\n",
    "                        height_b=row.find_all(\"td\")[-1].find(\"div\").text.strip()\n",
    "                        #print(height_a, height_b)     \n",
    "                    elif row.find_all(\"td\")[2].text.strip() == \"Reach\":\n",
    "                        reach_a=row.find_all(\"td\")[0].find(\"div\").text.strip()\n",
    "                        reach_b=row.find_all(\"td\")[-1].find(\"div\").text.strip()\n",
    "                        #print(reach_a, reach_b)\n",
    "            # Populating DataFrame            \n",
    "            bouts = bouts._append({'Bout Link':bout_link, 'Fighter A':fighter_a, 'Link A':link_a, \n",
    "                                                     'Fighter B':fighter_b, 'Link B':link_b, 'Nickname A':nickname_a,\n",
    "                                                     'Nickname B':nickname_b, 'Record A':record_a, 'Record B':record_b, \n",
    "                                                     'Odds A':odds_a, 'Odds B':odds_b, 'Title A':title_a,'Title B':title_b, \n",
    "                                                     'Weight A':weight_a, 'Weight B':weight_b, 'Age A':age_a, 'Age B':age_b, \n",
    "                                                     'Height A':height_a,'Height B':height_b, 'Reach A':reach_a, 'Reach B':reach_b, \n",
    "                                                     'Result':result, 'Time':time, 'Weightclass':weightclass, 'Venue':venue,\n",
    "                                                     'Rounds':rounds,'Date':date, 'Location':location,'Location':location,'Billing':billing,\n",
    "                                                     \"Event Name\":event_name, \"Event Link\":event_link}, ignore_index=True)\n",
    "bouts.info()\n"
   ]
  },
  {
   "cell_type": "code",
   "execution_count": 34,
   "id": "a8744150",
   "metadata": {},
   "outputs": [],
   "source": [
    "bouts.to_csv(\"bouts.csv\", index=False)"
   ]
  },
  {
   "cell_type": "code",
   "execution_count": 11,
   "id": "4bc9c3d0",
   "metadata": {},
   "outputs": [
    {
     "data": {
      "text/plain": [
       "Index(['Bout Link', 'Fighter A', 'Link A', 'Fighter B', 'Link B', 'Nickname A',\n",
       "       'Nickname B', 'Record A', 'Record B', 'Odds A', 'Odds B', 'Title A',\n",
       "       'Title B', 'Weight A', 'Weight B', 'Age A', 'Age B', 'Height A',\n",
       "       'Height B', 'Reach A', 'Reach B', 'Result', 'Time', 'Weightclass',\n",
       "       'Rounds', 'Event Link', 'Venue', 'Date', 'Location', 'Billing',\n",
       "       'Event Name'],\n",
       "      dtype='object')"
      ]
     },
     "execution_count": 11,
     "metadata": {},
     "output_type": "execute_result"
    }
   ],
   "source": [
    "df = pd.read_csv(\"bouts.csv\")\n",
    "df.columns"
   ]
  },
  {
   "cell_type": "markdown",
   "id": "06a1dfd4",
   "metadata": {},
   "source": [
    "### Checking for possible fighters with same name"
   ]
  },
  {
   "cell_type": "code",
   "execution_count": 12,
   "id": "752081f1",
   "metadata": {},
   "outputs": [
    {
     "name": "stdout",
     "output_type": "stream",
     "text": [
      "Fighter A\n",
      "Jim Miller          27\n",
      "Andrei Arlovski     24\n",
      "Donald Cerrone      24\n",
      "Neil Magny          22\n",
      "Demian Maia         22\n",
      "                    ..\n",
      "Danny Martinez       1\n",
      "Garreth McLellan     1\n",
      "Frankie Perez        1\n",
      "Shane Campbell       1\n",
      "Kevin Rosier         1\n",
      "Name: count, Length: 1724, dtype: int64 Link A\n",
      "https://www.tapology.com/fightcenter/fighters/jim-miller                            27\n",
      "https://www.tapology.com/fightcenter/fighters/andrei-arlovski-the-pitbull           24\n",
      "https://www.tapology.com/fightcenter/fighters/donald-cerrone-cowboy                 24\n",
      "https://www.tapology.com/fightcenter/fighters/16456-aoutneil-magny                  22\n",
      "https://www.tapology.com/fightcenter/fighters/demian-maia                           22\n",
      "                                                                                    ..\n",
      "https://www.tapology.com/fightcenter/fighters/danny-martinez-the-gremlin             1\n",
      "https://www.tapology.com/fightcenter/fighters/16904-garreth-mclellan-soldier-boy     1\n",
      "https://www.tapology.com/fightcenter/fighters/15055-frankie-perez                    1\n",
      "https://www.tapology.com/fightcenter/fighters/13104-shane-campbell                   1\n",
      "https://www.tapology.com/fightcenter/fighters/kevin-rosier                           1\n",
      "Name: count, Length: 1726, dtype: int64\n",
      "Fighter B\n",
      "Jeremy Stephens    19\n",
      "Clay Guida         18\n",
      "Andrei Arlovski    17\n",
      "Jim Miller         16\n",
      "Michael Johnson    15\n",
      "                   ..\n",
      "Tina Lähdemäki      1\n",
      "Dan Spohn           1\n",
      "Guilherme Bomba     1\n",
      "Sai Wang            1\n",
      "Teila Tuli          1\n",
      "Name: count, Length: 2346, dtype: int64 Link B\n",
      "https://www.tapology.com/fightcenter/fighters/jeremy-stephens-lil-heathen    19\n",
      "https://www.tapology.com/fightcenter/fighters/clay-guida-the-carpenter       18\n",
      "https://www.tapology.com/fightcenter/fighters/andrei-arlovski-the-pitbull    17\n",
      "https://www.tapology.com/fightcenter/fighters/jim-miller                     16\n",
      "https://www.tapology.com/fightcenter/fighters/michael-johnson-the-menace     15\n",
      "                                                                             ..\n",
      "https://www.tapology.com/fightcenter/fighters/27305-tiina-lahdemaki           1\n",
      "https://www.tapology.com/fightcenter/fighters/13645-dan-spohn                 1\n",
      "https://www.tapology.com/fightcenter/fighters/31170-guilherme-bomba           1\n",
      "https://www.tapology.com/fightcenter/fighters/wang-sai                        1\n",
      "https://www.tapology.com/fightcenter/fighters/teila-tuli                      1\n",
      "Name: count, Length: 2348, dtype: int64\n"
     ]
    }
   ],
   "source": [
    "print(df[\"Fighter A\"].value_counts(), df[\"Link A\"].value_counts())\n",
    "print(df[\"Fighter B\"].value_counts(), df[\"Link B\"].value_counts())"
   ]
  },
  {
   "cell_type": "markdown",
   "id": "53c3f29e",
   "metadata": {},
   "source": [
    "We can see that 2 fighters in both groups probably have the same names with someone else"
   ]
  },
  {
   "cell_type": "markdown",
   "id": "1cea4481",
   "metadata": {},
   "source": [
    "### Verify that there truly are 2 fighters with the same name in dataset"
   ]
  },
  {
   "cell_type": "markdown",
   "id": "dd6616fa",
   "metadata": {},
   "source": [
    "We know that one link cant lead to two fighters, but we have to check that two links dont lead to one fighter"
   ]
  },
  {
   "cell_type": "code",
   "execution_count": 13,
   "id": "f050636b",
   "metadata": {},
   "outputs": [
    {
     "name": "stdout",
     "output_type": "stream",
     "text": [
      "        Fighter A  \\\n",
      "473   Bruno Silva   \n",
      "545   Bruno Silva   \n",
      "1164  Bruno Silva   \n",
      "1252  Bruno Silva   \n",
      "1411  Bruno Silva   \n",
      "1454  Bruno Silva   \n",
      "1545  Bruno Silva   \n",
      "2762  A. Nogueira   \n",
      "3896  A. Nogueira   \n",
      "5378  A. Nogueira   \n",
      "5476  A. Nogueira   \n",
      "5763  A. Nogueira   \n",
      "5872  A. Nogueira   \n",
      "6202  A. Nogueira   \n",
      "6328  A. Nogueira   \n",
      "6380  A. Nogueira   \n",
      "6693  A. Nogueira   \n",
      "6797  A. Nogueira   \n",
      "\n",
      "                                                                                            Link A  \n",
      "473                       https://www.tapology.com/fightcenter/fighters/59819-bruno-silva-blindado  \n",
      "545   https://www.tapology.com/fightcenter/fighters/55253-bruno-gustavo-aparecido-da-silva-bulldog  \n",
      "1164                      https://www.tapology.com/fightcenter/fighters/59819-bruno-silva-blindado  \n",
      "1252                      https://www.tapology.com/fightcenter/fighters/59819-bruno-silva-blindado  \n",
      "1411                      https://www.tapology.com/fightcenter/fighters/59819-bruno-silva-blindado  \n",
      "1454  https://www.tapology.com/fightcenter/fighters/55253-bruno-gustavo-aparecido-da-silva-bulldog  \n",
      "1545  https://www.tapology.com/fightcenter/fighters/55253-bruno-gustavo-aparecido-da-silva-bulldog  \n",
      "2762               https://www.tapology.com/fightcenter/fighters/antonio-rogerio-nogueira-minotoro  \n",
      "3896               https://www.tapology.com/fightcenter/fighters/antonio-rogerio-nogueira-minotoro  \n",
      "5378               https://www.tapology.com/fightcenter/fighters/antonio-rogerio-nogueira-minotoro  \n",
      "5476              https://www.tapology.com/fightcenter/fighters/antonio-rodrigo-nogueira-minotauro  \n",
      "5763               https://www.tapology.com/fightcenter/fighters/antonio-rogerio-nogueira-minotoro  \n",
      "5872              https://www.tapology.com/fightcenter/fighters/antonio-rodrigo-nogueira-minotauro  \n",
      "6202               https://www.tapology.com/fightcenter/fighters/antonio-rogerio-nogueira-minotoro  \n",
      "6328               https://www.tapology.com/fightcenter/fighters/antonio-rogerio-nogueira-minotoro  \n",
      "6380              https://www.tapology.com/fightcenter/fighters/antonio-rodrigo-nogueira-minotauro  \n",
      "6693              https://www.tapology.com/fightcenter/fighters/antonio-rodrigo-nogueira-minotauro  \n",
      "6797              https://www.tapology.com/fightcenter/fighters/antonio-rodrigo-nogueira-minotauro  \n",
      "        Fighter B  \\\n",
      "196   Bruno Silva   \n",
      "381   Bruno Silva   \n",
      "807   Bruno Silva   \n",
      "1050  Bruno Silva   \n",
      "1769  Bruno Silva   \n",
      "1876  A. Nogueira   \n",
      "2023  Bruno Silva   \n",
      "2231  Bruno Silva   \n",
      "2444  A. Nogueira   \n",
      "3627  A. Nogueira   \n",
      "4214  A. Nogueira   \n",
      "4217  A. Nogueira   \n",
      "4728  A. Nogueira   \n",
      "4907  A. Nogueira   \n",
      "5245  A. Nogueira   \n",
      "5762  A. Nogueira   \n",
      "5971  A. Nogueira   \n",
      "6116  A. Nogueira   \n",
      "6263  A. Nogueira   \n",
      "6520  A. Nogueira   \n",
      "\n",
      "                                                                                            Link B  \n",
      "196                       https://www.tapology.com/fightcenter/fighters/59819-bruno-silva-blindado  \n",
      "381                       https://www.tapology.com/fightcenter/fighters/59819-bruno-silva-blindado  \n",
      "807                       https://www.tapology.com/fightcenter/fighters/59819-bruno-silva-blindado  \n",
      "1050                      https://www.tapology.com/fightcenter/fighters/59819-bruno-silva-blindado  \n",
      "1769  https://www.tapology.com/fightcenter/fighters/55253-bruno-gustavo-aparecido-da-silva-bulldog  \n",
      "1876               https://www.tapology.com/fightcenter/fighters/antonio-rogerio-nogueira-minotoro  \n",
      "2023  https://www.tapology.com/fightcenter/fighters/55253-bruno-gustavo-aparecido-da-silva-bulldog  \n",
      "2231  https://www.tapology.com/fightcenter/fighters/55253-bruno-gustavo-aparecido-da-silva-bulldog  \n",
      "2444               https://www.tapology.com/fightcenter/fighters/antonio-rogerio-nogueira-minotoro  \n",
      "3627               https://www.tapology.com/fightcenter/fighters/antonio-rogerio-nogueira-minotoro  \n",
      "4214               https://www.tapology.com/fightcenter/fighters/antonio-rogerio-nogueira-minotoro  \n",
      "4217              https://www.tapology.com/fightcenter/fighters/antonio-rodrigo-nogueira-minotauro  \n",
      "4728               https://www.tapology.com/fightcenter/fighters/antonio-rogerio-nogueira-minotoro  \n",
      "4907              https://www.tapology.com/fightcenter/fighters/antonio-rodrigo-nogueira-minotauro  \n",
      "5245              https://www.tapology.com/fightcenter/fighters/antonio-rodrigo-nogueira-minotauro  \n",
      "5762              https://www.tapology.com/fightcenter/fighters/antonio-rodrigo-nogueira-minotauro  \n",
      "5971               https://www.tapology.com/fightcenter/fighters/antonio-rogerio-nogueira-minotoro  \n",
      "6116               https://www.tapology.com/fightcenter/fighters/antonio-rogerio-nogueira-minotoro  \n",
      "6263              https://www.tapology.com/fightcenter/fighters/antonio-rodrigo-nogueira-minotauro  \n",
      "6520              https://www.tapology.com/fightcenter/fighters/antonio-rodrigo-nogueira-minotauro  \n"
     ]
    }
   ],
   "source": [
    "filtered_dfA = df.groupby('Fighter A').filter(lambda x: len(x['Link A'].unique()) > 1)\n",
    "filtered_dfB = df.groupby('Fighter B').filter(lambda x: len(x['Link B'].unique()) > 1)\n",
    "pd.options.display.max_colwidth = 100\n",
    "print(filtered_dfA[['Fighter A', \"Link A\"]])\n",
    "print(filtered_dfB[['Fighter B', \"Link B\"]])"
   ]
  },
  {
   "cell_type": "markdown",
   "id": "ba90eaf2",
   "metadata": {},
   "source": [
    "After closer look its evident that the two groups of fighters with same name in the dataset are: \n",
    "1. The Nogueira brothers Antonio Rodrigo Nogueira and Antonio Rogerio Nogueira, \n",
    "2. Bruno \"Blindao\" Silva and Bruno \"Bulldog\" Silva.\n",
    "\n",
    "We have to differentiate these names in the dataset. "
   ]
  },
  {
   "cell_type": "markdown",
   "id": "b04c194a",
   "metadata": {},
   "source": [
    "For Minotauro brothers we will change the value to their full names and for \"Bulldog\" and \"Blindao\" we will add their nicknames."
   ]
  },
  {
   "cell_type": "markdown",
   "id": "4b2e820a",
   "metadata": {},
   "source": [
    "### Replacing Nogueira brothers names in both columns"
   ]
  },
  {
   "cell_type": "code",
   "execution_count": 14,
   "id": "c494a6ac",
   "metadata": {},
   "outputs": [],
   "source": [
    "# Replace Rogerio Nogueira in Fighter A column\n",
    "condition = df[\"Link A\"] == \"https://www.tapology.com/fightcenter/fighters/antonio-rogerio-nogueira-minotoro\"\n",
    "df.loc[condition, \"Fighter A\"] = \"Antonio Rogerio Nogueira\""
   ]
  },
  {
   "cell_type": "code",
   "execution_count": 15,
   "id": "609ddc7a",
   "metadata": {},
   "outputs": [],
   "source": [
    "# Replace Rogerio Nogueira in Fighter B column\n",
    "condition = df[\"Link B\"] == \"https://www.tapology.com/fightcenter/fighters/antonio-rogerio-nogueira-minotoro\"\n",
    "df.loc[condition, \"Fighter B\"] = \"Antonio Rogerio Nogueira\""
   ]
  },
  {
   "cell_type": "code",
   "execution_count": 16,
   "id": "29fae9c4",
   "metadata": {},
   "outputs": [],
   "source": [
    "# Replace Rodrigo Nogueira in Fighter A column\n",
    "condition = df[\"Link A\"] == \"https://www.tapology.com/fightcenter/fighters/antonio-rodrigo-nogueira-minotauro\"\n",
    "df.loc[condition, \"Fighter A\"] = \"Antonio Rodrigo Nogueira\""
   ]
  },
  {
   "cell_type": "code",
   "execution_count": 17,
   "id": "b949cbd2",
   "metadata": {},
   "outputs": [],
   "source": [
    "# Replace Rodrigo Nogueira in Fighter B column\n",
    "condition = df[\"Link B\"] == \"https://www.tapology.com/fightcenter/fighters/antonio-rodrigo-nogueira-minotauro\"\n",
    "df.loc[condition, \"Fighter B\"] = \"Antonio Rodrigo Nogueira\""
   ]
  },
  {
   "cell_type": "markdown",
   "id": "5ee307dd",
   "metadata": {},
   "source": [
    "### Replacing Bruno SIlva names  in both columns"
   ]
  },
  {
   "cell_type": "code",
   "execution_count": 18,
   "id": "3a780c28",
   "metadata": {},
   "outputs": [],
   "source": [
    "# Replace Rogerio Nogueira in Fighter A column\n",
    "condition = df[\"Link A\"] == \"https://www.tapology.com/fightcenter/fighters/59819-bruno-silva-blindado\"\n",
    "df.loc[condition, \"Fighter A\"] = \"Bruno Blindao Silva\""
   ]
  },
  {
   "cell_type": "code",
   "execution_count": 19,
   "id": "f2dcbb95",
   "metadata": {},
   "outputs": [],
   "source": [
    "# Replace Rogerio Nogueira in Fighter B column\n",
    "condition = df[\"Link B\"] == \"https://www.tapology.com/fightcenter/fighters/59819-bruno-silva-blindado\"\n",
    "df.loc[condition, \"Fighter B\"] = \"Bruno Blindao Silva\""
   ]
  },
  {
   "cell_type": "code",
   "execution_count": 20,
   "id": "c1773645",
   "metadata": {},
   "outputs": [],
   "source": [
    "# Replace Rodrigo Nogueira in Fighter A column\n",
    "condition = df[\"Link A\"] == \"https://www.tapology.com/fightcenter/fighters/55253-bruno-gustavo-aparecido-da-silva-bulldog\"\n",
    "df.loc[condition, \"Fighter A\"] = \"Bruno Bulldog Silva\""
   ]
  },
  {
   "cell_type": "code",
   "execution_count": 21,
   "id": "5eb24fd2",
   "metadata": {},
   "outputs": [],
   "source": [
    "# Replace Rogerio Nogueira in Fighter B column\n",
    "condition = df[\"Link B\"] == \"https://www.tapology.com/fightcenter/fighters/55253-bruno-gustavo-aparecido-da-silva-bulldog\"\n",
    "df.loc[condition, \"Fighter B\"] = \"Bruno Bulldog Silva\""
   ]
  },
  {
   "cell_type": "code",
   "execution_count": 22,
   "id": "6249798a",
   "metadata": {},
   "outputs": [
    {
     "name": "stdout",
     "output_type": "stream",
     "text": [
      "Fighter A\n",
      "Jim Miller          27\n",
      "Andrei Arlovski     24\n",
      "Donald Cerrone      24\n",
      "Neil Magny          22\n",
      "Demian Maia         22\n",
      "                    ..\n",
      "Danny Martinez       1\n",
      "Garreth McLellan     1\n",
      "Frankie Perez        1\n",
      "Shane Campbell       1\n",
      "Kevin Rosier         1\n",
      "Name: count, Length: 1726, dtype: int64 Link A\n",
      "https://www.tapology.com/fightcenter/fighters/jim-miller                            27\n",
      "https://www.tapology.com/fightcenter/fighters/andrei-arlovski-the-pitbull           24\n",
      "https://www.tapology.com/fightcenter/fighters/donald-cerrone-cowboy                 24\n",
      "https://www.tapology.com/fightcenter/fighters/16456-aoutneil-magny                  22\n",
      "https://www.tapology.com/fightcenter/fighters/demian-maia                           22\n",
      "                                                                                    ..\n",
      "https://www.tapology.com/fightcenter/fighters/danny-martinez-the-gremlin             1\n",
      "https://www.tapology.com/fightcenter/fighters/16904-garreth-mclellan-soldier-boy     1\n",
      "https://www.tapology.com/fightcenter/fighters/15055-frankie-perez                    1\n",
      "https://www.tapology.com/fightcenter/fighters/13104-shane-campbell                   1\n",
      "https://www.tapology.com/fightcenter/fighters/kevin-rosier                           1\n",
      "Name: count, Length: 1726, dtype: int64\n",
      "Fighter B\n",
      "Jeremy Stephens    19\n",
      "Clay Guida         18\n",
      "Andrei Arlovski    17\n",
      "Jim Miller         16\n",
      "Michael Johnson    15\n",
      "                   ..\n",
      "Tina Lähdemäki      1\n",
      "Dan Spohn           1\n",
      "Guilherme Bomba     1\n",
      "Sai Wang            1\n",
      "Teila Tuli          1\n",
      "Name: count, Length: 2348, dtype: int64 Link B\n",
      "https://www.tapology.com/fightcenter/fighters/jeremy-stephens-lil-heathen    19\n",
      "https://www.tapology.com/fightcenter/fighters/clay-guida-the-carpenter       18\n",
      "https://www.tapology.com/fightcenter/fighters/andrei-arlovski-the-pitbull    17\n",
      "https://www.tapology.com/fightcenter/fighters/jim-miller                     16\n",
      "https://www.tapology.com/fightcenter/fighters/michael-johnson-the-menace     15\n",
      "                                                                             ..\n",
      "https://www.tapology.com/fightcenter/fighters/27305-tiina-lahdemaki           1\n",
      "https://www.tapology.com/fightcenter/fighters/13645-dan-spohn                 1\n",
      "https://www.tapology.com/fightcenter/fighters/31170-guilherme-bomba           1\n",
      "https://www.tapology.com/fightcenter/fighters/wang-sai                        1\n",
      "https://www.tapology.com/fightcenter/fighters/teila-tuli                      1\n",
      "Name: count, Length: 2348, dtype: int64\n"
     ]
    }
   ],
   "source": [
    "print(df[\"Fighter A\"].value_counts(), df[\"Link A\"].value_counts())\n",
    "print(df[\"Fighter B\"].value_counts(), df[\"Link B\"].value_counts())"
   ]
  },
  {
   "cell_type": "markdown",
   "id": "80d82c5c",
   "metadata": {},
   "source": [
    "We can see that value counts in links and names are now same for fighters A and B"
   ]
  },
  {
   "cell_type": "code",
   "execution_count": 23,
   "id": "f2fd1ba9",
   "metadata": {},
   "outputs": [
    {
     "data": {
      "text/plain": [
       "Jim Miller            43\n",
       "Andrei Arlovski       41\n",
       "Donald Cerrone        38\n",
       "Clay Guida            36\n",
       "Rafael dos Anjos      35\n",
       "                      ..\n",
       "John Teixeira          1\n",
       "Delson Heleno          1\n",
       "Anistavio Medeiros     1\n",
       "Mark Hughes            1\n",
       "Teila Tuli             1\n",
       "Name: count, Length: 2479, dtype: int64"
      ]
     },
     "execution_count": 23,
     "metadata": {},
     "output_type": "execute_result"
    }
   ],
   "source": [
    "pd.concat([df[\"Fighter A\"], df[\"Fighter B\"]]).value_counts()"
   ]
  },
  {
   "cell_type": "markdown",
   "id": "5098b36d",
   "metadata": {},
   "source": [
    "There are 2479 unique fighters in the dataset, now we have to connect more info from sherdog.com to them."
   ]
  },
  {
   "cell_type": "code",
   "execution_count": 67,
   "id": "de593a8e",
   "metadata": {},
   "outputs": [],
   "source": [
    "df.to_csv(\"bouts_new.csv\", index=False)"
   ]
  },
  {
   "cell_type": "code",
   "execution_count": 24,
   "id": "d399d2a1",
   "metadata": {},
   "outputs": [
    {
     "data": {
      "text/html": [
       "<div>\n",
       "<style scoped>\n",
       "    .dataframe tbody tr th:only-of-type {\n",
       "        vertical-align: middle;\n",
       "    }\n",
       "\n",
       "    .dataframe tbody tr th {\n",
       "        vertical-align: top;\n",
       "    }\n",
       "\n",
       "    .dataframe thead th {\n",
       "        text-align: right;\n",
       "    }\n",
       "</style>\n",
       "<table border=\"1\" class=\"dataframe\">\n",
       "  <thead>\n",
       "    <tr style=\"text-align: right;\">\n",
       "      <th></th>\n",
       "      <th>Bout Link</th>\n",
       "      <th>Fighter A</th>\n",
       "      <th>Link A</th>\n",
       "      <th>Fighter B</th>\n",
       "      <th>Link B</th>\n",
       "      <th>Nickname A</th>\n",
       "      <th>Nickname B</th>\n",
       "      <th>Record A</th>\n",
       "      <th>Record B</th>\n",
       "      <th>Odds A</th>\n",
       "      <th>...</th>\n",
       "      <th>Result</th>\n",
       "      <th>Time</th>\n",
       "      <th>Weightclass</th>\n",
       "      <th>Rounds</th>\n",
       "      <th>Event Link</th>\n",
       "      <th>Venue</th>\n",
       "      <th>Date</th>\n",
       "      <th>Location</th>\n",
       "      <th>Billing</th>\n",
       "      <th>Event Name</th>\n",
       "    </tr>\n",
       "  </thead>\n",
       "  <tbody>\n",
       "    <tr>\n",
       "      <th>6355</th>\n",
       "      <td>https://www.tapology.com/fightcenter/bouts/362-ufc-104-kyle-kingsbu-kingsbury-vs-razak-razor-al-...</td>\n",
       "      <td>Kyle Kingsbury</td>\n",
       "      <td>https://www.tapology.com/fightcenter/fighters/kyle-kingsbury</td>\n",
       "      <td>Razak Al-Hassan</td>\n",
       "      <td>https://www.tapology.com/fightcenter/fighters/razak-al-hassan-razor</td>\n",
       "      <td>NaN</td>\n",
       "      <td>NaN</td>\n",
       "      <td>8-2</td>\n",
       "      <td>7-2</td>\n",
       "      <td>-128 (Slight Favorite)</td>\n",
       "      <td>...</td>\n",
       "      <td>Decision, Split</td>\n",
       "      <td>3 Rounds, 15:00 Total</td>\n",
       "      <td>205.0</td>\n",
       "      <td>3 x 5</td>\n",
       "      <td>https://www.tapology.com/fightcenter/events/ufc-104-machida-vs-shogun</td>\n",
       "      <td>Staples Center</td>\n",
       "      <td>Saturday 10.24.2009</td>\n",
       "      <td>Los Angeles, California, United States</td>\n",
       "      <td>Prelim</td>\n",
       "      <td>UFC 104: Machida vs Shogun</td>\n",
       "    </tr>\n",
       "    <tr>\n",
       "      <th>6541</th>\n",
       "      <td>https://www.tapology.com/fightcenter/bouts/142-ufc-fight-night-16-steve-the-robot-cantwell-vs-ra...</td>\n",
       "      <td>Steve Cantwell</td>\n",
       "      <td>https://www.tapology.com/fightcenter/fighters/steve-cantwell-the-robot</td>\n",
       "      <td>Razak Al-Hassan</td>\n",
       "      <td>https://www.tapology.com/fightcenter/fighters/razak-al-hassan-razor</td>\n",
       "      <td>NaN</td>\n",
       "      <td>NaN</td>\n",
       "      <td>7-1</td>\n",
       "      <td>7-1</td>\n",
       "      <td>-318 (Moderate Favorite)</td>\n",
       "      <td>...</td>\n",
       "      <td>Submission, Armbar</td>\n",
       "      <td>4:04 Round 1 of 3</td>\n",
       "      <td>205.0</td>\n",
       "      <td>3 x 5</td>\n",
       "      <td>https://www.tapology.com/fightcenter/events/ufc-fight-night-16-fight-for-the-troops</td>\n",
       "      <td>Crown Coliseum</td>\n",
       "      <td>Wednesday 12.10.2008</td>\n",
       "      <td>Fayetteville, North Carolina, United States</td>\n",
       "      <td>Main Card</td>\n",
       "      <td>UFC Fight Night 16: Fight for the Troops</td>\n",
       "    </tr>\n",
       "  </tbody>\n",
       "</table>\n",
       "<p>2 rows × 31 columns</p>\n",
       "</div>"
      ],
      "text/plain": [
       "                                                                                                Bout Link  \\\n",
       "6355  https://www.tapology.com/fightcenter/bouts/362-ufc-104-kyle-kingsbu-kingsbury-vs-razak-razor-al-...   \n",
       "6541  https://www.tapology.com/fightcenter/bouts/142-ufc-fight-night-16-steve-the-robot-cantwell-vs-ra...   \n",
       "\n",
       "           Fighter A  \\\n",
       "6355  Kyle Kingsbury   \n",
       "6541  Steve Cantwell   \n",
       "\n",
       "                                                                      Link A  \\\n",
       "6355            https://www.tapology.com/fightcenter/fighters/kyle-kingsbury   \n",
       "6541  https://www.tapology.com/fightcenter/fighters/steve-cantwell-the-robot   \n",
       "\n",
       "            Fighter B  \\\n",
       "6355  Razak Al-Hassan   \n",
       "6541  Razak Al-Hassan   \n",
       "\n",
       "                                                                   Link B  \\\n",
       "6355  https://www.tapology.com/fightcenter/fighters/razak-al-hassan-razor   \n",
       "6541  https://www.tapology.com/fightcenter/fighters/razak-al-hassan-razor   \n",
       "\n",
       "      Nickname A  Nickname B Record A Record B                    Odds A  ...  \\\n",
       "6355         NaN         NaN      8-2      7-2    -128 (Slight Favorite)  ...   \n",
       "6541         NaN         NaN      7-1      7-1  -318 (Moderate Favorite)  ...   \n",
       "\n",
       "                  Result                   Time Weightclass Rounds  \\\n",
       "6355     Decision, Split  3 Rounds, 15:00 Total       205.0  3 x 5   \n",
       "6541  Submission, Armbar      4:04 Round 1 of 3       205.0  3 x 5   \n",
       "\n",
       "                                                                               Event Link  \\\n",
       "6355                https://www.tapology.com/fightcenter/events/ufc-104-machida-vs-shogun   \n",
       "6541  https://www.tapology.com/fightcenter/events/ufc-fight-night-16-fight-for-the-troops   \n",
       "\n",
       "               Venue                  Date  \\\n",
       "6355  Staples Center   Saturday 10.24.2009   \n",
       "6541  Crown Coliseum  Wednesday 12.10.2008   \n",
       "\n",
       "                                         Location    Billing  \\\n",
       "6355       Los Angeles, California, United States     Prelim   \n",
       "6541  Fayetteville, North Carolina, United States  Main Card   \n",
       "\n",
       "                                    Event Name  \n",
       "6355                UFC 104: Machida vs Shogun  \n",
       "6541  UFC Fight Night 16: Fight for the Troops  \n",
       "\n",
       "[2 rows x 31 columns]"
      ]
     },
     "execution_count": 24,
     "metadata": {},
     "output_type": "execute_result"
    }
   ],
   "source": [
    "df[df[\"Fighter B\"] == \"Razak Al-Hassan\"]"
   ]
  },
  {
   "cell_type": "code",
   "execution_count": null,
   "id": "d165d6f0",
   "metadata": {},
   "outputs": [],
   "source": []
  }
 ],
 "metadata": {
  "kernelspec": {
   "display_name": "Python 3 (ipykernel)",
   "language": "python",
   "name": "python3"
  },
  "language_info": {
   "codemirror_mode": {
    "name": "ipython",
    "version": 3
   },
   "file_extension": ".py",
   "mimetype": "text/x-python",
   "name": "python",
   "nbconvert_exporter": "python",
   "pygments_lexer": "ipython3",
   "version": "3.11.4"
  }
 },
 "nbformat": 4,
 "nbformat_minor": 5
}
